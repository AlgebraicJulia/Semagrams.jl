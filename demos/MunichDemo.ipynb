{
 "cells": [
  {
   "cell_type": "code",
   "execution_count": 1,
   "id": "brown-lafayette",
   "metadata": {},
   "outputs": [],
   "source": [
    "]activate ."
   ]
  },
  {
   "cell_type": "code",
   "execution_count": 10,
   "id": "cleared-salvation",
   "metadata": {},
   "outputs": [],
   "source": [
    "using Revise, Semagrams, Catlab.Present, Catlab.CSetDataStructures, Catlab.CategoricalAlgebra.CSets"
   ]
  },
  {
   "cell_type": "code",
   "execution_count": 5,
   "id": "hazardous-vinyl",
   "metadata": {
    "collapsed": true,
    "jupyter": {
     "outputs_hidden": true
    }
   },
   "outputs": [
    {
     "data": {
      "text/plain": [
       "SemagramSchema(Dict{Symbol, BoxProperties}(:T => BoxProperties(Tuple{AttributeType, Symbol}[(Numeric, :rate), (Stringlike, :transitions_label)], Semagrams.Schema.OutgoingHom[], \"<polygon points=\\\"-40,-40 40,-40 40,40 -40,40\\\"></polygon>\", :transitions_label, \"(function (_){return {}})\"), :S => BoxProperties(Tuple{AttributeType, Symbol}[(Numeric, :concentration), (Stringlike, :species_label)], Semagrams.Schema.OutgoingHom[], \"<circle r=\\\"40\\\"></circle>\", :species_label, \"(function (_){return {}})\")), Dict{Symbol, PortProperties}(), Dict{Symbol, WireProperties}(:I => WireProperties(Tuple{AttributeType, Symbol}[], Semagrams.Schema.OutgoingHom[], (Semagrams.Schema.Box, :S), :is, (Semagrams.Schema.Box, :T), :it, \"DefaultWire\", \"(function (_){return {}})\"), :O => WireProperties(Tuple{AttributeType, Symbol}[], Semagrams.Schema.OutgoingHom[], (Semagrams.Schema.Box, :T), :ot, (Semagrams.Schema.Box, :S), :os, \"DefaultWire\", \"(function (_){return {}})\")))"
      ]
     },
     "execution_count": 5,
     "metadata": {},
     "output_type": "execute_result"
    }
   ],
   "source": [
    "@present TheoryReactionNet(FreeSchema) begin\n",
    "  (T,S,I,O)::Ob\n",
    "  it::Hom(I,T)\n",
    "  is::Hom(I,S)\n",
    "  ot::Hom(O,T)\n",
    "  os::Hom(O,S)\n",
    "  N::Data\n",
    "  L::Data\n",
    "  rate::Attr(T,N)\n",
    "  concentration::Attr(S,N)\n",
    "  species_label::Attr(S,L)\n",
    "  transitions_label::Attr(T,L)\n",
    "end\n",
    "\n",
    "const ReactionNet = ACSetType(TheoryReactionNet)\n",
    "\n",
    "@semagramschema ReactionNetSema(TheoryReactionNet) begin\n",
    "  @box S Circle label=:species_label\n",
    "  @box T Square label=:transitions_label\n",
    "  @wire I(is,it)\n",
    "  @wire O(ot,os)\n",
    "  @data N Numeric\n",
    "end"
   ]
  },
  {
   "cell_type": "code",
   "execution_count": 6,
   "id": "extended-panama",
   "metadata": {},
   "outputs": [
    {
     "data": {
      "application/vnd.webio.node+json": {
       "children": [
        {
         "children": [],
         "instanceArgs": {
          "namespace": "html",
          "tag": "div"
         },
         "nodeType": "DOM",
         "props": {},
         "type": "node"
        }
       ],
       "instanceArgs": {
        "handlers": {
         "sending": [
          "(function (newls){return this.state.resetWith(newls)})"
         ]
        },
        "id": "12704186428164430221",
        "imports": {
         "data": [
          {
           "name": "semagrams",
           "type": "js",
           "url": "/assetserver/74640911769d23a8720073ee5ce060b0d38d9b88-app.bundle.js"
          }
         ],
         "type": "async_block"
        },
        "mount_callbacks": [
         "(function (){var semagrams=System.registry.get(System.resolveSync(\"semagrams\")); var scopeobj=this; return setTimeout((function (){return semagrams.main(WebIO.getval({\"name\":\"receiving\",\"scope\":\"12704186428164430221\",\"id\":\"12371259590295539744\",\"type\":\"observable\"}),scopeobj,(function (x){return WebIO.setval({\"name\":\"receiving\",\"scope\":\"12704186428164430221\",\"id\":\"12371259590295539744\",\"type\":\"observable\"},x)}),(function (x){return WebIO.setval({\"name\":\"exported\",\"scope\":\"12704186428164430221\",\"id\":\"14883316394962354469\",\"type\":\"observable\"},x)}))}),20)})"
        ],
        "observables": {
         "exported": {
          "id": "14883316394962354469",
          "sync": false,
          "value": ""
         },
         "receiving": {
          "id": "12371259590295539744",
          "sync": false,
          "value": {
           "boxlocs": [],
           "sg": {
            "boxes": [],
            "gen": {
             "i": 0
            },
            "schema": {
             "box_types": {
              "S": {
               "homs": [],
               "label": "species_label",
               "shape": "<circle r=\"40\"></circle>",
               "style_fn": "(function (_){return {}})",
               "weights": [
                [
                 "Numeric",
                 "concentration"
                ],
                [
                 "Stringlike",
                 "species_label"
                ]
               ]
              },
              "T": {
               "homs": [],
               "label": "transitions_label",
               "shape": "<polygon points=\"-40,-40 40,-40 40,40 -40,40\"></polygon>",
               "style_fn": "(function (_){return {}})",
               "weights": [
                [
                 "Numeric",
                 "rate"
                ],
                [
                 "Stringlike",
                 "transitions_label"
                ]
               ]
              }
             },
             "port_types": {},
             "wire_types": {
              "I": {
               "homs": [],
               "src": [
                "Box",
                "S"
               ],
               "src_map": "is",
               "style": "DefaultWire",
               "style_fn": "(function (_){return {}})",
               "tgt": [
                "Box",
                "T"
               ],
               "tgt_map": "it",
               "weights": []
              },
              "O": {
               "homs": [],
               "src": [
                "Box",
                "T"
               ],
               "src_map": "ot",
               "style": "DefaultWire",
               "style_fn": "(function (_){return {}})",
               "tgt": [
                "Box",
                "S"
               ],
               "tgt_map": "os",
               "weights": []
              }
             }
            },
            "wires": []
           }
          }
         },
         "sending": {
          "id": "7859224526742444021",
          "sync": true,
          "value": {
           "boxlocs": [],
           "sg": {
            "boxes": [],
            "gen": {
             "i": 0
            },
            "schema": {
             "box_types": {
              "S": {
               "homs": [],
               "label": "species_label",
               "shape": "<circle r=\"40\"></circle>",
               "style_fn": "(function (_){return {}})",
               "weights": [
                [
                 "Numeric",
                 "concentration"
                ],
                [
                 "Stringlike",
                 "species_label"
                ]
               ]
              },
              "T": {
               "homs": [],
               "label": "transitions_label",
               "shape": "<polygon points=\"-40,-40 40,-40 40,40 -40,40\"></polygon>",
               "style_fn": "(function (_){return {}})",
               "weights": [
                [
                 "Numeric",
                 "rate"
                ],
                [
                 "Stringlike",
                 "transitions_label"
                ]
               ]
              }
             },
             "port_types": {},
             "wire_types": {
              "I": {
               "homs": [],
               "src": [
                "Box",
                "S"
               ],
               "src_map": "is",
               "style": "DefaultWire",
               "style_fn": "(function (_){return {}})",
               "tgt": [
                "Box",
                "T"
               ],
               "tgt_map": "it",
               "weights": []
              },
              "O": {
               "homs": [],
               "src": [
                "Box",
                "T"
               ],
               "src_map": "ot",
               "style": "DefaultWire",
               "style_fn": "(function (_){return {}})",
               "tgt": [
                "Box",
                "S"
               ],
               "tgt_map": "os",
               "weights": []
              }
             }
            },
            "wires": []
           }
          }
         }
        },
        "systemjs_options": null
       },
       "nodeType": "Scope",
       "props": {},
       "type": "node"
      },
      "text/html": [
       "<div\n",
       "    class=\"webio-mountpoint\"\n",
       "    data-webio-mountpoint=\"18356754496306566906\"\n",
       ">\n",
       "    <script>\n",
       "    if (window.require && require.defined && require.defined(\"nbextensions/webio-jupyter-notebook\")) {\n",
       "        console.log(\"Jupyter WebIO extension detected, not mounting.\");\n",
       "    } else if (window.WebIO) {\n",
       "        WebIO.mount(\n",
       "            document.querySelector('[data-webio-mountpoint=\"18356754496306566906\"]'),\n",
       "            {\"props\":{},\"nodeType\":\"Scope\",\"type\":\"node\",\"instanceArgs\":{\"imports\":{\"data\":[{\"name\":\"semagrams\",\"type\":\"js\",\"url\":\"\\/assetserver\\/74640911769d23a8720073ee5ce060b0d38d9b88-app.bundle.js\"}],\"type\":\"async_block\"},\"id\":\"12704186428164430221\",\"handlers\":{\"sending\":[\"(function (newls){return this.state.resetWith(newls)})\"]},\"systemjs_options\":null,\"mount_callbacks\":[\"(function (){var semagrams=System.registry.get(System.resolveSync(\\\"semagrams\\\")); var scopeobj=this; return setTimeout((function (){return semagrams.main(WebIO.getval({\\\"name\\\":\\\"receiving\\\",\\\"scope\\\":\\\"12704186428164430221\\\",\\\"id\\\":\\\"12371259590295539744\\\",\\\"type\\\":\\\"observable\\\"}),scopeobj,(function (x){return WebIO.setval({\\\"name\\\":\\\"receiving\\\",\\\"scope\\\":\\\"12704186428164430221\\\",\\\"id\\\":\\\"12371259590295539744\\\",\\\"type\\\":\\\"observable\\\"},x)}),(function (x){return WebIO.setval({\\\"name\\\":\\\"exported\\\",\\\"scope\\\":\\\"12704186428164430221\\\",\\\"id\\\":\\\"14883316394962354469\\\",\\\"type\\\":\\\"observable\\\"},x)}))}),20)})\"],\"observables\":{\"sending\":{\"sync\":true,\"id\":\"7859224526742444021\",\"value\":{\"sg\":{\"gen\":{\"i\":0},\"boxes\":[],\"schema\":{\"box_types\":{\"S\":{\"label\":\"species_label\",\"shape\":\"<circle r=\\\"40\\\"><\\/circle>\",\"homs\":[],\"weights\":[[\"Numeric\",\"concentration\"],[\"Stringlike\",\"species_label\"]],\"style_fn\":\"(function (_){return {}})\"},\"T\":{\"label\":\"transitions_label\",\"shape\":\"<polygon points=\\\"-40,-40 40,-40 40,40 -40,40\\\"><\\/polygon>\",\"homs\":[],\"weights\":[[\"Numeric\",\"rate\"],[\"Stringlike\",\"transitions_label\"]],\"style_fn\":\"(function (_){return {}})\"}},\"wire_types\":{\"I\":{\"src_map\":\"is\",\"homs\":[],\"weights\":[],\"style\":\"DefaultWire\",\"src\":[\"Box\",\"S\"],\"tgt\":[\"Box\",\"T\"],\"tgt_map\":\"it\",\"style_fn\":\"(function (_){return {}})\"},\"O\":{\"src_map\":\"ot\",\"homs\":[],\"weights\":[],\"style\":\"DefaultWire\",\"src\":[\"Box\",\"T\"],\"tgt\":[\"Box\",\"S\"],\"tgt_map\":\"os\",\"style_fn\":\"(function (_){return {}})\"}},\"port_types\":{}},\"wires\":[]},\"boxlocs\":[]}},\"exported\":{\"sync\":false,\"id\":\"14883316394962354469\",\"value\":\"\"},\"receiving\":{\"sync\":false,\"id\":\"12371259590295539744\",\"value\":{\"sg\":{\"gen\":{\"i\":0},\"boxes\":[],\"schema\":{\"box_types\":{\"S\":{\"label\":\"species_label\",\"shape\":\"<circle r=\\\"40\\\"><\\/circle>\",\"homs\":[],\"weights\":[[\"Numeric\",\"concentration\"],[\"Stringlike\",\"species_label\"]],\"style_fn\":\"(function (_){return {}})\"},\"T\":{\"label\":\"transitions_label\",\"shape\":\"<polygon points=\\\"-40,-40 40,-40 40,40 -40,40\\\"><\\/polygon>\",\"homs\":[],\"weights\":[[\"Numeric\",\"rate\"],[\"Stringlike\",\"transitions_label\"]],\"style_fn\":\"(function (_){return {}})\"}},\"wire_types\":{\"I\":{\"src_map\":\"is\",\"homs\":[],\"weights\":[],\"style\":\"DefaultWire\",\"src\":[\"Box\",\"S\"],\"tgt\":[\"Box\",\"T\"],\"tgt_map\":\"it\",\"style_fn\":\"(function (_){return {}})\"},\"O\":{\"src_map\":\"ot\",\"homs\":[],\"weights\":[],\"style\":\"DefaultWire\",\"src\":[\"Box\",\"T\"],\"tgt\":[\"Box\",\"S\"],\"tgt_map\":\"os\",\"style_fn\":\"(function (_){return {}})\"}},\"port_types\":{}},\"wires\":[]},\"boxlocs\":[]}}}},\"children\":[{\"props\":{},\"nodeType\":\"DOM\",\"type\":\"node\",\"instanceArgs\":{\"namespace\":\"html\",\"tag\":\"div\"},\"children\":[]}]},\n",
       "            window,\n",
       "        );\n",
       "    } else {\n",
       "        document\n",
       "            .querySelector('[data-webio-mountpoint=\"18356754496306566906\"]')\n",
       "            .innerHTML = (\n",
       "                '<div style=\"padding: 1em; background-color: #f8d6da; border: 1px solid #f5c6cb\">' +\n",
       "                '<p><strong>WebIO not detected.</strong></p>' +\n",
       "                '<p>Please read ' +\n",
       "                '<a href=\"https://juliagizmos.github.io/WebIO.jl/latest/troubleshooting/not-detected/\" target=\"_blank\">the troubleshooting guide</a> ' +\n",
       "                'for more information on how to resolve this issue.</p>' +\n",
       "                '<p><a href=\"https://juliagizmos.github.io/WebIO.jl/latest/troubleshooting/not-detected/\" target=\"_blank\">https://juliagizmos.github.io/WebIO.jl/latest/troubleshooting/not-detected/</a></p>' +\n",
       "                '</div>'\n",
       "            );\n",
       "    }\n",
       "    </script>\n",
       "</div>\n"
      ],
      "text/plain": [
       "Semagram{Catlab.CSetDataStructures.AttributedCSet{Catlab.Theories.CatDesc{(:T, :S, :I, :O), (:it, :is, :ot, :os), (3, 3, 4, 4), (1, 2, 1, 2)}, Catlab.Theories.AttrDesc{Catlab.Theories.CatDesc{(:T, :S, :I, :O), (:it, :is, :ot, :os), (3, 3, 4, 4), (1, 2, 1, 2)}, (:N, :L), (:rate, :concentration, :species_label, :transitions_label), (1, 2, 2, 1), (1, 1, 2, 2)}, Tuple{Float64, String}, (), (), Tables, Indices} where {Tables<:NamedTuple, Indices<:NamedTuple}}(WebIO.Scope(WebIO.Node{WebIO.DOM}(WebIO.DOM(:html, :div), Any[], Dict{Symbol, Any}()), Dict{String, Tuple{Observables.AbstractObservable, Union{Nothing, Bool}}}(\"sending\" => (Observable{Dict{String, Any}} with 2 listeners. Value:\n",
       "Dict{String, Any}(\"sg\" => Dict{String, Any}(\"gen\" => Dict(\"i\" => 0), \"boxes\" => Tuple{Int64, Dict{_A, _B} where {_A, _B}}[], \"schema\" => Dict{String, Dict}(\"box_types\" => Dict{String, Dict{String, Any}}(\"S\" => Dict(\"label\" => \"species_label\", \"shape\" => \"<circle r=\\\"40\\\"></circle>\", \"homs\" => Any[], \"weights\" => Tuple{AttributeType, Symbol}[(Numeric, :concentration), (Stringlike, :species_label)], \"style_fn\" => \"(function (_){return {}})\"), \"T\" => Dict(\"label\" => \"transitions_label\", \"shape\" => \"<polygon points=\\\"-40,-40 40,-40 40,40 -40,40\\\"></polygon>\", \"homs\" => Any[], \"weights\" => Tuple{AttributeType, Symbol}[(Numeric, :rate), (Stringlike, :transitions_label)], \"style_fn\" => \"(function (_){return {}})\")), \"wire_types\" => Dict{String, Dict{String, Any}}(\"I\" => Dict(\"src_map\" => \"is\", \"homs\" => Any[], \"weights\" => Tuple{AttributeType, Symbol}[], \"style\" => \"DefaultWire\", \"src\" => (Semagrams.Schema.Box, :S), \"tgt\" => (Semagrams.Schema.Box, :T), \"tgt_map\" => \"it\", \"style_fn\" => \"(function (_){return {}})\"), \"O\" => Dict(\"src_map\" => \"ot\", \"homs\" => Any[], \"weights\" => Tuple{AttributeType, Symbol}[], \"style\" => \"DefaultWire\", \"src\" => (Semagrams.Schema.Box, :T), \"tgt\" => (Semagrams.Schema.Box, :S), \"tgt_map\" => \"os\", \"style_fn\" => \"(function (_){return {}})\")), \"port_types\" => Dict{Any, Any}()), \"wires\" => Tuple{Int64, Dict{_A, _B} where {_A, _B}}[]), \"boxlocs\" => Tuple{Int64, Tuple{Float64, Float64}}[]), nothing), \"exported\" => (Observable{String} with 0 listeners. Value:\n",
       "\"\", nothing), \"receiving\" => (Observable{Dict{String, Any}} with 0 listeners. Value:\n",
       "Dict{String, Any}(\"sg\" => Dict{String, Any}(\"gen\" => Dict(\"i\" => 0), \"boxes\" => Tuple{Int64, Dict{_A, _B} where {_A, _B}}[], \"schema\" => Dict{String, Dict}(\"box_types\" => Dict{String, Dict{String, Any}}(\"S\" => Dict(\"label\" => \"species_label\", \"shape\" => \"<circle r=\\\"40\\\"></circle>\", \"homs\" => Any[], \"weights\" => Tuple{AttributeType, Symbol}[(Numeric, :concentration), (Stringlike, :species_label)], \"style_fn\" => \"(function (_){return {}})\"), \"T\" => Dict(\"label\" => \"transitions_label\", \"shape\" => \"<polygon points=\\\"-40,-40 40,-40 40,40 -40,40\\\"></polygon>\", \"homs\" => Any[], \"weights\" => Tuple{AttributeType, Symbol}[(Numeric, :rate), (Stringlike, :transitions_label)], \"style_fn\" => \"(function (_){return {}})\")), \"wire_types\" => Dict{String, Dict{String, Any}}(\"I\" => Dict(\"src_map\" => \"is\", \"homs\" => Any[], \"weights\" => Tuple{AttributeType, Symbol}[], \"style\" => \"DefaultWire\", \"src\" => (Semagrams.Schema.Box, :S), \"tgt\" => (Semagrams.Schema.Box, :T), \"tgt_map\" => \"it\", \"style_fn\" => \"(function (_){return {}})\"), \"O\" => Dict(\"src_map\" => \"ot\", \"homs\" => Any[], \"weights\" => Tuple{AttributeType, Symbol}[], \"style\" => \"DefaultWire\", \"src\" => (Semagrams.Schema.Box, :T), \"tgt\" => (Semagrams.Schema.Box, :S), \"tgt_map\" => \"os\", \"style_fn\" => \"(function (_){return {}})\")), \"port_types\" => Dict{Any, Any}()), \"wires\" => Tuple{Int64, Dict{_A, _B} where {_A, _B}}[]), \"boxlocs\" => Tuple{Int64, Tuple{Float64, Float64}}[]), nothing)), Set{String}(), nothing, WebIO.Asset[WebIO.Asset(\"js\", \"semagrams\", \"/home/o/g/Semagrams.jl/src/../deps/bundles/app.bundle.js\")], Dict{Any, Any}(\"sending\" => Any[WebIO.JSString(\"(function (newls){return this.state.resetWith(newls)})\")]), WebIO.ConnectionPool(Channel{Any}(32), Set{WebIO.AbstractConnection}(), Condition(Base.InvasiveLinkedList{Task}(Task (runnable) @0x00007fc8967728c0, Task (runnable) @0x00007fc8967728c0), Base.AlwaysLockedST(1))), WebIO.JSString[WebIO.JSString(\"(function (){var semagrams=System.registry.get(System.resolveSync(\\\"semagrams\\\")); var scopeobj=this; return setTimeout((function (){return semagrams.main(WebIO.getval({\\\"name\\\":\\\"receiving\\\",\\\"scope\\\":\\\"12704186428164430221\\\",\\\"id\\\":\\\"12371259590295539744\\\",\\\"type\\\":\\\"observable\\\"}),scopeobj,(function (x){return WebIO.setval({\\\"name\\\":\\\"receiving\\\",\\\"scope\\\":\\\"12704186428164430221\\\",\\\"id\\\":\\\"12371259590295539744\\\",\\\"type\\\":\\\"observable\\\"},x)}),(function (x){return WebIO.setval({\\\"name\\\":\\\"exported\\\",\\\"scope\\\":\\\"12704186428164430221\\\",\\\"id\\\":\\\"14883316394962354469\\\",\\\"type\\\":\\\"observable\\\"},x)}))}),20)})\")]), Observable{Dict{String, Any}} with 0 listeners. Value:\n",
       "Dict{String, Any}(\"sg\" => Dict{String, Any}(\"gen\" => Dict(\"i\" => 0), \"boxes\" => Tuple{Int64, Dict{_A, _B} where {_A, _B}}[], \"schema\" => Dict{String, Dict}(\"box_types\" => Dict{String, Dict{String, Any}}(\"S\" => Dict(\"label\" => \"species_label\", \"shape\" => \"<circle r=\\\"40\\\"></circle>\", \"homs\" => Any[], \"weights\" => Tuple{AttributeType, Symbol}[(Numeric, :concentration), (Stringlike, :species_label)], \"style_fn\" => \"(function (_){return {}})\"), \"T\" => Dict(\"label\" => \"transitions_label\", \"shape\" => \"<polygon points=\\\"-40,-40 40,-40 40,40 -40,40\\\"></polygon>\", \"homs\" => Any[], \"weights\" => Tuple{AttributeType, Symbol}[(Numeric, :rate), (Stringlike, :transitions_label)], \"style_fn\" => \"(function (_){return {}})\")), \"wire_types\" => Dict{String, Dict{String, Any}}(\"I\" => Dict(\"src_map\" => \"is\", \"homs\" => Any[], \"weights\" => Tuple{AttributeType, Symbol}[], \"style\" => \"DefaultWire\", \"src\" => (Semagrams.Schema.Box, :S), \"tgt\" => (Semagrams.Schema.Box, :T), \"tgt_map\" => \"it\", \"style_fn\" => \"(function (_){return {}})\"), \"O\" => Dict(\"src_map\" => \"ot\", \"homs\" => Any[], \"weights\" => Tuple{AttributeType, Symbol}[], \"style\" => \"DefaultWire\", \"src\" => (Semagrams.Schema.Box, :T), \"tgt\" => (Semagrams.Schema.Box, :S), \"tgt_map\" => \"os\", \"style_fn\" => \"(function (_){return {}})\")), \"port_types\" => Dict{Any, Any}()), \"wires\" => Tuple{Int64, Dict{_A, _B} where {_A, _B}}[]), \"boxlocs\" => Tuple{Int64, Tuple{Float64, Float64}}[]), Observable{Dict{String, Any}} with 2 listeners. Value:\n",
       "Dict{String, Any}(\"sg\" => Dict{String, Any}(\"gen\" => Dict(\"i\" => 0), \"boxes\" => Tuple{Int64, Dict{_A, _B} where {_A, _B}}[], \"schema\" => Dict{String, Dict}(\"box_types\" => Dict{String, Dict{String, Any}}(\"S\" => Dict(\"label\" => \"species_label\", \"shape\" => \"<circle r=\\\"40\\\"></circle>\", \"homs\" => Any[], \"weights\" => Tuple{AttributeType, Symbol}[(Numeric, :concentration), (Stringlike, :species_label)], \"style_fn\" => \"(function (_){return {}})\"), \"T\" => Dict(\"label\" => \"transitions_label\", \"shape\" => \"<polygon points=\\\"-40,-40 40,-40 40,40 -40,40\\\"></polygon>\", \"homs\" => Any[], \"weights\" => Tuple{AttributeType, Symbol}[(Numeric, :rate), (Stringlike, :transitions_label)], \"style_fn\" => \"(function (_){return {}})\")), \"wire_types\" => Dict{String, Dict{String, Any}}(\"I\" => Dict(\"src_map\" => \"is\", \"homs\" => Any[], \"weights\" => Tuple{AttributeType, Symbol}[], \"style\" => \"DefaultWire\", \"src\" => (Semagrams.Schema.Box, :S), \"tgt\" => (Semagrams.Schema.Box, :T), \"tgt_map\" => \"it\", \"style_fn\" => \"(function (_){return {}})\"), \"O\" => Dict(\"src_map\" => \"ot\", \"homs\" => Any[], \"weights\" => Tuple{AttributeType, Symbol}[], \"style\" => \"DefaultWire\", \"src\" => (Semagrams.Schema.Box, :T), \"tgt\" => (Semagrams.Schema.Box, :S), \"tgt_map\" => \"os\", \"style_fn\" => \"(function (_){return {}})\")), \"port_types\" => Dict{Any, Any}()), \"wires\" => Tuple{Int64, Dict{_A, _B} where {_A, _B}}[]), \"boxlocs\" => Tuple{Int64, Tuple{Float64, Float64}}[]), Observable{String} with 0 listeners. Value:\n",
       "\"\")"
      ]
     },
     "execution_count": 6,
     "metadata": {
      "@webio": {
       "kernelId": "3bd8172a-3ece-4a6f-a71b-aa84fa8741d9"
      }
     },
     "output_type": "execute_result"
    }
   ],
   "source": [
    "net = Semagram{ReactionNet{Float64,String}}(ReactionNetSema)"
   ]
  },
  {
   "cell_type": "code",
   "execution_count": 7,
   "id": "floating-deputy",
   "metadata": {},
   "outputs": [
    {
     "data": {
      "text/plain": [
       "SemagramSchema(Dict{Symbol, BoxProperties}(:Box => BoxProperties(Tuple{AttributeType, Symbol}[], Semagrams.Schema.OutgoingHom[], \"<circle r=\\\"40\\\"></circle>\", nothing, \"(function (_){return {}})\")), Dict{Symbol, PortProperties}(:Port => PortProperties(Tuple{AttributeType, Symbol}[(Stringlike, :V)], Semagrams.Schema.OutgoingHom[], :Box, :box, \"Circular\", \"(function (_){return {}})\")), Dict{Symbol, WireProperties}(:Wire => WireProperties(Tuple{AttributeType, Symbol}[(Stringlike, :R)], Semagrams.Schema.OutgoingHom[], (Semagrams.Schema.Port, :Port), :src, (Semagrams.Schema.Port, :Port), :tgt, \"DefaultWire\", \"(function (_){return {}})\")))"
      ]
     },
     "execution_count": 7,
     "metadata": {},
     "output_type": "execute_result"
    }
   ],
   "source": [
    "@present TheoryCircuitGraph(FreeSchema) begin\n",
    "  Box::Ob\n",
    "  Port::Ob\n",
    "  Wire::Ob\n",
    "  box::Hom(Port,Box)\n",
    "  src::Hom(Wire,Port)\n",
    "  tgt::Hom(Wire,Port)\n",
    "\n",
    "  Resistance::Data\n",
    "  R::Attr(Wire, Resistance)\n",
    "  Voltage::Data\n",
    "  V::Attr(Port, Voltage)\n",
    "end\n",
    "\n",
    "const CircuitGraph = ACSetType(TheoryCircuitGraph)\n",
    "\n",
    "@semagramschema CircuitGraphSema(TheoryCircuitGraph) begin\n",
    "  @box Box Circle\n",
    "  @port Port(box) style=\"Circular\"\n",
    "  @wire Wire(src, tgt)\n",
    "  @data Resistance Stringlike\n",
    "  @data Voltage Stringlike\n",
    "end"
   ]
  },
  {
   "cell_type": "code",
   "execution_count": 8,
   "id": "designed-writer",
   "metadata": {},
   "outputs": [
    {
     "data": {
      "application/vnd.webio.node+json": {
       "children": [
        {
         "children": [],
         "instanceArgs": {
          "namespace": "html",
          "tag": "div"
         },
         "nodeType": "DOM",
         "props": {},
         "type": "node"
        }
       ],
       "instanceArgs": {
        "handlers": {
         "sending": [
          "(function (newls){return this.state.resetWith(newls)})"
         ]
        },
        "id": "7134020197785799497",
        "imports": {
         "data": [
          {
           "name": "semagrams",
           "type": "js",
           "url": "/assetserver/74640911769d23a8720073ee5ce060b0d38d9b88-app.bundle.js"
          }
         ],
         "type": "async_block"
        },
        "mount_callbacks": [
         "(function (){var semagrams=System.registry.get(System.resolveSync(\"semagrams\")); var scopeobj=this; return setTimeout((function (){return semagrams.main(WebIO.getval({\"name\":\"receiving\",\"scope\":\"7134020197785799497\",\"id\":\"17410967267949883917\",\"type\":\"observable\"}),scopeobj,(function (x){return WebIO.setval({\"name\":\"receiving\",\"scope\":\"7134020197785799497\",\"id\":\"17410967267949883917\",\"type\":\"observable\"},x)}),(function (x){return WebIO.setval({\"name\":\"exported\",\"scope\":\"7134020197785799497\",\"id\":\"293067554195083512\",\"type\":\"observable\"},x)}))}),20)})"
        ],
        "observables": {
         "exported": {
          "id": "293067554195083512",
          "sync": false,
          "value": ""
         },
         "receiving": {
          "id": "17410967267949883917",
          "sync": false,
          "value": {
           "boxlocs": [],
           "sg": {
            "boxes": [],
            "gen": {
             "i": 0
            },
            "schema": {
             "box_types": {
              "Box": {
               "homs": [],
               "label": null,
               "shape": "<circle r=\"40\"></circle>",
               "style_fn": "(function (_){return {}})",
               "weights": []
              }
             },
             "port_types": {
              "Port": {
               "box": "Box",
               "box_map": "box",
               "homs": [],
               "style": "Circular",
               "style_fn": "(function (_){return {}})",
               "weights": [
                [
                 "Stringlike",
                 "V"
                ]
               ]
              }
             },
             "wire_types": {
              "Wire": {
               "homs": [],
               "src": [
                "Port",
                "Port"
               ],
               "src_map": "src",
               "style": "DefaultWire",
               "style_fn": "(function (_){return {}})",
               "tgt": [
                "Port",
                "Port"
               ],
               "tgt_map": "tgt",
               "weights": [
                [
                 "Stringlike",
                 "R"
                ]
               ]
              }
             }
            },
            "wires": []
           }
          }
         },
         "sending": {
          "id": "12490596759347256069",
          "sync": true,
          "value": {
           "boxlocs": [],
           "sg": {
            "boxes": [],
            "gen": {
             "i": 0
            },
            "schema": {
             "box_types": {
              "Box": {
               "homs": [],
               "label": null,
               "shape": "<circle r=\"40\"></circle>",
               "style_fn": "(function (_){return {}})",
               "weights": []
              }
             },
             "port_types": {
              "Port": {
               "box": "Box",
               "box_map": "box",
               "homs": [],
               "style": "Circular",
               "style_fn": "(function (_){return {}})",
               "weights": [
                [
                 "Stringlike",
                 "V"
                ]
               ]
              }
             },
             "wire_types": {
              "Wire": {
               "homs": [],
               "src": [
                "Port",
                "Port"
               ],
               "src_map": "src",
               "style": "DefaultWire",
               "style_fn": "(function (_){return {}})",
               "tgt": [
                "Port",
                "Port"
               ],
               "tgt_map": "tgt",
               "weights": [
                [
                 "Stringlike",
                 "R"
                ]
               ]
              }
             }
            },
            "wires": []
           }
          }
         }
        },
        "systemjs_options": null
       },
       "nodeType": "Scope",
       "props": {},
       "type": "node"
      },
      "text/html": [
       "<div\n",
       "    class=\"webio-mountpoint\"\n",
       "    data-webio-mountpoint=\"2236008154624872456\"\n",
       ">\n",
       "    <script>\n",
       "    if (window.require && require.defined && require.defined(\"nbextensions/webio-jupyter-notebook\")) {\n",
       "        console.log(\"Jupyter WebIO extension detected, not mounting.\");\n",
       "    } else if (window.WebIO) {\n",
       "        WebIO.mount(\n",
       "            document.querySelector('[data-webio-mountpoint=\"2236008154624872456\"]'),\n",
       "            {\"props\":{},\"nodeType\":\"Scope\",\"type\":\"node\",\"instanceArgs\":{\"imports\":{\"data\":[{\"name\":\"semagrams\",\"type\":\"js\",\"url\":\"\\/assetserver\\/74640911769d23a8720073ee5ce060b0d38d9b88-app.bundle.js\"}],\"type\":\"async_block\"},\"id\":\"7134020197785799497\",\"handlers\":{\"sending\":[\"(function (newls){return this.state.resetWith(newls)})\"]},\"systemjs_options\":null,\"mount_callbacks\":[\"(function (){var semagrams=System.registry.get(System.resolveSync(\\\"semagrams\\\")); var scopeobj=this; return setTimeout((function (){return semagrams.main(WebIO.getval({\\\"name\\\":\\\"receiving\\\",\\\"scope\\\":\\\"7134020197785799497\\\",\\\"id\\\":\\\"17410967267949883917\\\",\\\"type\\\":\\\"observable\\\"}),scopeobj,(function (x){return WebIO.setval({\\\"name\\\":\\\"receiving\\\",\\\"scope\\\":\\\"7134020197785799497\\\",\\\"id\\\":\\\"17410967267949883917\\\",\\\"type\\\":\\\"observable\\\"},x)}),(function (x){return WebIO.setval({\\\"name\\\":\\\"exported\\\",\\\"scope\\\":\\\"7134020197785799497\\\",\\\"id\\\":\\\"293067554195083512\\\",\\\"type\\\":\\\"observable\\\"},x)}))}),20)})\"],\"observables\":{\"sending\":{\"sync\":true,\"id\":\"12490596759347256069\",\"value\":{\"sg\":{\"gen\":{\"i\":0},\"boxes\":[],\"schema\":{\"box_types\":{\"Box\":{\"label\":null,\"shape\":\"<circle r=\\\"40\\\"><\\/circle>\",\"homs\":[],\"weights\":[],\"style_fn\":\"(function (_){return {}})\"}},\"wire_types\":{\"Wire\":{\"src_map\":\"src\",\"homs\":[],\"weights\":[[\"Stringlike\",\"R\"]],\"style\":\"DefaultWire\",\"src\":[\"Port\",\"Port\"],\"tgt\":[\"Port\",\"Port\"],\"tgt_map\":\"tgt\",\"style_fn\":\"(function (_){return {}})\"}},\"port_types\":{\"Port\":{\"homs\":[],\"weights\":[[\"Stringlike\",\"V\"]],\"box\":\"Box\",\"style\":\"Circular\",\"style_fn\":\"(function (_){return {}})\",\"box_map\":\"box\"}}},\"wires\":[]},\"boxlocs\":[]}},\"exported\":{\"sync\":false,\"id\":\"293067554195083512\",\"value\":\"\"},\"receiving\":{\"sync\":false,\"id\":\"17410967267949883917\",\"value\":{\"sg\":{\"gen\":{\"i\":0},\"boxes\":[],\"schema\":{\"box_types\":{\"Box\":{\"label\":null,\"shape\":\"<circle r=\\\"40\\\"><\\/circle>\",\"homs\":[],\"weights\":[],\"style_fn\":\"(function (_){return {}})\"}},\"wire_types\":{\"Wire\":{\"src_map\":\"src\",\"homs\":[],\"weights\":[[\"Stringlike\",\"R\"]],\"style\":\"DefaultWire\",\"src\":[\"Port\",\"Port\"],\"tgt\":[\"Port\",\"Port\"],\"tgt_map\":\"tgt\",\"style_fn\":\"(function (_){return {}})\"}},\"port_types\":{\"Port\":{\"homs\":[],\"weights\":[[\"Stringlike\",\"V\"]],\"box\":\"Box\",\"style\":\"Circular\",\"style_fn\":\"(function (_){return {}})\",\"box_map\":\"box\"}}},\"wires\":[]},\"boxlocs\":[]}}}},\"children\":[{\"props\":{},\"nodeType\":\"DOM\",\"type\":\"node\",\"instanceArgs\":{\"namespace\":\"html\",\"tag\":\"div\"},\"children\":[]}]},\n",
       "            window,\n",
       "        );\n",
       "    } else {\n",
       "        document\n",
       "            .querySelector('[data-webio-mountpoint=\"2236008154624872456\"]')\n",
       "            .innerHTML = (\n",
       "                '<div style=\"padding: 1em; background-color: #f8d6da; border: 1px solid #f5c6cb\">' +\n",
       "                '<p><strong>WebIO not detected.</strong></p>' +\n",
       "                '<p>Please read ' +\n",
       "                '<a href=\"https://juliagizmos.github.io/WebIO.jl/latest/troubleshooting/not-detected/\" target=\"_blank\">the troubleshooting guide</a> ' +\n",
       "                'for more information on how to resolve this issue.</p>' +\n",
       "                '<p><a href=\"https://juliagizmos.github.io/WebIO.jl/latest/troubleshooting/not-detected/\" target=\"_blank\">https://juliagizmos.github.io/WebIO.jl/latest/troubleshooting/not-detected/</a></p>' +\n",
       "                '</div>'\n",
       "            );\n",
       "    }\n",
       "    </script>\n",
       "</div>\n"
      ],
      "text/plain": [
       "Semagram{Catlab.CSetDataStructures.AttributedCSet{Catlab.Theories.CatDesc{(:Box, :Port, :Wire), (:box, :src, :tgt), (2, 3, 3), (1, 2, 2)}, Catlab.Theories.AttrDesc{Catlab.Theories.CatDesc{(:Box, :Port, :Wire), (:box, :src, :tgt), (2, 3, 3), (1, 2, 2)}, (:Resistance, :Voltage), (:R, :V), (3, 2), (1, 2)}, Tuple{Float64, Float64}, (), (), Tables, Indices} where {Tables<:NamedTuple, Indices<:NamedTuple}}(WebIO.Scope(WebIO.Node{WebIO.DOM}(WebIO.DOM(:html, :div), Any[], Dict{Symbol, Any}()), Dict{String, Tuple{Observables.AbstractObservable, Union{Nothing, Bool}}}(\"sending\" => (Observable{Dict{String, Any}} with 2 listeners. Value:\n",
       "Dict{String, Any}(\"sg\" => Dict{String, Any}(\"gen\" => Dict(\"i\" => 0), \"boxes\" => Tuple{Int64, Dict{_A, _B} where {_A, _B}}[], \"schema\" => Dict{String, Dict{String, Dict{String, Any}}}(\"box_types\" => Dict(\"Box\" => Dict(\"label\" => nothing, \"shape\" => \"<circle r=\\\"40\\\"></circle>\", \"homs\" => Any[], \"weights\" => Tuple{AttributeType, Symbol}[], \"style_fn\" => \"(function (_){return {}})\")), \"wire_types\" => Dict(\"Wire\" => Dict(\"src_map\" => \"src\", \"homs\" => Any[], \"weights\" => Tuple{AttributeType, Symbol}[(Stringlike, :R)], \"style\" => \"DefaultWire\", \"src\" => (Semagrams.Schema.Port, :Port), \"tgt\" => (Semagrams.Schema.Port, :Port), \"tgt_map\" => \"tgt\", \"style_fn\" => \"(function (_){return {}})\")), \"port_types\" => Dict(\"Port\" => Dict(\"homs\" => Any[], \"weights\" => Tuple{AttributeType, Symbol}[(Stringlike, :V)], \"box\" => \"Box\", \"style\" => \"Circular\", \"style_fn\" => \"(function (_){return {}})\", \"box_map\" => \"box\"))), \"wires\" => Tuple{Int64, Dict{_A, _B} where {_A, _B}}[]), \"boxlocs\" => Tuple{Int64, Tuple{Float64, Float64}}[]), nothing), \"exported\" => (Observable{String} with 0 listeners. Value:\n",
       "\"\", nothing), \"receiving\" => (Observable{Dict{String, Any}} with 0 listeners. Value:\n",
       "Dict{String, Any}(\"sg\" => Dict{String, Any}(\"gen\" => Dict(\"i\" => 0), \"boxes\" => Tuple{Int64, Dict{_A, _B} where {_A, _B}}[], \"schema\" => Dict{String, Dict{String, Dict{String, Any}}}(\"box_types\" => Dict(\"Box\" => Dict(\"label\" => nothing, \"shape\" => \"<circle r=\\\"40\\\"></circle>\", \"homs\" => Any[], \"weights\" => Tuple{AttributeType, Symbol}[], \"style_fn\" => \"(function (_){return {}})\")), \"wire_types\" => Dict(\"Wire\" => Dict(\"src_map\" => \"src\", \"homs\" => Any[], \"weights\" => Tuple{AttributeType, Symbol}[(Stringlike, :R)], \"style\" => \"DefaultWire\", \"src\" => (Semagrams.Schema.Port, :Port), \"tgt\" => (Semagrams.Schema.Port, :Port), \"tgt_map\" => \"tgt\", \"style_fn\" => \"(function (_){return {}})\")), \"port_types\" => Dict(\"Port\" => Dict(\"homs\" => Any[], \"weights\" => Tuple{AttributeType, Symbol}[(Stringlike, :V)], \"box\" => \"Box\", \"style\" => \"Circular\", \"style_fn\" => \"(function (_){return {}})\", \"box_map\" => \"box\"))), \"wires\" => Tuple{Int64, Dict{_A, _B} where {_A, _B}}[]), \"boxlocs\" => Tuple{Int64, Tuple{Float64, Float64}}[]), nothing)), Set{String}(), nothing, WebIO.Asset[WebIO.Asset(\"js\", \"semagrams\", \"/home/o/g/Semagrams.jl/src/../deps/bundles/app.bundle.js\")], Dict{Any, Any}(\"sending\" => Any[WebIO.JSString(\"(function (newls){return this.state.resetWith(newls)})\")]), WebIO.ConnectionPool(Channel{Any}(32), Set{WebIO.AbstractConnection}(), Condition(Base.InvasiveLinkedList{Task}(Task (runnable) @0x00007fc897203dc0, Task (runnable) @0x00007fc897203dc0), Base.AlwaysLockedST(1))), WebIO.JSString[WebIO.JSString(\"(function (){var semagrams=System.registry.get(System.resolveSync(\\\"semagrams\\\")); var scopeobj=this; return setTimeout((function (){return semagrams.main(WebIO.getval({\\\"name\\\":\\\"receiving\\\",\\\"scope\\\":\\\"7134020197785799497\\\",\\\"id\\\":\\\"17410967267949883917\\\",\\\"type\\\":\\\"observable\\\"}),scopeobj,(function (x){return WebIO.setval({\\\"name\\\":\\\"receiving\\\",\\\"scope\\\":\\\"7134020197785799497\\\",\\\"id\\\":\\\"17410967267949883917\\\",\\\"type\\\":\\\"observable\\\"},x)}),(function (x){return WebIO.setval({\\\"name\\\":\\\"exported\\\",\\\"scope\\\":\\\"7134020197785799497\\\",\\\"id\\\":\\\"293067554195083512\\\",\\\"type\\\":\\\"observable\\\"},x)}))}),20)})\")]), Observable{Dict{String, Any}} with 0 listeners. Value:\n",
       "Dict{String, Any}(\"sg\" => Dict{String, Any}(\"gen\" => Dict(\"i\" => 0), \"boxes\" => Tuple{Int64, Dict{_A, _B} where {_A, _B}}[], \"schema\" => Dict{String, Dict{String, Dict{String, Any}}}(\"box_types\" => Dict(\"Box\" => Dict(\"label\" => nothing, \"shape\" => \"<circle r=\\\"40\\\"></circle>\", \"homs\" => Any[], \"weights\" => Tuple{AttributeType, Symbol}[], \"style_fn\" => \"(function (_){return {}})\")), \"wire_types\" => Dict(\"Wire\" => Dict(\"src_map\" => \"src\", \"homs\" => Any[], \"weights\" => Tuple{AttributeType, Symbol}[(Stringlike, :R)], \"style\" => \"DefaultWire\", \"src\" => (Semagrams.Schema.Port, :Port), \"tgt\" => (Semagrams.Schema.Port, :Port), \"tgt_map\" => \"tgt\", \"style_fn\" => \"(function (_){return {}})\")), \"port_types\" => Dict(\"Port\" => Dict(\"homs\" => Any[], \"weights\" => Tuple{AttributeType, Symbol}[(Stringlike, :V)], \"box\" => \"Box\", \"style\" => \"Circular\", \"style_fn\" => \"(function (_){return {}})\", \"box_map\" => \"box\"))), \"wires\" => Tuple{Int64, Dict{_A, _B} where {_A, _B}}[]), \"boxlocs\" => Tuple{Int64, Tuple{Float64, Float64}}[]), Observable{Dict{String, Any}} with 2 listeners. Value:\n",
       "Dict{String, Any}(\"sg\" => Dict{String, Any}(\"gen\" => Dict(\"i\" => 0), \"boxes\" => Tuple{Int64, Dict{_A, _B} where {_A, _B}}[], \"schema\" => Dict{String, Dict{String, Dict{String, Any}}}(\"box_types\" => Dict(\"Box\" => Dict(\"label\" => nothing, \"shape\" => \"<circle r=\\\"40\\\"></circle>\", \"homs\" => Any[], \"weights\" => Tuple{AttributeType, Symbol}[], \"style_fn\" => \"(function (_){return {}})\")), \"wire_types\" => Dict(\"Wire\" => Dict(\"src_map\" => \"src\", \"homs\" => Any[], \"weights\" => Tuple{AttributeType, Symbol}[(Stringlike, :R)], \"style\" => \"DefaultWire\", \"src\" => (Semagrams.Schema.Port, :Port), \"tgt\" => (Semagrams.Schema.Port, :Port), \"tgt_map\" => \"tgt\", \"style_fn\" => \"(function (_){return {}})\")), \"port_types\" => Dict(\"Port\" => Dict(\"homs\" => Any[], \"weights\" => Tuple{AttributeType, Symbol}[(Stringlike, :V)], \"box\" => \"Box\", \"style\" => \"Circular\", \"style_fn\" => \"(function (_){return {}})\", \"box_map\" => \"box\"))), \"wires\" => Tuple{Int64, Dict{_A, _B} where {_A, _B}}[]), \"boxlocs\" => Tuple{Int64, Tuple{Float64, Float64}}[]), Observable{String} with 0 listeners. Value:\n",
       "\"\")"
      ]
     },
     "execution_count": 8,
     "metadata": {
      "@webio": {
       "kernelId": "3bd8172a-3ece-4a6f-a71b-aa84fa8741d9"
      }
     },
     "output_type": "execute_result"
    }
   ],
   "source": [
    "circuit = Semagram{CircuitGraph{Float64,Float64}}(CircuitGraphSema)"
   ]
  },
  {
   "cell_type": "code",
   "execution_count": 11,
   "id": "latin-eagle",
   "metadata": {},
   "outputs": [
    {
     "data": {
      "text/plain": [
       "142"
      ]
     },
     "execution_count": 11,
     "metadata": {},
     "output_type": "execute_result"
    }
   ],
   "source": [
    "write_json_acset(get_acset(circuit), \"circuit.json\")"
   ]
  },
  {
   "cell_type": "code",
   "execution_count": 12,
   "id": "multiple-asian",
   "metadata": {},
   "outputs": [
    {
     "name": "stdout",
     "output_type": "stream",
     "text": [
      "{\"Box\":[{},{}],\"Port\":[{\"box\":1,\"V\":5.0},{\"box\":1,\"V\":0.0},{\"box\":2,\"V\":2.5}],\"Wire\":[{\"src\":2,\"tgt\":3,\"R\":30.0},{\"src\":1,\"tgt\":3,\"R\":100.0}]}"
     ]
    }
   ],
   "source": [
    ";cat circuit.json"
   ]
  },
  {
   "cell_type": "code",
   "execution_count": 13,
   "id": "interracial-consistency",
   "metadata": {},
   "outputs": [
    {
     "data": {
      "text/plain": [
       ":(CircuitGraphSema = Semagrams.Schema.pres_to_semagramschema(TheoryCircuitGraph, [(BoxDesc)(:Box, Circle), (PortDesc)(:Port, :box, style = \"Circular\"), (WireDesc)(:Wire, :src, :tgt), (DataDesc)(:Resistance, Stringlike), (DataDesc)(:Voltage, Stringlike)]))"
      ]
     },
     "execution_count": 13,
     "metadata": {},
     "output_type": "execute_result"
    }
   ],
   "source": [
    "@macroexpand @semagramschema CircuitGraphSema(TheoryCircuitGraph) begin\n",
    "  @box Box Circle\n",
    "  @port Port(box) style=\"Circular\"\n",
    "  @wire Wire(src, tgt)\n",
    "  @data Resistance Stringlike\n",
    "  @data Voltage Stringlike\n",
    "end"
   ]
  },
  {
   "cell_type": "code",
   "execution_count": null,
   "id": "buried-spell",
   "metadata": {},
   "outputs": [],
   "source": []
  }
 ],
 "metadata": {
  "@webio": {
   "lastCommId": "4e4f3de7-aef0-4ceb-9fdc-471e0287e12d",
   "lastKernelId": "3bd8172a-3ece-4a6f-a71b-aa84fa8741d9"
  },
  "kernelspec": {
   "display_name": "Julia 1.6.1",
   "language": "julia",
   "name": "julia-1.6"
  },
  "language_info": {
   "file_extension": ".jl",
   "mimetype": "application/julia",
   "name": "julia",
   "version": "1.6.1"
  }
 },
 "nbformat": 4,
 "nbformat_minor": 5
}
