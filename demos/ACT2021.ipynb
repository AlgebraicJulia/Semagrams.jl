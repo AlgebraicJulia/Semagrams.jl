{
 "cells": [
  {
   "cell_type": "code",
   "execution_count": 14,
   "id": "ad07ee2b-c263-4788-ad50-63648af4b596",
   "metadata": {},
   "outputs": [
    {
     "name": "stderr",
     "output_type": "stream",
     "text": [
      "\u001b[32m\u001b[1m  Activating\u001b[22m\u001b[39m project at `~/g/Semagrams.jl`\n"
     ]
    }
   ],
   "source": [
    "]activate .."
   ]
  },
  {
   "cell_type": "code",
   "execution_count": 15,
   "id": "5325f258-479b-40fb-89bc-f7d82495b6fc",
   "metadata": {},
   "outputs": [],
   "source": [
    "using Revise"
   ]
  },
  {
   "cell_type": "code",
   "execution_count": 16,
   "id": "weekly-constitution",
   "metadata": {},
   "outputs": [],
   "source": [
    "using Semagrams, Semagrams.Examples"
   ]
  },
  {
   "cell_type": "code",
   "execution_count": 18,
   "id": "mental-montreal",
   "metadata": {},
   "outputs": [
    {
     "data": {
      "application/vnd.webio.node+json": {
       "children": [
        {
         "children": [],
         "instanceArgs": {
          "namespace": "html",
          "tag": "div"
         },
         "nodeType": "DOM",
         "props": {},
         "type": "node"
        }
       ],
       "instanceArgs": {
        "handlers": {
         "sending": [
          "(function (newls){return this.state.resetWith(newls)})"
         ]
        },
        "id": "2015985178641730835",
        "imports": {
         "data": [
          {
           "name": "semagrams",
           "type": "js",
           "url": "/assetserver/74640911769d23a8720073ee5ce060b0d38d9b88-app.bundle.js"
          }
         ],
         "type": "async_block"
        },
        "mount_callbacks": [
         "(function (){var semagrams=System.registry.get(System.resolveSync(\"semagrams\")); var scopeobj=this; return setTimeout((function (){return semagrams.main(WebIO.getval({\"name\":\"receiving\",\"scope\":\"2015985178641730835\",\"id\":\"17863909435064259430\",\"type\":\"observable\"}),scopeobj,(function (x){return WebIO.setval({\"name\":\"receiving\",\"scope\":\"2015985178641730835\",\"id\":\"17863909435064259430\",\"type\":\"observable\"},x)}),(function (x){return WebIO.setval({\"name\":\"exported\",\"scope\":\"2015985178641730835\",\"id\":\"15054825265384073700\",\"type\":\"observable\"},x)}))}),20)})"
        ],
        "observables": {
         "exported": {
          "id": "15054825265384073700",
          "sync": false,
          "value": ""
         },
         "receiving": {
          "id": "17863909435064259430",
          "sync": false,
          "value": {
           "boxlocs": [],
           "sg": {
            "boxes": [],
            "gen": {
             "i": 0
            },
            "schema": {
             "box_types": {
              "S": {
               "homs": [],
               "label": "species_label",
               "shape": "<circle r=\"40\"></circle>",
               "style_fn": "(function (_){return {}})",
               "weights": [
                [
                 "Numeric",
                 "concentration"
                ],
                [
                 "Stringlike",
                 "species_label"
                ]
               ]
              },
              "T": {
               "homs": [],
               "label": "transitions_label",
               "shape": "<polygon points=\"-40,-40 40,-40 40,40 -40,40\"></polygon>",
               "style_fn": "(function (_){return {}})",
               "weights": [
                [
                 "Numeric",
                 "rate"
                ],
                [
                 "Stringlike",
                 "transitions_label"
                ]
               ]
              }
             },
             "port_types": {},
             "wire_types": {
              "I": {
               "homs": [],
               "src": [
                "Box",
                "S"
               ],
               "src_map": "is",
               "style": "DefaultWire",
               "style_fn": "(function (_){return {}})",
               "tgt": [
                "Box",
                "T"
               ],
               "tgt_map": "it",
               "weights": []
              },
              "O": {
               "homs": [],
               "src": [
                "Box",
                "T"
               ],
               "src_map": "ot",
               "style": "DefaultWire",
               "style_fn": "(function (_){return {}})",
               "tgt": [
                "Box",
                "S"
               ],
               "tgt_map": "os",
               "weights": []
              }
             }
            },
            "wires": []
           }
          }
         },
         "sending": {
          "id": "7387196308495885195",
          "sync": true,
          "value": {
           "boxlocs": [],
           "sg": {
            "boxes": [],
            "gen": {
             "i": 0
            },
            "schema": {
             "box_types": {
              "S": {
               "homs": [],
               "label": "species_label",
               "shape": "<circle r=\"40\"></circle>",
               "style_fn": "(function (_){return {}})",
               "weights": [
                [
                 "Numeric",
                 "concentration"
                ],
                [
                 "Stringlike",
                 "species_label"
                ]
               ]
              },
              "T": {
               "homs": [],
               "label": "transitions_label",
               "shape": "<polygon points=\"-40,-40 40,-40 40,40 -40,40\"></polygon>",
               "style_fn": "(function (_){return {}})",
               "weights": [
                [
                 "Numeric",
                 "rate"
                ],
                [
                 "Stringlike",
                 "transitions_label"
                ]
               ]
              }
             },
             "port_types": {},
             "wire_types": {
              "I": {
               "homs": [],
               "src": [
                "Box",
                "S"
               ],
               "src_map": "is",
               "style": "DefaultWire",
               "style_fn": "(function (_){return {}})",
               "tgt": [
                "Box",
                "T"
               ],
               "tgt_map": "it",
               "weights": []
              },
              "O": {
               "homs": [],
               "src": [
                "Box",
                "T"
               ],
               "src_map": "ot",
               "style": "DefaultWire",
               "style_fn": "(function (_){return {}})",
               "tgt": [
                "Box",
                "S"
               ],
               "tgt_map": "os",
               "weights": []
              }
             }
            },
            "wires": []
           }
          }
         }
        },
        "systemjs_options": null
       },
       "nodeType": "Scope",
       "props": {},
       "type": "node"
      },
      "text/html": [
       "<div\n",
       "    class=\"webio-mountpoint\"\n",
       "    data-webio-mountpoint=\"14661331042532578677\"\n",
       ">\n",
       "    <script>\n",
       "    (function(){\n",
       "    // Some integrations (namely, IJulia/Jupyter) use an alternate render pathway than\n",
       "    // just putting the html on the page. If WebIO isn't defined, then it's pretty likely\n",
       "    // that we're in one of those situations and the integration just isn't installed\n",
       "    // correctly.\n",
       "    if (typeof window.WebIO === \"undefined\") {\n",
       "        document\n",
       "            .querySelector('[data-webio-mountpoint=\"14661331042532578677\"]')\n",
       "            .innerHTML = (\n",
       "                '<div style=\"padding: 1em; background-color: #f8d6da; border: 1px solid #f5c6cb; font-weight: bold;\">' +\n",
       "                '<p><strong>WebIO not detected.</strong></p>' +\n",
       "                '<p>Please read ' +\n",
       "                '<a href=\"https://juliagizmos.github.io/WebIO.jl/latest/troubleshooting/not-detected/\" target=\"_blank\">the troubleshooting guide</a> ' +\n",
       "                'for more information on how to resolve this issue.</p>' +\n",
       "                '<p><a href=\"https://juliagizmos.github.io/WebIO.jl/latest/troubleshooting/not-detected/\" target=\"_blank\">https://juliagizmos.github.io/WebIO.jl/latest/troubleshooting/not-detected/</a></p>' +\n",
       "                '</div>'\n",
       "            );\n",
       "        return;\n",
       "    }\n",
       "    WebIO.mount(\n",
       "        document.querySelector('[data-webio-mountpoint=\"14661331042532578677\"]'),\n",
       "        {\"props\":{},\"nodeType\":\"Scope\",\"type\":\"node\",\"instanceArgs\":{\"imports\":{\"data\":[{\"name\":\"semagrams\",\"type\":\"js\",\"url\":\"\\/assetserver\\/74640911769d23a8720073ee5ce060b0d38d9b88-app.bundle.js\"}],\"type\":\"async_block\"},\"id\":\"2015985178641730835\",\"handlers\":{\"sending\":[\"(function (newls){return this.state.resetWith(newls)})\"]},\"systemjs_options\":null,\"mount_callbacks\":[\"(function (){var semagrams=System.registry.get(System.resolveSync(\\\"semagrams\\\")); var scopeobj=this; return setTimeout((function (){return semagrams.main(WebIO.getval({\\\"name\\\":\\\"receiving\\\",\\\"scope\\\":\\\"2015985178641730835\\\",\\\"id\\\":\\\"17863909435064259430\\\",\\\"type\\\":\\\"observable\\\"}),scopeobj,(function (x){return WebIO.setval({\\\"name\\\":\\\"receiving\\\",\\\"scope\\\":\\\"2015985178641730835\\\",\\\"id\\\":\\\"17863909435064259430\\\",\\\"type\\\":\\\"observable\\\"},x)}),(function (x){return WebIO.setval({\\\"name\\\":\\\"exported\\\",\\\"scope\\\":\\\"2015985178641730835\\\",\\\"id\\\":\\\"15054825265384073700\\\",\\\"type\\\":\\\"observable\\\"},x)}))}),20)})\"],\"observables\":{\"sending\":{\"sync\":true,\"id\":\"7387196308495885195\",\"value\":{\"sg\":{\"gen\":{\"i\":0},\"boxes\":[],\"schema\":{\"box_types\":{\"S\":{\"label\":\"species_label\",\"shape\":\"<circle r=\\\"40\\\"><\\/circle>\",\"homs\":[],\"weights\":[[\"Numeric\",\"concentration\"],[\"Stringlike\",\"species_label\"]],\"style_fn\":\"(function (_){return {}})\"},\"T\":{\"label\":\"transitions_label\",\"shape\":\"<polygon points=\\\"-40,-40 40,-40 40,40 -40,40\\\"><\\/polygon>\",\"homs\":[],\"weights\":[[\"Numeric\",\"rate\"],[\"Stringlike\",\"transitions_label\"]],\"style_fn\":\"(function (_){return {}})\"}},\"wire_types\":{\"I\":{\"src_map\":\"is\",\"homs\":[],\"weights\":[],\"style\":\"DefaultWire\",\"src\":[\"Box\",\"S\"],\"tgt\":[\"Box\",\"T\"],\"tgt_map\":\"it\",\"style_fn\":\"(function (_){return {}})\"},\"O\":{\"src_map\":\"ot\",\"homs\":[],\"weights\":[],\"style\":\"DefaultWire\",\"src\":[\"Box\",\"T\"],\"tgt\":[\"Box\",\"S\"],\"tgt_map\":\"os\",\"style_fn\":\"(function (_){return {}})\"}},\"port_types\":{}},\"wires\":[]},\"boxlocs\":[]}},\"exported\":{\"sync\":false,\"id\":\"15054825265384073700\",\"value\":\"\"},\"receiving\":{\"sync\":false,\"id\":\"17863909435064259430\",\"value\":{\"sg\":{\"gen\":{\"i\":0},\"boxes\":[],\"schema\":{\"box_types\":{\"S\":{\"label\":\"species_label\",\"shape\":\"<circle r=\\\"40\\\"><\\/circle>\",\"homs\":[],\"weights\":[[\"Numeric\",\"concentration\"],[\"Stringlike\",\"species_label\"]],\"style_fn\":\"(function (_){return {}})\"},\"T\":{\"label\":\"transitions_label\",\"shape\":\"<polygon points=\\\"-40,-40 40,-40 40,40 -40,40\\\"><\\/polygon>\",\"homs\":[],\"weights\":[[\"Numeric\",\"rate\"],[\"Stringlike\",\"transitions_label\"]],\"style_fn\":\"(function (_){return {}})\"}},\"wire_types\":{\"I\":{\"src_map\":\"is\",\"homs\":[],\"weights\":[],\"style\":\"DefaultWire\",\"src\":[\"Box\",\"S\"],\"tgt\":[\"Box\",\"T\"],\"tgt_map\":\"it\",\"style_fn\":\"(function (_){return {}})\"},\"O\":{\"src_map\":\"ot\",\"homs\":[],\"weights\":[],\"style\":\"DefaultWire\",\"src\":[\"Box\",\"T\"],\"tgt\":[\"Box\",\"S\"],\"tgt_map\":\"os\",\"style_fn\":\"(function (_){return {}})\"}},\"port_types\":{}},\"wires\":[]},\"boxlocs\":[]}}}},\"children\":[{\"props\":{},\"nodeType\":\"DOM\",\"type\":\"node\",\"instanceArgs\":{\"namespace\":\"html\",\"tag\":\"div\"},\"children\":[]}]},\n",
       "        window,\n",
       "    );\n",
       "    })()\n",
       "    </script>\n",
       "</div>\n"
      ],
      "text/plain": [
       "Semagram{Catlab.CSetDataStructures.AttributedCSet{Catlab.Theories.CatDesc{(:T, :S, :I, :O), (:it, :is, :ot, :os), (3, 3, 4, 4), (1, 2, 1, 2)}, Catlab.Theories.AttrDesc{Catlab.Theories.CatDesc{(:T, :S, :I, :O), (:it, :is, :ot, :os), (3, 3, 4, 4), (1, 2, 1, 2)}, (:N, :L), (:rate, :concentration, :species_label, :transitions_label), (1, 2, 2, 1), (1, 1, 2, 2)}, Tuple{Float64, String}, (), ()}}(WebIO.Scope(WebIO.Node{WebIO.DOM}(WebIO.DOM(:html, :div), Any[], Dict{Symbol, Any}()), Dict{String, Tuple{Observables.AbstractObservable, Union{Nothing, Bool}}}(\"sending\" => (Observable{Dict{String, Any}} with 2 listeners. Value:\n",
       "Dict{String, Any}(\"sg\" => Dict{String, Any}(\"gen\" => Dict(\"i\" => 0), \"boxes\" => Any[], \"schema\" => Dict{String, Dict}(\"box_types\" => Dict{String, Dict{String, Any}}(\"S\" => Dict(\"label\" => \"species_label\", \"shape\" => \"<circle r=\\\"40\\\"></circle>\", \"homs\" => Dict{String, String}[], \"weights\" => Tuple{AttributeType, Symbol}[(Numeric, :concentration), (Stringlike, :species_label)], \"style_fn\" => \"(function (_){return {}})\"), \"T\" => Dict(\"label\" => \"transitions_label\", \"shape\" => \"<polygon points=\\\"-40,-40 40,-40 40,40 -40,40\\\"></polygon>\", \"homs\" => Dict{String, String}[], \"weights\" => Tuple{AttributeType, Symbol}[(Numeric, :rate), (Stringlike, :transitions_label)], \"style_fn\" => \"(function (_){return {}})\")), \"wire_types\" => Dict{String, Dict{String, Any}}(\"I\" => Dict(\"src_map\" => \"is\", \"homs\" => Dict{String, String}[], \"weights\" => Tuple{AttributeType, Symbol}[], \"style\" => \"DefaultWire\", \"src\" => (Semagrams.Schema.Box, :S), \"tgt\" => (Semagrams.Schema.Box, :T), \"tgt_map\" => \"it\", \"style_fn\" => \"(function (_){return {}})\"), \"O\" => Dict(\"src_map\" => \"ot\", \"homs\" => Dict{String, String}[], \"weights\" => Tuple{AttributeType, Symbol}[], \"style\" => \"DefaultWire\", \"src\" => (Semagrams.Schema.Box, :T), \"tgt\" => (Semagrams.Schema.Box, :S), \"tgt_map\" => \"os\", \"style_fn\" => \"(function (_){return {}})\")), \"port_types\" => Dict{Any, Any}()), \"wires\" => Any[]), \"boxlocs\" => Tuple{Int64, Tuple{Float64, Float64}}[]), nothing), \"exported\" => (Observable{String} with 0 listeners. Value:\n",
       "\"\", nothing), \"receiving\" => (Observable{Dict{String, Any}} with 0 listeners. Value:\n",
       "Dict{String, Any}(\"sg\" => Dict{String, Any}(\"gen\" => Dict(\"i\" => 0), \"boxes\" => Any[], \"schema\" => Dict{String, Dict}(\"box_types\" => Dict{String, Dict{String, Any}}(\"S\" => Dict(\"label\" => \"species_label\", \"shape\" => \"<circle r=\\\"40\\\"></circle>\", \"homs\" => Dict{String, String}[], \"weights\" => Tuple{AttributeType, Symbol}[(Numeric, :concentration), (Stringlike, :species_label)], \"style_fn\" => \"(function (_){return {}})\"), \"T\" => Dict(\"label\" => \"transitions_label\", \"shape\" => \"<polygon points=\\\"-40,-40 40,-40 40,40 -40,40\\\"></polygon>\", \"homs\" => Dict{String, String}[], \"weights\" => Tuple{AttributeType, Symbol}[(Numeric, :rate), (Stringlike, :transitions_label)], \"style_fn\" => \"(function (_){return {}})\")), \"wire_types\" => Dict{String, Dict{String, Any}}(\"I\" => Dict(\"src_map\" => \"is\", \"homs\" => Dict{String, String}[], \"weights\" => Tuple{AttributeType, Symbol}[], \"style\" => \"DefaultWire\", \"src\" => (Semagrams.Schema.Box, :S), \"tgt\" => (Semagrams.Schema.Box, :T), \"tgt_map\" => \"it\", \"style_fn\" => \"(function (_){return {}})\"), \"O\" => Dict(\"src_map\" => \"ot\", \"homs\" => Dict{String, String}[], \"weights\" => Tuple{AttributeType, Symbol}[], \"style\" => \"DefaultWire\", \"src\" => (Semagrams.Schema.Box, :T), \"tgt\" => (Semagrams.Schema.Box, :S), \"tgt_map\" => \"os\", \"style_fn\" => \"(function (_){return {}})\")), \"port_types\" => Dict{Any, Any}()), \"wires\" => Any[]), \"boxlocs\" => Tuple{Int64, Tuple{Float64, Float64}}[]), nothing)), Set{String}(), nothing, WebIO.Asset[WebIO.Asset(\"js\", \"semagrams\", \"/home/o/g/Semagrams.jl/src/../deps/bundles/app.bundle.js\")], Dict{Any, Any}(\"sending\" => Any[WebIO.JSString(\"(function (newls){return this.state.resetWith(newls)})\")]), WebIO.ConnectionPool(Channel{Any}(32), Set{WebIO.AbstractConnection}(), Condition(Base.InvasiveLinkedList{Task}(Task (runnable) @0x00007fdaa8a1bde0, Task (runnable) @0x00007fdaa8a1bde0), Base.AlwaysLockedST(1))), WebIO.JSString[WebIO.JSString(\"(function (){var semagrams=System.registry.get(System.resolveSync(\\\"semagrams\\\")); var scopeobj=this; return setTimeout((function (){return semagrams.main(WebIO.getval({\\\"name\\\":\\\"receiving\\\",\\\"scope\\\":\\\"2015985178641730835\\\",\\\"id\\\":\\\"17863909435064259430\\\",\\\"type\\\":\\\"observable\\\"}),scopeobj,(function (x){return WebIO.setval({\\\"name\\\":\\\"receiving\\\",\\\"scope\\\":\\\"2015985178641730835\\\",\\\"id\\\":\\\"17863909435064259430\\\",\\\"type\\\":\\\"observable\\\"},x)}),(function (x){return WebIO.setval({\\\"name\\\":\\\"exported\\\",\\\"scope\\\":\\\"2015985178641730835\\\",\\\"id\\\":\\\"15054825265384073700\\\",\\\"type\\\":\\\"observable\\\"},x)}))}),20)})\")]), Observable{Dict{String, Any}} with 0 listeners. Value:\n",
       "Dict{String, Any}(\"sg\" => Dict{String, Any}(\"gen\" => Dict(\"i\" => 0), \"boxes\" => Any[], \"schema\" => Dict{String, Dict}(\"box_types\" => Dict{String, Dict{String, Any}}(\"S\" => Dict(\"label\" => \"species_label\", \"shape\" => \"<circle r=\\\"40\\\"></circle>\", \"homs\" => Dict{String, String}[], \"weights\" => Tuple{AttributeType, Symbol}[(Numeric, :concentration), (Stringlike, :species_label)], \"style_fn\" => \"(function (_){return {}})\"), \"T\" => Dict(\"label\" => \"transitions_label\", \"shape\" => \"<polygon points=\\\"-40,-40 40,-40 40,40 -40,40\\\"></polygon>\", \"homs\" => Dict{String, String}[], \"weights\" => Tuple{AttributeType, Symbol}[(Numeric, :rate), (Stringlike, :transitions_label)], \"style_fn\" => \"(function (_){return {}})\")), \"wire_types\" => Dict{String, Dict{String, Any}}(\"I\" => Dict(\"src_map\" => \"is\", \"homs\" => Dict{String, String}[], \"weights\" => Tuple{AttributeType, Symbol}[], \"style\" => \"DefaultWire\", \"src\" => (Semagrams.Schema.Box, :S), \"tgt\" => (Semagrams.Schema.Box, :T), \"tgt_map\" => \"it\", \"style_fn\" => \"(function (_){return {}})\"), \"O\" => Dict(\"src_map\" => \"ot\", \"homs\" => Dict{String, String}[], \"weights\" => Tuple{AttributeType, Symbol}[], \"style\" => \"DefaultWire\", \"src\" => (Semagrams.Schema.Box, :T), \"tgt\" => (Semagrams.Schema.Box, :S), \"tgt_map\" => \"os\", \"style_fn\" => \"(function (_){return {}})\")), \"port_types\" => Dict{Any, Any}()), \"wires\" => Any[]), \"boxlocs\" => Tuple{Int64, Tuple{Float64, Float64}}[]), Observable{Dict{String, Any}} with 2 listeners. Value:\n",
       "Dict{String, Any}(\"sg\" => Dict{String, Any}(\"gen\" => Dict(\"i\" => 0), \"boxes\" => Any[], \"schema\" => Dict{String, Dict}(\"box_types\" => Dict{String, Dict{String, Any}}(\"S\" => Dict(\"label\" => \"species_label\", \"shape\" => \"<circle r=\\\"40\\\"></circle>\", \"homs\" => Dict{String, String}[], \"weights\" => Tuple{AttributeType, Symbol}[(Numeric, :concentration), (Stringlike, :species_label)], \"style_fn\" => \"(function (_){return {}})\"), \"T\" => Dict(\"label\" => \"transitions_label\", \"shape\" => \"<polygon points=\\\"-40,-40 40,-40 40,40 -40,40\\\"></polygon>\", \"homs\" => Dict{String, String}[], \"weights\" => Tuple{AttributeType, Symbol}[(Numeric, :rate), (Stringlike, :transitions_label)], \"style_fn\" => \"(function (_){return {}})\")), \"wire_types\" => Dict{String, Dict{String, Any}}(\"I\" => Dict(\"src_map\" => \"is\", \"homs\" => Dict{String, String}[], \"weights\" => Tuple{AttributeType, Symbol}[], \"style\" => \"DefaultWire\", \"src\" => (Semagrams.Schema.Box, :S), \"tgt\" => (Semagrams.Schema.Box, :T), \"tgt_map\" => \"it\", \"style_fn\" => \"(function (_){return {}})\"), \"O\" => Dict(\"src_map\" => \"ot\", \"homs\" => Dict{String, String}[], \"weights\" => Tuple{AttributeType, Symbol}[], \"style\" => \"DefaultWire\", \"src\" => (Semagrams.Schema.Box, :T), \"tgt\" => (Semagrams.Schema.Box, :S), \"tgt_map\" => \"os\", \"style_fn\" => \"(function (_){return {}})\")), \"port_types\" => Dict{Any, Any}()), \"wires\" => Any[]), \"boxlocs\" => Tuple{Int64, Tuple{Float64, Float64}}[]), Observable{String} with 0 listeners. Value:\n",
       "\"\")"
      ]
     },
     "execution_count": 18,
     "metadata": {
      "@webio": {
       "kernelId": "b8e1dda6-af78-46fe-88b9-51ebe2cb5586"
      }
     },
     "output_type": "execute_result"
    }
   ],
   "source": [
    "rxnet = Semagram{ReactionNet{Float64,String}}(ReactionNetSema)"
   ]
  },
  {
   "cell_type": "code",
   "execution_count": 7,
   "id": "saved-gothic",
   "metadata": {},
   "outputs": [
    {
     "data": {
      "text/html": [
       "<div class=\"c-set\">\n",
       "<span class=\"c-set-summary\">ACSet with elements T = 1:1, S = 1:1, I = 1:1, O = 1:1</span>\n",
       "<table>\n",
       "  <thead>\n",
       "    <tr class = \"header headerLastRow\">\n",
       "      <th class = \"rowNumber\">T</th>\n",
       "      <th style = \"text-align: right;\">rate</th>\n",
       "      <th style = \"text-align: right;\">transitions_label</th>\n",
       "    </tr>\n",
       "  </thead>\n",
       "  <tbody>\n",
       "    <tr>\n",
       "      <td class = \"rowNumber\">1</td>\n",
       "      <td style = \"text-align: right;\">5.0</td>\n",
       "      <td style = \"text-align: right;\">\\\\gamma</td>\n",
       "    </tr>\n",
       "  </tbody>\n",
       "</table>\n",
       "<table>\n",
       "  <thead>\n",
       "    <tr class = \"header headerLastRow\">\n",
       "      <th class = \"rowNumber\">S</th>\n",
       "      <th style = \"text-align: right;\">concentration</th>\n",
       "      <th style = \"text-align: right;\">species_label</th>\n",
       "    </tr>\n",
       "  </thead>\n",
       "  <tbody>\n",
       "    <tr>\n",
       "      <td class = \"rowNumber\">1</td>\n",
       "      <td style = \"text-align: right;\">5.0</td>\n",
       "      <td style = \"text-align: right;\">A</td>\n",
       "    </tr>\n",
       "  </tbody>\n",
       "</table>\n",
       "<table>\n",
       "  <thead>\n",
       "    <tr class = \"header headerLastRow\">\n",
       "      <th class = \"rowNumber\">I</th>\n",
       "      <th style = \"text-align: right;\">it</th>\n",
       "      <th style = \"text-align: right;\">is</th>\n",
       "    </tr>\n",
       "  </thead>\n",
       "  <tbody>\n",
       "    <tr>\n",
       "      <td class = \"rowNumber\">1</td>\n",
       "      <td style = \"text-align: right;\">1</td>\n",
       "      <td style = \"text-align: right;\">1</td>\n",
       "    </tr>\n",
       "  </tbody>\n",
       "</table>\n",
       "<table>\n",
       "  <thead>\n",
       "    <tr class = \"header headerLastRow\">\n",
       "      <th class = \"rowNumber\">O</th>\n",
       "      <th style = \"text-align: right;\">ot</th>\n",
       "      <th style = \"text-align: right;\">os</th>\n",
       "    </tr>\n",
       "  </thead>\n",
       "  <tbody>\n",
       "    <tr>\n",
       "      <td class = \"rowNumber\">1</td>\n",
       "      <td style = \"text-align: right;\">1</td>\n",
       "      <td style = \"text-align: right;\">1</td>\n",
       "    </tr>\n",
       "  </tbody>\n",
       "</table>\n",
       "</div>\n"
      ],
      "text/plain": [
       "ACSet with elements T = 1:1, S = 1:1, I = 1:1, O = 1:1\n",
       "┌───┬──────┬───────────────────┐\n",
       "│\u001b[1m T \u001b[0m│\u001b[1m rate \u001b[0m│\u001b[1m transitions_label \u001b[0m│\n",
       "├───┼──────┼───────────────────┤\n",
       "│ 1 │  5.0 │           \\\\gamma │\n",
       "└───┴──────┴───────────────────┘\n",
       "┌───┬───────────────┬───────────────┐\n",
       "│\u001b[1m S \u001b[0m│\u001b[1m concentration \u001b[0m│\u001b[1m species_label \u001b[0m│\n",
       "├───┼───────────────┼───────────────┤\n",
       "│ 1 │           5.0 │             A │\n",
       "└───┴───────────────┴───────────────┘\n",
       "┌───┬────┬────┐\n",
       "│\u001b[1m I \u001b[0m│\u001b[1m it \u001b[0m│\u001b[1m is \u001b[0m│\n",
       "├───┼────┼────┤\n",
       "│ 1 │  1 │  1 │\n",
       "└───┴────┴────┘\n",
       "┌───┬────┬────┐\n",
       "│\u001b[1m O \u001b[0m│\u001b[1m ot \u001b[0m│\u001b[1m os \u001b[0m│\n",
       "├───┼────┼────┤\n",
       "│ 1 │  1 │  1 │\n",
       "└───┴────┴────┘\n"
      ]
     },
     "execution_count": 7,
     "metadata": {},
     "output_type": "execute_result"
    }
   ],
   "source": [
    "get_acset(rxnet)"
   ]
  },
  {
   "cell_type": "code",
   "execution_count": 13,
   "id": "61d6d324-d86b-4ba9-aaac-87f2073dbda0",
   "metadata": {},
   "outputs": [
    {
     "name": "stdout",
     "output_type": "stream",
     "text": [
      "Dict{String, Any}(\"sg\" => Dict{String, Any}(\"gen\" => Dict{String, Any}(\"i\" => 6), \"boxes\" => Any[Any[1, Dict{String, Any}(\"homs\" => Dict{String, Any}(), \"weights\" => Dict{String, Any}(\"species_label\" => \"A\", \"concentration\" => \"5\"), \"ty\" => \"S\", \"ports\" => Any[])], Any[2, Dict{String, Any}(\"homs\" => Dict{String, Any}(), \"weights\" => Dict{String, Any}(\"transitions_label\" => \"\\\\gamma\", \"rate\" => \"5\"), \"ty\" => \"T\", \"ports\" => Any[])]], \"schema\" => Dict{String, Any}(\"box_types\" => Dict{String, Any}(\"S\" => Dict{String, Any}(\"label\" => \"species_label\", \"shape\" => \"<circle r=\\\"40\\\"></circle>\", \"homs\" => Any[], \"weights\" => Any[Any[\"Numeric\", \"concentration\"], Any[\"Stringlike\", \"species_label\"]], \"style_fn\" => \"(function (_){return {}})\"), \"T\" => Dict{String, Any}(\"label\" => \"transitions_label\", \"shape\" => \"<polygon points=\\\"-40,-40 40,-40 40,40 -40,40\\\"></polygon>\", \"homs\" => Any[], \"weights\" => Any[Any[\"Numeric\", \"rate\"], Any[\"Stringlike\", \"transitions_label\"]], \"style_fn\" => \"(function (_){return {}})\")), \"wire_types\" => Dict{String, Any}(\"I\" => Dict{String, Any}(\"src_map\" => \"is\", \"homs\" => Any[], \"weights\" => Any[], \"style\" => \"DefaultWire\", \"src\" => Any[\"Box\", \"S\"], \"style_fn\" => \"(function (_){return {}})\", \"tgt\" => Any[\"Box\", \"T\"], \"tgt_map\" => \"it\"), \"O\" => Dict{String, Any}(\"src_map\" => \"ot\", \"homs\" => Any[], \"weights\" => Any[], \"style\" => \"DefaultWire\", \"src\" => Any[\"Box\", \"T\"], \"style_fn\" => \"(function (_){return {}})\", \"tgt\" => Any[\"Box\", \"S\"], \"tgt_map\" => \"os\")), \"port_types\" => Dict{String, Any}()), \"wires\" => Any[Any[3, Dict{String, Any}(\"homs\" => Dict{String, Any}(), \"weights\" => Dict{String, Any}(), \"src\" => Dict{String, Any}(\"box_idx\" => 2, \"ty\" => \"Box\"), \"ty\" => \"O\", \"tgt\" => Dict{String, Any}(\"box_idx\" => 1, \"ty\" => \"Box\"))], Any[5, Dict{String, Any}(\"homs\" => Dict{String, Any}(), \"weights\" => Dict{String, Any}(), \"src\" => Dict{String, Any}(\"box_idx\" => 1, \"ty\" => \"Box\"), \"ty\" => \"I\", \"tgt\" => Dict{String, Any}(\"box_idx\" => 2, \"ty\" => \"Box\"))]]), \"boxlocs\" => Any[Any[1, Any[720, 420]], Any[2, Any[720, 240]]])"
     ]
    }
   ],
   "source": []
  },
  {
   "cell_type": "code",
   "execution_count": null,
   "id": "prospective-statistics",
   "metadata": {},
   "outputs": [],
   "source": [
    "dpg = Semagram{DirectedPortGraph{Symbol}}(DirectedPortGraphSema)"
   ]
  }
 ],
 "metadata": {
  "@webio": {
   "lastCommId": "3a06e2a8-62bf-47d6-ac89-961524c237f0",
   "lastKernelId": "b8e1dda6-af78-46fe-88b9-51ebe2cb5586"
  },
  "kernelspec": {
   "display_name": "Julia 1.7.2",
   "language": "julia",
   "name": "julia-1.7"
  },
  "language_info": {
   "file_extension": ".jl",
   "mimetype": "application/julia",
   "name": "julia",
   "version": "1.7.2"
  }
 },
 "nbformat": 4,
 "nbformat_minor": 5
}
