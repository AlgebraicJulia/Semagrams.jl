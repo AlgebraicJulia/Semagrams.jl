{
 "cells": [
  {
   "cell_type": "code",
   "execution_count": 1,
   "id": "weekly-constitution",
   "metadata": {},
   "outputs": [
    {
     "name": "stderr",
     "output_type": "stream",
     "text": [
      "┌ Info: Precompiling Semagrams [13530c0b-fe5b-42fd-9b7e-79367be16329]\n",
      "└ @ Base loading.jl:1317\n"
     ]
    },
    {
     "data": {
      "text/html": [
       "<script>\n",
       "// Immediately-invoked-function-expression to avoid global variables.\n",
       "(function() {\n",
       "    var warning_div = document.getElementById(\"webio-warning-12059076085541284058\");\n",
       "    var hide = function () {\n",
       "        var script = document.getElementById(\"webio-setup-3756350603715482546\");\n",
       "        var parent = script && script.parentElement;\n",
       "        var grandparent = parent && parent.parentElement;\n",
       "        if (grandparent) {\n",
       "            grandparent.style.display = \"none\";\n",
       "        }\n",
       "        warning_div.style.display = \"none\";\n",
       "    };\n",
       "    if (typeof Jupyter !== \"undefined\") {\n",
       "        console.log(\"WebIO detected Jupyter notebook environment.\");\n",
       "        // Jupyter notebook.\n",
       "        var extensions = (\n",
       "            Jupyter\n",
       "            && Jupyter.notebook.config.data\n",
       "            && Jupyter.notebook.config.data.load_extensions\n",
       "        );\n",
       "        if (extensions && extensions[\"webio-jupyter-notebook\"]) {\n",
       "            // Extension already loaded.\n",
       "            console.log(\"Jupyter WebIO nbextension detected; not loading ad-hoc.\");\n",
       "            hide();\n",
       "            return;\n",
       "        }\n",
       "    } else if (window.location.pathname.includes(\"/lab\")) {\n",
       "        // Guessing JupyterLa\n",
       "        console.log(\"Jupyter Lab detected; make sure the @webio/jupyter-lab-provider labextension is installed.\");\n",
       "        hide();\n",
       "        return;\n",
       "    }\n",
       "})();\n",
       "\n",
       "</script>\n",
       "<p\n",
       "    id=\"webio-warning-12059076085541284058\"\n",
       "    class=\"output_text output_stderr\"\n",
       "    style=\"padding: 1em; font-weight: bold;\"\n",
       ">\n",
       "    Unable to load WebIO. Please make sure WebIO works for your Jupyter client.\n",
       "    For troubleshooting, please see <a href=\"https://juliagizmos.github.io/WebIO.jl/latest/providers/ijulia/\">\n",
       "    the WebIO/IJulia documentation</a>.\n",
       "    <!-- TODO: link to installation docs. -->\n",
       "</p>\n"
      ],
      "text/plain": [
       "HTML{String}(\"<script>\\n// Immediately-invoked-function-expression to avoid global variables.\\n(function() {\\n    var warning_div = document.getElementById(\\\"webio-warning-12059076085541284058\\\");\\n    var hide = function () {\\n        var script = document.getElementById(\\\"webio-setup-3756350603715482546\\\");\\n        var parent = script && script.parentElement;\\n        var grandparent = parent && parent.parentElement;\\n        if (grandparent) {\\n            grandparent.style.display = \\\"none\\\";\\n        }\\n        warning_div.style.display = \\\"none\\\";\\n    };\\n    if (typeof Jupyter !== \\\"undefined\\\") {\\n        console.log(\\\"WebIO detected Jupyter notebook environment.\\\");\\n        // Jupyter notebook.\\n        var extensions = (\\n            Jupyter\\n            && Jupyter.notebook.config.data\\n            && Jupyter.notebook.config.data.load_extensions\\n        );\\n        if (extensions && extensions[\\\"webio-jupyter-notebook\\\"]) {\\n            // Extension already loaded.\\n            console.log(\\\"Jupyter WebIO nbextension detected; not loading ad-hoc.\\\");\\n            hide();\\n            return;\\n        }\\n    } else if (window.location.pathname.includes(\\\"/lab\\\")) {\\n        // Guessing JupyterLa\\n        console.log(\\\"Jupyter Lab detected; make sure the @webio/jupyter-lab-provider labextension is installed.\\\");\\n        hide();\\n        return;\\n    }\\n})();\\n\\n</script>\\n<p\\n    id=\\\"webio-warning-12059076085541284058\\\"\\n    class=\\\"output_text output_stderr\\\"\\n    style=\\\"padding: 1em; font-weight: bold;\\\"\\n>\\n    Unable to load WebIO. Please make sure WebIO works for your Jupyter client.\\n    For troubleshooting, please see <a href=\\\"https://juliagizmos.github.io/WebIO.jl/latest/providers/ijulia/\\\">\\n    the WebIO/IJulia documentation</a>.\\n    <!-- TODO: link to installation docs. -->\\n</p>\\n\")"
      ]
     },
     "metadata": {},
     "output_type": "display_data"
    }
   ],
   "source": [
    "using Semagrams, Semagrams.Examples"
   ]
  },
  {
   "cell_type": "code",
   "execution_count": 2,
   "id": "mental-montreal",
   "metadata": {},
   "outputs": [
    {
     "data": {
      "application/vnd.webio.node+json": {
       "children": [
        {
         "children": [],
         "instanceArgs": {
          "namespace": "html",
          "tag": "div"
         },
         "nodeType": "DOM",
         "props": {},
         "type": "node"
        }
       ],
       "instanceArgs": {
        "handlers": {
         "sending": [
          "(function (newls){console.log(this); return this.state.resetWith(newls)})"
         ]
        },
        "id": "6472242231913019985",
        "imports": {
         "data": [
          {
           "name": "semagrams",
           "type": "js",
           "url": "/assetserver/74640911769d23a8720073ee5ce060b0d38d9b88-app.bundle.js"
          }
         ],
         "type": "async_block"
        },
        "mount_callbacks": [
         "(function (){var semagrams=System.registry.get(System.resolveSync(\"semagrams\")); var scopeobj=this; return setTimeout((function (){return semagrams.main(WebIO.getval({\"name\":\"receiving\",\"scope\":\"6472242231913019985\",\"id\":\"14858801416488504994\",\"type\":\"observable\"}),scopeobj,(function (x){return WebIO.setval({\"name\":\"receiving\",\"scope\":\"6472242231913019985\",\"id\":\"14858801416488504994\",\"type\":\"observable\"},x)}))}),20)})"
        ],
        "observables": {
         "receiving": {
          "id": "14858801416488504994",
          "sync": false,
          "value": {
           "boxlocs": [],
           "sg": {
            "boxes": [],
            "gen": {
             "i": 0
            },
            "schema": {
             "box_types": {
              "S": {
               "label": "species_label",
               "shape": "<circle r=\"40\"></circle>",
               "weights": [
                [
                 "Numeric",
                 "concentration"
                ],
                [
                 "Stringlike",
                 "species_label"
                ]
               ]
              },
              "T": {
               "label": "transitions_label",
               "shape": "<polygon points=\"-40,-40 40,-40 40,40 -40,40\"></polygon>",
               "weights": [
                [
                 "Numeric",
                 "rate"
                ],
                [
                 "Stringlike",
                 "transitions_label"
                ]
               ]
              }
             },
             "port_types": {},
             "wire_types": {
              "I": {
               "src": [
                "Box",
                "S"
               ],
               "src_map": "is",
               "style": "DefaultWire",
               "tgt": [
                "Box",
                "T"
               ],
               "tgt_map": "it",
               "weights": []
              },
              "O": {
               "src": [
                "Box",
                "T"
               ],
               "src_map": "ot",
               "style": "DefaultWire",
               "tgt": [
                "Box",
                "S"
               ],
               "tgt_map": "os",
               "weights": []
              }
             }
            },
            "wires": []
           }
          }
         },
         "sending": {
          "id": "10219152867432894347",
          "sync": true,
          "value": {
           "boxlocs": [],
           "sg": {
            "boxes": [],
            "gen": {
             "i": 0
            },
            "schema": {
             "box_types": {
              "S": {
               "label": "species_label",
               "shape": "<circle r=\"40\"></circle>",
               "weights": [
                [
                 "Numeric",
                 "concentration"
                ],
                [
                 "Stringlike",
                 "species_label"
                ]
               ]
              },
              "T": {
               "label": "transitions_label",
               "shape": "<polygon points=\"-40,-40 40,-40 40,40 -40,40\"></polygon>",
               "weights": [
                [
                 "Numeric",
                 "rate"
                ],
                [
                 "Stringlike",
                 "transitions_label"
                ]
               ]
              }
             },
             "port_types": {},
             "wire_types": {
              "I": {
               "src": [
                "Box",
                "S"
               ],
               "src_map": "is",
               "style": "DefaultWire",
               "tgt": [
                "Box",
                "T"
               ],
               "tgt_map": "it",
               "weights": []
              },
              "O": {
               "src": [
                "Box",
                "T"
               ],
               "src_map": "ot",
               "style": "DefaultWire",
               "tgt": [
                "Box",
                "S"
               ],
               "tgt_map": "os",
               "weights": []
              }
             }
            },
            "wires": []
           }
          }
         }
        },
        "systemjs_options": null
       },
       "nodeType": "Scope",
       "props": {},
       "type": "node"
      },
      "text/html": [
       "<div\n",
       "    class=\"webio-mountpoint\"\n",
       "    data-webio-mountpoint=\"2867421581052650426\"\n",
       ">\n",
       "    <script>\n",
       "    if (window.require && require.defined && require.defined(\"nbextensions/webio-jupyter-notebook\")) {\n",
       "        console.log(\"Jupyter WebIO extension detected, not mounting.\");\n",
       "    } else if (window.WebIO) {\n",
       "        WebIO.mount(\n",
       "            document.querySelector('[data-webio-mountpoint=\"2867421581052650426\"]'),\n",
       "            {\"props\":{},\"nodeType\":\"Scope\",\"type\":\"node\",\"instanceArgs\":{\"imports\":{\"data\":[{\"name\":\"semagrams\",\"type\":\"js\",\"url\":\"\\/assetserver\\/74640911769d23a8720073ee5ce060b0d38d9b88-app.bundle.js\"}],\"type\":\"async_block\"},\"id\":\"6472242231913019985\",\"handlers\":{\"sending\":[\"(function (newls){console.log(this); return this.state.resetWith(newls)})\"]},\"systemjs_options\":null,\"mount_callbacks\":[\"(function (){var semagrams=System.registry.get(System.resolveSync(\\\"semagrams\\\")); var scopeobj=this; return setTimeout((function (){return semagrams.main(WebIO.getval({\\\"name\\\":\\\"receiving\\\",\\\"scope\\\":\\\"6472242231913019985\\\",\\\"id\\\":\\\"14858801416488504994\\\",\\\"type\\\":\\\"observable\\\"}),scopeobj,(function (x){return WebIO.setval({\\\"name\\\":\\\"receiving\\\",\\\"scope\\\":\\\"6472242231913019985\\\",\\\"id\\\":\\\"14858801416488504994\\\",\\\"type\\\":\\\"observable\\\"},x)}))}),20)})\"],\"observables\":{\"sending\":{\"sync\":true,\"id\":\"10219152867432894347\",\"value\":{\"sg\":{\"gen\":{\"i\":0},\"boxes\":[],\"schema\":{\"box_types\":{\"T\":{\"weights\":[[\"Numeric\",\"rate\"],[\"Stringlike\",\"transitions_label\"]],\"shape\":\"<polygon points=\\\"-40,-40 40,-40 40,40 -40,40\\\"><\\/polygon>\",\"label\":\"transitions_label\"},\"S\":{\"weights\":[[\"Numeric\",\"concentration\"],[\"Stringlike\",\"species_label\"]],\"shape\":\"<circle r=\\\"40\\\"><\\/circle>\",\"label\":\"species_label\"}},\"wire_types\":{\"I\":{\"weights\":[],\"src\":[\"Box\",\"S\"],\"src_map\":\"is\",\"tgt\":[\"Box\",\"T\"],\"tgt_map\":\"it\",\"style\":\"DefaultWire\"},\"O\":{\"weights\":[],\"src\":[\"Box\",\"T\"],\"src_map\":\"ot\",\"tgt\":[\"Box\",\"S\"],\"tgt_map\":\"os\",\"style\":\"DefaultWire\"}},\"port_types\":{}},\"wires\":[]},\"boxlocs\":[]}},\"receiving\":{\"sync\":false,\"id\":\"14858801416488504994\",\"value\":{\"sg\":{\"gen\":{\"i\":0},\"boxes\":[],\"schema\":{\"box_types\":{\"T\":{\"weights\":[[\"Numeric\",\"rate\"],[\"Stringlike\",\"transitions_label\"]],\"shape\":\"<polygon points=\\\"-40,-40 40,-40 40,40 -40,40\\\"><\\/polygon>\",\"label\":\"transitions_label\"},\"S\":{\"weights\":[[\"Numeric\",\"concentration\"],[\"Stringlike\",\"species_label\"]],\"shape\":\"<circle r=\\\"40\\\"><\\/circle>\",\"label\":\"species_label\"}},\"wire_types\":{\"I\":{\"weights\":[],\"src\":[\"Box\",\"S\"],\"src_map\":\"is\",\"tgt\":[\"Box\",\"T\"],\"tgt_map\":\"it\",\"style\":\"DefaultWire\"},\"O\":{\"weights\":[],\"src\":[\"Box\",\"T\"],\"src_map\":\"ot\",\"tgt\":[\"Box\",\"S\"],\"tgt_map\":\"os\",\"style\":\"DefaultWire\"}},\"port_types\":{}},\"wires\":[]},\"boxlocs\":[]}}}},\"children\":[{\"props\":{},\"nodeType\":\"DOM\",\"type\":\"node\",\"instanceArgs\":{\"namespace\":\"html\",\"tag\":\"div\"},\"children\":[]}]},\n",
       "            window,\n",
       "        );\n",
       "    } else {\n",
       "        document\n",
       "            .querySelector('[data-webio-mountpoint=\"2867421581052650426\"]')\n",
       "            .innerHTML = (\n",
       "                '<div style=\"padding: 1em; background-color: #f8d6da; border: 1px solid #f5c6cb\">' +\n",
       "                '<p><strong>WebIO not detected.</strong></p>' +\n",
       "                '<p>Please read ' +\n",
       "                '<a href=\"https://juliagizmos.github.io/WebIO.jl/latest/troubleshooting/not-detected/\" target=\"_blank\">the troubleshooting guide</a> ' +\n",
       "                'for more information on how to resolve this issue.</p>' +\n",
       "                '<p><a href=\"https://juliagizmos.github.io/WebIO.jl/latest/troubleshooting/not-detected/\" target=\"_blank\">https://juliagizmos.github.io/WebIO.jl/latest/troubleshooting/not-detected/</a></p>' +\n",
       "                '</div>'\n",
       "            );\n",
       "    }\n",
       "    </script>\n",
       "</div>\n"
      ],
      "text/plain": [
       "Semagram{Catlab.CSetDataStructures.AttributedCSet{Catlab.Theories.CatDesc{(:T, :S, :I, :O), (:it, :is, :ot, :os), (3, 3, 4, 4), (1, 2, 1, 2)}, Catlab.Theories.AttrDesc{Catlab.Theories.CatDesc{(:T, :S, :I, :O), (:it, :is, :ot, :os), (3, 3, 4, 4), (1, 2, 1, 2)}, (:N, :L), (:rate, :concentration, :species_label, :transitions_label), (1, 2, 2, 1), (1, 1, 2, 2)}, Tuple{Float64, String}, (), (), Tables, Indices} where {Tables<:NamedTuple, Indices<:NamedTuple}}(WebIO.Scope(WebIO.Node{WebIO.DOM}(WebIO.DOM(:html, :div), Any[], Dict{Symbol, Any}()), Dict{String, Tuple{Observables.AbstractObservable, Union{Nothing, Bool}}}(\"sending\" => (Observable{Dict{String, Any}} with 2 listeners. Value:\n",
       "Dict{String, Any}(\"sg\" => Dict{String, Any}(\"gen\" => Dict(\"i\" => 0), \"boxes\" => Tuple{Int64, Dict{_A, _B} where {_A, _B}}[], \"schema\" => Dict{String, Dict{Symbol, V} where V}(\"box_types\" => Dict{Symbol, BoxProperties}(:T => BoxProperties(Tuple{AttributeType, Symbol}[(Numeric, :rate), (Stringlike, :transitions_label)], \"<polygon points=\\\"-40,-40 40,-40 40,40 -40,40\\\"></polygon>\", :transitions_label), :S => BoxProperties(Tuple{AttributeType, Symbol}[(Numeric, :concentration), (Stringlike, :species_label)], \"<circle r=\\\"40\\\"></circle>\", :species_label)), \"wire_types\" => Dict{Symbol, WireProperties}(:I => WireProperties(Tuple{AttributeType, Symbol}[], (\"Box\", :S), :is, (\"Box\", :T), :it, \"DefaultWire\"), :O => WireProperties(Tuple{AttributeType, Symbol}[], (\"Box\", :T), :ot, (\"Box\", :S), :os, \"DefaultWire\")), \"port_types\" => Dict{Symbol, PortProperties}()), \"wires\" => Tuple{Int64, Dict{_A, _B} where {_A, _B}}[]), \"boxlocs\" => Tuple{Int64, Tuple{Float64, Float64}}[]), nothing), \"receiving\" => (Observable{Dict{String, Any}} with 0 listeners. Value:\n",
       "Dict{String, Any}(\"sg\" => Dict{String, Any}(\"gen\" => Dict(\"i\" => 0), \"boxes\" => Tuple{Int64, Dict{_A, _B} where {_A, _B}}[], \"schema\" => Dict{String, Dict{Symbol, V} where V}(\"box_types\" => Dict{Symbol, BoxProperties}(:T => BoxProperties(Tuple{AttributeType, Symbol}[(Numeric, :rate), (Stringlike, :transitions_label)], \"<polygon points=\\\"-40,-40 40,-40 40,40 -40,40\\\"></polygon>\", :transitions_label), :S => BoxProperties(Tuple{AttributeType, Symbol}[(Numeric, :concentration), (Stringlike, :species_label)], \"<circle r=\\\"40\\\"></circle>\", :species_label)), \"wire_types\" => Dict{Symbol, WireProperties}(:I => WireProperties(Tuple{AttributeType, Symbol}[], (\"Box\", :S), :is, (\"Box\", :T), :it, \"DefaultWire\"), :O => WireProperties(Tuple{AttributeType, Symbol}[], (\"Box\", :T), :ot, (\"Box\", :S), :os, \"DefaultWire\")), \"port_types\" => Dict{Symbol, PortProperties}()), \"wires\" => Tuple{Int64, Dict{_A, _B} where {_A, _B}}[]), \"boxlocs\" => Tuple{Int64, Tuple{Float64, Float64}}[]), nothing)), Set{String}(), nothing, WebIO.Asset[WebIO.Asset(\"js\", \"semagrams\", \"/home/o/g/Semagrams.jl/src/../deps/bundles/app.bundle.js\")], Dict{Any, Any}(\"sending\" => Any[WebIO.JSString(\"(function (newls){console.log(this); return this.state.resetWith(newls)})\")]), WebIO.ConnectionPool(Channel{Any}(32), Set{WebIO.AbstractConnection}(), Condition(Base.InvasiveLinkedList{Task}(Task (runnable) @0x00007fbc1ac04400, Task (runnable) @0x00007fbc1ac04400), Base.AlwaysLockedST(1))), WebIO.JSString[WebIO.JSString(\"(function (){var semagrams=System.registry.get(System.resolveSync(\\\"semagrams\\\")); var scopeobj=this; return setTimeout((function (){return semagrams.main(WebIO.getval({\\\"name\\\":\\\"receiving\\\",\\\"scope\\\":\\\"6472242231913019985\\\",\\\"id\\\":\\\"14858801416488504994\\\",\\\"type\\\":\\\"observable\\\"}),scopeobj,(function (x){return WebIO.setval({\\\"name\\\":\\\"receiving\\\",\\\"scope\\\":\\\"6472242231913019985\\\",\\\"id\\\":\\\"14858801416488504994\\\",\\\"type\\\":\\\"observable\\\"},x)}))}),20)})\")]), Observable{Dict{String, Any}} with 0 listeners. Value:\n",
       "Dict{String, Any}(\"sg\" => Dict{String, Any}(\"gen\" => Dict(\"i\" => 0), \"boxes\" => Tuple{Int64, Dict{_A, _B} where {_A, _B}}[], \"schema\" => Dict{String, Dict{Symbol, V} where V}(\"box_types\" => Dict{Symbol, BoxProperties}(:T => BoxProperties(Tuple{AttributeType, Symbol}[(Numeric, :rate), (Stringlike, :transitions_label)], \"<polygon points=\\\"-40,-40 40,-40 40,40 -40,40\\\"></polygon>\", :transitions_label), :S => BoxProperties(Tuple{AttributeType, Symbol}[(Numeric, :concentration), (Stringlike, :species_label)], \"<circle r=\\\"40\\\"></circle>\", :species_label)), \"wire_types\" => Dict{Symbol, WireProperties}(:I => WireProperties(Tuple{AttributeType, Symbol}[], (\"Box\", :S), :is, (\"Box\", :T), :it, \"DefaultWire\"), :O => WireProperties(Tuple{AttributeType, Symbol}[], (\"Box\", :T), :ot, (\"Box\", :S), :os, \"DefaultWire\")), \"port_types\" => Dict{Symbol, PortProperties}()), \"wires\" => Tuple{Int64, Dict{_A, _B} where {_A, _B}}[]), \"boxlocs\" => Tuple{Int64, Tuple{Float64, Float64}}[]), Observable{Dict{String, Any}} with 2 listeners. Value:\n",
       "Dict{String, Any}(\"sg\" => Dict{String, Any}(\"gen\" => Dict(\"i\" => 0), \"boxes\" => Tuple{Int64, Dict{_A, _B} where {_A, _B}}[], \"schema\" => Dict{String, Dict{Symbol, V} where V}(\"box_types\" => Dict{Symbol, BoxProperties}(:T => BoxProperties(Tuple{AttributeType, Symbol}[(Numeric, :rate), (Stringlike, :transitions_label)], \"<polygon points=\\\"-40,-40 40,-40 40,40 -40,40\\\"></polygon>\", :transitions_label), :S => BoxProperties(Tuple{AttributeType, Symbol}[(Numeric, :concentration), (Stringlike, :species_label)], \"<circle r=\\\"40\\\"></circle>\", :species_label)), \"wire_types\" => Dict{Symbol, WireProperties}(:I => WireProperties(Tuple{AttributeType, Symbol}[], (\"Box\", :S), :is, (\"Box\", :T), :it, \"DefaultWire\"), :O => WireProperties(Tuple{AttributeType, Symbol}[], (\"Box\", :T), :ot, (\"Box\", :S), :os, \"DefaultWire\")), \"port_types\" => Dict{Symbol, PortProperties}()), \"wires\" => Tuple{Int64, Dict{_A, _B} where {_A, _B}}[]), \"boxlocs\" => Tuple{Int64, Tuple{Float64, Float64}}[]))"
      ]
     },
     "execution_count": 2,
     "metadata": {
      "@webio": {
       "kernelId": "4a2ea62e-4670-44ab-935e-7313c98f4d77"
      }
     },
     "output_type": "execute_result"
    }
   ],
   "source": [
    "rxnet = Semagram{ReactionNet{Float64,String}}(ReactionNetSema)"
   ]
  },
  {
   "cell_type": "code",
   "execution_count": 5,
   "id": "saved-gothic",
   "metadata": {},
   "outputs": [
    {
     "data": {
      "text/plain": [
       "ACSet with elements T = 1:3, S = 1:3, I = 1:5, O = 1:5\n",
       "┌───┬──────┬───────────────────┐\n",
       "│\u001b[1m T \u001b[0m│\u001b[1m rate \u001b[0m│\u001b[1m transitions_label \u001b[0m│\n",
       "├───┼──────┼───────────────────┤\n",
       "│ 1 │  3.0 │                 B │\n",
       "│ 2 │  2.0 │                 D │\n",
       "│ 3 │  4.0 │    \\\\mathbf{Pred} │\n",
       "└───┴──────┴───────────────────┘\n",
       "┌───┬───────────────┬───────────────┐\n",
       "│\u001b[1m S \u001b[0m│\u001b[1m concentration \u001b[0m│\u001b[1m species_label \u001b[0m│\n",
       "├───┼───────────────┼───────────────┤\n",
       "│ 1 │          90.0 │             S │\n",
       "│ 2 │         100.0 │             F │\n",
       "│ 3 │        1000.0 │             R │\n",
       "└───┴───────────────┴───────────────┘\n",
       "┌───┬────┬────┐\n",
       "│\u001b[1m I \u001b[0m│\u001b[1m it \u001b[0m│\u001b[1m is \u001b[0m│\n",
       "├───┼────┼────┤\n",
       "│ 1 │  1 │  3 │\n",
       "│ 2 │  3 │  2 │\n",
       "│ 3 │  2 │  2 │\n",
       "│ 4 │  3 │  3 │\n",
       "│ 5 │  3 │  1 │\n",
       "└───┴────┴────┘\n",
       "┌───┬────┬────┐\n",
       "│\u001b[1m O \u001b[0m│\u001b[1m ot \u001b[0m│\u001b[1m os \u001b[0m│\n",
       "├───┼────┼────┤\n",
       "│ 1 │  1 │  3 │\n",
       "│ 2 │  1 │  3 │\n",
       "│ 3 │  3 │  1 │\n",
       "│ 4 │  3 │  2 │\n",
       "│ 5 │  3 │  2 │\n",
       "└───┴────┴────┘\n"
      ]
     },
     "execution_count": 5,
     "metadata": {},
     "output_type": "execute_result"
    }
   ],
   "source": [
    "get_acset(rxnet)"
   ]
  },
  {
   "cell_type": "code",
   "execution_count": 10,
   "id": "modular-leadership",
   "metadata": {},
   "outputs": [
    {
     "data": {
      "text/plain": [
       "Dict{String, Any} with 4 entries:\n",
       "  \"gen\"    => Dict(\"i\"=>0)\n",
       "  \"boxes\"  => Tuple{Int64, Dict{_A, _B} where {_A, _B}}[]\n",
       "  \"schema\" => Dict{String, Dict{Symbol, V} where V}(\"box_types\"=>Dict{Symbol, B…\n",
       "  \"wires\"  => Tuple{Int64, Dict{_A, _B} where {_A, _B}}[]"
      ]
     },
     "execution_count": 10,
     "metadata": {},
     "output_type": "execute_result"
    }
   ],
   "source": [
    "rxnet.receiving[][\"sg\"]"
   ]
  },
  {
   "cell_type": "code",
   "execution_count": null,
   "id": "prospective-statistics",
   "metadata": {},
   "outputs": [],
   "source": [
    "dpg = Semagram{DirectedPortGraph{Symbol}}(DirectedPortGraphSema)"
   ]
  }
 ],
 "metadata": {
  "@webio": {
   "lastCommId": "2fed89a0-5fb4-49f1-b341-98fef2db734c",
   "lastKernelId": "4a2ea62e-4670-44ab-935e-7313c98f4d77"
  },
  "kernelspec": {
   "display_name": "Julia 1.6.1",
   "language": "julia",
   "name": "julia-1.6"
  },
  "language_info": {
   "file_extension": ".jl",
   "mimetype": "application/julia",
   "name": "julia",
   "version": "1.6.1"
  }
 },
 "nbformat": 4,
 "nbformat_minor": 5
}
