{
 "cells": [
  {
   "cell_type": "code",
   "execution_count": 1,
   "id": "ad07ee2b-c263-4788-ad50-63648af4b596",
   "metadata": {},
   "outputs": [
    {
     "name": "stderr",
     "output_type": "stream",
     "text": [
      "\u001b[32m\u001b[1m  Activating\u001b[22m\u001b[39m project at `~/g/Semagrams.jl`\n"
     ]
    }
   ],
   "source": [
    "]activate ../.."
   ]
  },
  {
   "cell_type": "code",
   "execution_count": 2,
   "id": "5325f258-479b-40fb-89bc-f7d82495b6fc",
   "metadata": {},
   "outputs": [],
   "source": [
    "using Revise;"
   ]
  },
  {
   "cell_type": "code",
   "execution_count": 3,
   "id": "weekly-constitution",
   "metadata": {},
   "outputs": [
    {
     "data": {
      "application/vnd.webio.node+json": {
       "children": [],
       "instanceArgs": {
        "namespace": "html",
        "tag": "div"
       },
       "nodeType": "DOM",
       "props": {},
       "type": "node"
      },
      "text/html": [
       "<div style=\"padding: 1em; background-color: #f8d6da; border: 1px solid #f5c6cb; font-weight: bold;\">\n",
       "<p>The WebIO Jupyter extension was not detected. See the\n",
       "<a href=\"https://juliagizmos.github.io/WebIO.jl/latest/providers/ijulia/\" target=\"_blank\">\n",
       "    WebIO Jupyter integration documentation\n",
       "</a>\n",
       "for more information.\n",
       "</div>\n"
      ],
      "text/plain": [
       "WebIO._IJuliaInit()"
      ]
     },
     "metadata": {
      "@webio": {
       "kernelId": "2f7fc079-4046-46fc-af04-fbad3b9b495d"
      }
     },
     "output_type": "display_data"
    }
   ],
   "source": [
    "using Semagrams, Semagrams.Examples;"
   ]
  },
  {
   "cell_type": "code",
   "execution_count": 15,
   "id": "mental-montreal",
   "metadata": {
    "tags": []
   },
   "outputs": [
    {
     "data": {
      "application/vnd.webio.node+json": {
       "children": [
        {
         "children": [],
         "instanceArgs": {
          "namespace": "html",
          "tag": "div"
         },
         "nodeType": "DOM",
         "props": {},
         "type": "node"
        }
       ],
       "instanceArgs": {
        "handlers": {
         "sending": [
          "(function (newls){return this.state.resetWith(newls)})"
         ]
        },
        "id": "351281544917332666",
        "imports": {
         "data": [
          {
           "name": "semagrams",
           "type": "js",
           "url": "/assetserver/74640911769d23a8720073ee5ce060b0d38d9b88-app.bundle.js"
          }
         ],
         "type": "async_block"
        },
        "mount_callbacks": [
         "(function (){var semagrams=System.registry.get(System.resolveSync(\"semagrams\")); var scopeobj=this; return setTimeout((function (){return semagrams.main(WebIO.getval({\"name\":\"receiving\",\"scope\":\"351281544917332666\",\"id\":\"5971478356402474218\",\"type\":\"observable\"}),scopeobj,(function (x){return WebIO.setval({\"name\":\"receiving\",\"scope\":\"351281544917332666\",\"id\":\"5971478356402474218\",\"type\":\"observable\"},x)}),(function (x){return WebIO.setval({\"name\":\"exported\",\"scope\":\"351281544917332666\",\"id\":\"1312965969529850952\",\"type\":\"observable\"},x)}))}),20)})"
        ],
        "observables": {
         "exported": {
          "id": "1312965969529850952",
          "sync": false,
          "value": ""
         },
         "receiving": {
          "id": "5971478356402474218",
          "sync": false,
          "value": {
           "boxlocs": [],
           "sg": {
            "boxes": [],
            "gen": {
             "i": 0
            },
            "schema": {
             "box_types": {
              "S": {
               "homs": [],
               "label": "species_label",
               "shape": "<circle r=\"40\"></circle>",
               "style_fn": "(function (_){return {}})",
               "weights": [
                [
                 "Numeric",
                 "concentration"
                ],
                [
                 "Stringlike",
                 "species_label"
                ]
               ]
              },
              "T": {
               "homs": [],
               "label": "transitions_label",
               "shape": "<polygon points=\"-40,-40 40,-40 40,40 -40,40\"></polygon>",
               "style_fn": "(function (_){return {}})",
               "weights": [
                [
                 "Numeric",
                 "rate"
                ],
                [
                 "Stringlike",
                 "transitions_label"
                ]
               ]
              }
             },
             "port_types": {},
             "wire_types": {
              "I": {
               "homs": [],
               "src": [
                "Box",
                "S"
               ],
               "src_map": "is",
               "style": "DefaultWire",
               "style_fn": "(function (_){return {}})",
               "tgt": [
                "Box",
                "T"
               ],
               "tgt_map": "it",
               "weights": []
              },
              "O": {
               "homs": [],
               "src": [
                "Box",
                "T"
               ],
               "src_map": "ot",
               "style": "DefaultWire",
               "style_fn": "(function (_){return {}})",
               "tgt": [
                "Box",
                "S"
               ],
               "tgt_map": "os",
               "weights": []
              }
             }
            },
            "wires": []
           }
          }
         },
         "sending": {
          "id": "17870927113709959546",
          "sync": true,
          "value": {
           "boxlocs": [],
           "sg": {
            "boxes": [],
            "gen": {
             "i": 0
            },
            "schema": {
             "box_types": {
              "S": {
               "homs": [],
               "label": "species_label",
               "shape": "<circle r=\"40\"></circle>",
               "style_fn": "(function (_){return {}})",
               "weights": [
                [
                 "Numeric",
                 "concentration"
                ],
                [
                 "Stringlike",
                 "species_label"
                ]
               ]
              },
              "T": {
               "homs": [],
               "label": "transitions_label",
               "shape": "<polygon points=\"-40,-40 40,-40 40,40 -40,40\"></polygon>",
               "style_fn": "(function (_){return {}})",
               "weights": [
                [
                 "Numeric",
                 "rate"
                ],
                [
                 "Stringlike",
                 "transitions_label"
                ]
               ]
              }
             },
             "port_types": {},
             "wire_types": {
              "I": {
               "homs": [],
               "src": [
                "Box",
                "S"
               ],
               "src_map": "is",
               "style": "DefaultWire",
               "style_fn": "(function (_){return {}})",
               "tgt": [
                "Box",
                "T"
               ],
               "tgt_map": "it",
               "weights": []
              },
              "O": {
               "homs": [],
               "src": [
                "Box",
                "T"
               ],
               "src_map": "ot",
               "style": "DefaultWire",
               "style_fn": "(function (_){return {}})",
               "tgt": [
                "Box",
                "S"
               ],
               "tgt_map": "os",
               "weights": []
              }
             }
            },
            "wires": []
           }
          }
         }
        },
        "systemjs_options": null
       },
       "nodeType": "Scope",
       "props": {},
       "type": "node"
      },
      "text/html": [
       "<div\n",
       "    class=\"webio-mountpoint\"\n",
       "    data-webio-mountpoint=\"6555095270316600518\"\n",
       ">\n",
       "    <script>\n",
       "    (function(){\n",
       "    // Some integrations (namely, IJulia/Jupyter) use an alternate render pathway than\n",
       "    // just putting the html on the page. If WebIO isn't defined, then it's pretty likely\n",
       "    // that we're in one of those situations and the integration just isn't installed\n",
       "    // correctly.\n",
       "    if (typeof window.WebIO === \"undefined\") {\n",
       "        document\n",
       "            .querySelector('[data-webio-mountpoint=\"6555095270316600518\"]')\n",
       "            .innerHTML = (\n",
       "                '<div style=\"padding: 1em; background-color: #f8d6da; border: 1px solid #f5c6cb; font-weight: bold;\">' +\n",
       "                '<p><strong>WebIO not detected.</strong></p>' +\n",
       "                '<p>Please read ' +\n",
       "                '<a href=\"https://juliagizmos.github.io/WebIO.jl/latest/troubleshooting/not-detected/\" target=\"_blank\">the troubleshooting guide</a> ' +\n",
       "                'for more information on how to resolve this issue.</p>' +\n",
       "                '<p><a href=\"https://juliagizmos.github.io/WebIO.jl/latest/troubleshooting/not-detected/\" target=\"_blank\">https://juliagizmos.github.io/WebIO.jl/latest/troubleshooting/not-detected/</a></p>' +\n",
       "                '</div>'\n",
       "            );\n",
       "        return;\n",
       "    }\n",
       "    WebIO.mount(\n",
       "        document.querySelector('[data-webio-mountpoint=\"6555095270316600518\"]'),\n",
       "        {\"props\":{},\"nodeType\":\"Scope\",\"type\":\"node\",\"instanceArgs\":{\"imports\":{\"data\":[{\"name\":\"semagrams\",\"type\":\"js\",\"url\":\"\\/assetserver\\/74640911769d23a8720073ee5ce060b0d38d9b88-app.bundle.js\"}],\"type\":\"async_block\"},\"id\":\"351281544917332666\",\"handlers\":{\"sending\":[\"(function (newls){return this.state.resetWith(newls)})\"]},\"systemjs_options\":null,\"mount_callbacks\":[\"(function (){var semagrams=System.registry.get(System.resolveSync(\\\"semagrams\\\")); var scopeobj=this; return setTimeout((function (){return semagrams.main(WebIO.getval({\\\"name\\\":\\\"receiving\\\",\\\"scope\\\":\\\"351281544917332666\\\",\\\"id\\\":\\\"5971478356402474218\\\",\\\"type\\\":\\\"observable\\\"}),scopeobj,(function (x){return WebIO.setval({\\\"name\\\":\\\"receiving\\\",\\\"scope\\\":\\\"351281544917332666\\\",\\\"id\\\":\\\"5971478356402474218\\\",\\\"type\\\":\\\"observable\\\"},x)}),(function (x){return WebIO.setval({\\\"name\\\":\\\"exported\\\",\\\"scope\\\":\\\"351281544917332666\\\",\\\"id\\\":\\\"1312965969529850952\\\",\\\"type\\\":\\\"observable\\\"},x)}))}),20)})\"],\"observables\":{\"sending\":{\"sync\":true,\"id\":\"17870927113709959546\",\"value\":{\"sg\":{\"gen\":{\"i\":0},\"boxes\":[],\"schema\":{\"box_types\":{\"S\":{\"label\":\"species_label\",\"shape\":\"<circle r=\\\"40\\\"><\\/circle>\",\"homs\":[],\"weights\":[[\"Numeric\",\"concentration\"],[\"Stringlike\",\"species_label\"]],\"style_fn\":\"(function (_){return {}})\"},\"T\":{\"label\":\"transitions_label\",\"shape\":\"<polygon points=\\\"-40,-40 40,-40 40,40 -40,40\\\"><\\/polygon>\",\"homs\":[],\"weights\":[[\"Numeric\",\"rate\"],[\"Stringlike\",\"transitions_label\"]],\"style_fn\":\"(function (_){return {}})\"}},\"wire_types\":{\"I\":{\"src_map\":\"is\",\"homs\":[],\"weights\":[],\"style\":\"DefaultWire\",\"src\":[\"Box\",\"S\"],\"tgt\":[\"Box\",\"T\"],\"tgt_map\":\"it\",\"style_fn\":\"(function (_){return {}})\"},\"O\":{\"src_map\":\"ot\",\"homs\":[],\"weights\":[],\"style\":\"DefaultWire\",\"src\":[\"Box\",\"T\"],\"tgt\":[\"Box\",\"S\"],\"tgt_map\":\"os\",\"style_fn\":\"(function (_){return {}})\"}},\"port_types\":{}},\"wires\":[]},\"boxlocs\":[]}},\"exported\":{\"sync\":false,\"id\":\"1312965969529850952\",\"value\":\"\"},\"receiving\":{\"sync\":false,\"id\":\"5971478356402474218\",\"value\":{\"sg\":{\"gen\":{\"i\":0},\"boxes\":[],\"schema\":{\"box_types\":{\"S\":{\"label\":\"species_label\",\"shape\":\"<circle r=\\\"40\\\"><\\/circle>\",\"homs\":[],\"weights\":[[\"Numeric\",\"concentration\"],[\"Stringlike\",\"species_label\"]],\"style_fn\":\"(function (_){return {}})\"},\"T\":{\"label\":\"transitions_label\",\"shape\":\"<polygon points=\\\"-40,-40 40,-40 40,40 -40,40\\\"><\\/polygon>\",\"homs\":[],\"weights\":[[\"Numeric\",\"rate\"],[\"Stringlike\",\"transitions_label\"]],\"style_fn\":\"(function (_){return {}})\"}},\"wire_types\":{\"I\":{\"src_map\":\"is\",\"homs\":[],\"weights\":[],\"style\":\"DefaultWire\",\"src\":[\"Box\",\"S\"],\"tgt\":[\"Box\",\"T\"],\"tgt_map\":\"it\",\"style_fn\":\"(function (_){return {}})\"},\"O\":{\"src_map\":\"ot\",\"homs\":[],\"weights\":[],\"style\":\"DefaultWire\",\"src\":[\"Box\",\"T\"],\"tgt\":[\"Box\",\"S\"],\"tgt_map\":\"os\",\"style_fn\":\"(function (_){return {}})\"}},\"port_types\":{}},\"wires\":[]},\"boxlocs\":[]}}}},\"children\":[{\"props\":{},\"nodeType\":\"DOM\",\"type\":\"node\",\"instanceArgs\":{\"namespace\":\"html\",\"tag\":\"div\"},\"children\":[]}]},\n",
       "        window,\n",
       "    );\n",
       "    })()\n",
       "    </script>\n",
       "</div>\n"
      ],
      "text/plain": [
       "Semagram{Catlab.CSetDataStructures.AttributedCSet{Catlab.Theories.CatDesc{(:T, :S, :I, :O), (:it, :is, :ot, :os), (3, 3, 4, 4), (1, 2, 1, 2)}, Catlab.Theories.AttrDesc{Catlab.Theories.CatDesc{(:T, :S, :I, :O), (:it, :is, :ot, :os), (3, 3, 4, 4), (1, 2, 1, 2)}, (:N, :L), (:rate, :concentration, :species_label, :transitions_label), (1, 2, 2, 1), (1, 1, 2, 2)}, Tuple{Float64, String}, (), ()}}(WebIO.Scope(WebIO.Node{WebIO.DOM}(WebIO.DOM(:html, :div), Any[], Dict{Symbol, Any}()), Dict{String, Tuple{Observables.AbstractObservable, Union{Nothing, Bool}}}(\"sending\" => (Observable{Dict{String, Any}} with 2 listeners. Value:\n",
       "Dict{String, Any}(\"sg\" => Dict{String, Any}(\"gen\" => Dict(\"i\" => 0), \"boxes\" => Any[], \"schema\" => Dict{String, Dict}(\"box_types\" => Dict{String, Dict{String, Any}}(\"S\" => Dict(\"label\" => \"species_label\", \"shape\" => \"<circle r=\\\"40\\\"></circle>\", \"homs\" => Dict{String, String}[], \"weights\" => Tuple{AttributeType, Symbol}[(Numeric, :concentration), (Stringlike, :species_label)], \"style_fn\" => \"(function (_){return {}})\"), \"T\" => Dict(\"label\" => \"transitions_label\", \"shape\" => \"<polygon points=\\\"-40,-40 40,-40 40,40 -40,40\\\"></polygon>\", \"homs\" => Dict{String, String}[], \"weights\" => Tuple{AttributeType, Symbol}[(Numeric, :rate), (Stringlike, :transitions_label)], \"style_fn\" => \"(function (_){return {}})\")), \"wire_types\" => Dict{String, Dict{String, Any}}(\"I\" => Dict(\"src_map\" => \"is\", \"homs\" => Dict{String, String}[], \"weights\" => Tuple{AttributeType, Symbol}[], \"style\" => \"DefaultWire\", \"src\" => (Semagrams.Schema.Box, :S), \"tgt\" => (Semagrams.Schema.Box, :T), \"tgt_map\" => \"it\", \"style_fn\" => \"(function (_){return {}})\"), \"O\" => Dict(\"src_map\" => \"ot\", \"homs\" => Dict{String, String}[], \"weights\" => Tuple{AttributeType, Symbol}[], \"style\" => \"DefaultWire\", \"src\" => (Semagrams.Schema.Box, :T), \"tgt\" => (Semagrams.Schema.Box, :S), \"tgt_map\" => \"os\", \"style_fn\" => \"(function (_){return {}})\")), \"port_types\" => Dict{Any, Any}()), \"wires\" => Any[]), \"boxlocs\" => Tuple{Int64, Tuple{Float64, Float64}}[]), nothing), \"exported\" => (Observable{String} with 0 listeners. Value:\n",
       "\"\", nothing), \"receiving\" => (Observable{Dict{String, Any}} with 0 listeners. Value:\n",
       "Dict{String, Any}(\"sg\" => Dict{String, Any}(\"gen\" => Dict(\"i\" => 0), \"boxes\" => Any[], \"schema\" => Dict{String, Dict}(\"box_types\" => Dict{String, Dict{String, Any}}(\"S\" => Dict(\"label\" => \"species_label\", \"shape\" => \"<circle r=\\\"40\\\"></circle>\", \"homs\" => Dict{String, String}[], \"weights\" => Tuple{AttributeType, Symbol}[(Numeric, :concentration), (Stringlike, :species_label)], \"style_fn\" => \"(function (_){return {}})\"), \"T\" => Dict(\"label\" => \"transitions_label\", \"shape\" => \"<polygon points=\\\"-40,-40 40,-40 40,40 -40,40\\\"></polygon>\", \"homs\" => Dict{String, String}[], \"weights\" => Tuple{AttributeType, Symbol}[(Numeric, :rate), (Stringlike, :transitions_label)], \"style_fn\" => \"(function (_){return {}})\")), \"wire_types\" => Dict{String, Dict{String, Any}}(\"I\" => Dict(\"src_map\" => \"is\", \"homs\" => Dict{String, String}[], \"weights\" => Tuple{AttributeType, Symbol}[], \"style\" => \"DefaultWire\", \"src\" => (Semagrams.Schema.Box, :S), \"tgt\" => (Semagrams.Schema.Box, :T), \"tgt_map\" => \"it\", \"style_fn\" => \"(function (_){return {}})\"), \"O\" => Dict(\"src_map\" => \"ot\", \"homs\" => Dict{String, String}[], \"weights\" => Tuple{AttributeType, Symbol}[], \"style\" => \"DefaultWire\", \"src\" => (Semagrams.Schema.Box, :T), \"tgt\" => (Semagrams.Schema.Box, :S), \"tgt_map\" => \"os\", \"style_fn\" => \"(function (_){return {}})\")), \"port_types\" => Dict{Any, Any}()), \"wires\" => Any[]), \"boxlocs\" => Tuple{Int64, Tuple{Float64, Float64}}[]), nothing)), Set{String}(), nothing, WebIO.Asset[WebIO.Asset(\"js\", \"semagrams\", \"/home/o/g/Semagrams.jl/src/../deps/bundles/app.bundle.js\")], Dict{Any, Any}(\"sending\" => Any[WebIO.JSString(\"(function (newls){return this.state.resetWith(newls)})\")]), WebIO.ConnectionPool(Channel{Any}(32), Set{WebIO.AbstractConnection}(), Condition(Base.InvasiveLinkedList{Task}(Task (runnable) @0x00007f8829592f80, Task (runnable) @0x00007f8829592f80), Base.AlwaysLockedST(1))), WebIO.JSString[WebIO.JSString(\"(function (){var semagrams=System.registry.get(System.resolveSync(\\\"semagrams\\\")); var scopeobj=this; return setTimeout((function (){return semagrams.main(WebIO.getval({\\\"name\\\":\\\"receiving\\\",\\\"scope\\\":\\\"351281544917332666\\\",\\\"id\\\":\\\"5971478356402474218\\\",\\\"type\\\":\\\"observable\\\"}),scopeobj,(function (x){return WebIO.setval({\\\"name\\\":\\\"receiving\\\",\\\"scope\\\":\\\"351281544917332666\\\",\\\"id\\\":\\\"5971478356402474218\\\",\\\"type\\\":\\\"observable\\\"},x)}),(function (x){return WebIO.setval({\\\"name\\\":\\\"exported\\\",\\\"scope\\\":\\\"351281544917332666\\\",\\\"id\\\":\\\"1312965969529850952\\\",\\\"type\\\":\\\"observable\\\"},x)}))}),20)})\")]), Observable{Dict{String, Any}} with 0 listeners. Value:\n",
       "Dict{String, Any}(\"sg\" => Dict{String, Any}(\"gen\" => Dict(\"i\" => 0), \"boxes\" => Any[], \"schema\" => Dict{String, Dict}(\"box_types\" => Dict{String, Dict{String, Any}}(\"S\" => Dict(\"label\" => \"species_label\", \"shape\" => \"<circle r=\\\"40\\\"></circle>\", \"homs\" => Dict{String, String}[], \"weights\" => Tuple{AttributeType, Symbol}[(Numeric, :concentration), (Stringlike, :species_label)], \"style_fn\" => \"(function (_){return {}})\"), \"T\" => Dict(\"label\" => \"transitions_label\", \"shape\" => \"<polygon points=\\\"-40,-40 40,-40 40,40 -40,40\\\"></polygon>\", \"homs\" => Dict{String, String}[], \"weights\" => Tuple{AttributeType, Symbol}[(Numeric, :rate), (Stringlike, :transitions_label)], \"style_fn\" => \"(function (_){return {}})\")), \"wire_types\" => Dict{String, Dict{String, Any}}(\"I\" => Dict(\"src_map\" => \"is\", \"homs\" => Dict{String, String}[], \"weights\" => Tuple{AttributeType, Symbol}[], \"style\" => \"DefaultWire\", \"src\" => (Semagrams.Schema.Box, :S), \"tgt\" => (Semagrams.Schema.Box, :T), \"tgt_map\" => \"it\", \"style_fn\" => \"(function (_){return {}})\"), \"O\" => Dict(\"src_map\" => \"ot\", \"homs\" => Dict{String, String}[], \"weights\" => Tuple{AttributeType, Symbol}[], \"style\" => \"DefaultWire\", \"src\" => (Semagrams.Schema.Box, :T), \"tgt\" => (Semagrams.Schema.Box, :S), \"tgt_map\" => \"os\", \"style_fn\" => \"(function (_){return {}})\")), \"port_types\" => Dict{Any, Any}()), \"wires\" => Any[]), \"boxlocs\" => Tuple{Int64, Tuple{Float64, Float64}}[]), Observable{Dict{String, Any}} with 2 listeners. Value:\n",
       "Dict{String, Any}(\"sg\" => Dict{String, Any}(\"gen\" => Dict(\"i\" => 0), \"boxes\" => Any[], \"schema\" => Dict{String, Dict}(\"box_types\" => Dict{String, Dict{String, Any}}(\"S\" => Dict(\"label\" => \"species_label\", \"shape\" => \"<circle r=\\\"40\\\"></circle>\", \"homs\" => Dict{String, String}[], \"weights\" => Tuple{AttributeType, Symbol}[(Numeric, :concentration), (Stringlike, :species_label)], \"style_fn\" => \"(function (_){return {}})\"), \"T\" => Dict(\"label\" => \"transitions_label\", \"shape\" => \"<polygon points=\\\"-40,-40 40,-40 40,40 -40,40\\\"></polygon>\", \"homs\" => Dict{String, String}[], \"weights\" => Tuple{AttributeType, Symbol}[(Numeric, :rate), (Stringlike, :transitions_label)], \"style_fn\" => \"(function (_){return {}})\")), \"wire_types\" => Dict{String, Dict{String, Any}}(\"I\" => Dict(\"src_map\" => \"is\", \"homs\" => Dict{String, String}[], \"weights\" => Tuple{AttributeType, Symbol}[], \"style\" => \"DefaultWire\", \"src\" => (Semagrams.Schema.Box, :S), \"tgt\" => (Semagrams.Schema.Box, :T), \"tgt_map\" => \"it\", \"style_fn\" => \"(function (_){return {}})\"), \"O\" => Dict(\"src_map\" => \"ot\", \"homs\" => Dict{String, String}[], \"weights\" => Tuple{AttributeType, Symbol}[], \"style\" => \"DefaultWire\", \"src\" => (Semagrams.Schema.Box, :T), \"tgt\" => (Semagrams.Schema.Box, :S), \"tgt_map\" => \"os\", \"style_fn\" => \"(function (_){return {}})\")), \"port_types\" => Dict{Any, Any}()), \"wires\" => Any[]), \"boxlocs\" => Tuple{Int64, Tuple{Float64, Float64}}[]), Observable{String} with 0 listeners. Value:\n",
       "\"\")"
      ]
     },
     "execution_count": 15,
     "metadata": {
      "@webio": {
       "kernelId": "2f7fc079-4046-46fc-af04-fbad3b9b495d"
      }
     },
     "output_type": "execute_result"
    }
   ],
   "source": [
    "rxnet = Semagram{ReactionNet{Float64,String}}(ReactionNetSema)"
   ]
  },
  {
   "cell_type": "code",
   "execution_count": 17,
   "id": "saved-gothic",
   "metadata": {},
   "outputs": [
    {
     "data": {
      "text/html": [
       "<div class=\"c-set\">\n",
       "<span class=\"c-set-summary\">ACSet with elements T = 1:1, S = 1:1, I = 1:0, O = 1:0</span>\n",
       "<table>\n",
       "  <thead>\n",
       "    <tr class = \"header headerLastRow\">\n",
       "      <th class = \"rowNumber\">T</th>\n",
       "      <th style = \"text-align: right;\">rate</th>\n",
       "      <th style = \"text-align: right;\">transitions_label</th>\n",
       "    </tr>\n",
       "  </thead>\n",
       "  <tbody>\n",
       "    <tr>\n",
       "      <td class = \"rowNumber\">1</td>\n",
       "      <td style = \"text-align: right;\">2.0</td>\n",
       "      <td style = \"text-align: right;\">\\\\alpha</td>\n",
       "    </tr>\n",
       "  </tbody>\n",
       "</table>\n",
       "<table>\n",
       "  <thead>\n",
       "    <tr class = \"header headerLastRow\">\n",
       "      <th class = \"rowNumber\">S</th>\n",
       "      <th style = \"text-align: right;\">concentration</th>\n",
       "      <th style = \"text-align: right;\">species_label</th>\n",
       "    </tr>\n",
       "  </thead>\n",
       "  <tbody>\n",
       "    <tr>\n",
       "      <td class = \"rowNumber\">1</td>\n",
       "      <td style = \"text-align: right;\">5.0</td>\n",
       "      <td style = \"text-align: right;\">S</td>\n",
       "    </tr>\n",
       "  </tbody>\n",
       "</table>\n",
       "</div>\n"
      ],
      "text/plain": [
       "ACSet with elements T = 1:1, S = 1:1, I = 1:0, O = 1:0\n",
       "┌───┬──────┬───────────────────┐\n",
       "│\u001b[1m T \u001b[0m│\u001b[1m rate \u001b[0m│\u001b[1m transitions_label \u001b[0m│\n",
       "├───┼──────┼───────────────────┤\n",
       "│ 1 │  2.0 │           \\\\alpha │\n",
       "└───┴──────┴───────────────────┘\n",
       "┌───┬───────────────┬───────────────┐\n",
       "│\u001b[1m S \u001b[0m│\u001b[1m concentration \u001b[0m│\u001b[1m species_label \u001b[0m│\n",
       "├───┼───────────────┼───────────────┤\n",
       "│ 1 │           5.0 │             S │\n",
       "└───┴───────────────┴───────────────┘\n"
      ]
     },
     "execution_count": 17,
     "metadata": {},
     "output_type": "execute_result"
    }
   ],
   "source": [
    "get_acset(rxnet)"
   ]
  },
  {
   "cell_type": "code",
   "execution_count": 18,
   "id": "prospective-statistics",
   "metadata": {},
   "outputs": [
    {
     "data": {
      "application/vnd.webio.node+json": {
       "children": [
        {
         "children": [],
         "instanceArgs": {
          "namespace": "html",
          "tag": "div"
         },
         "nodeType": "DOM",
         "props": {},
         "type": "node"
        }
       ],
       "instanceArgs": {
        "handlers": {
         "sending": [
          "(function (newls){return this.state.resetWith(newls)})"
         ]
        },
        "id": "17393232624305881627",
        "imports": {
         "data": [
          {
           "name": "semagrams",
           "type": "js",
           "url": "/assetserver/74640911769d23a8720073ee5ce060b0d38d9b88-app.bundle.js"
          }
         ],
         "type": "async_block"
        },
        "mount_callbacks": [
         "(function (){var semagrams=System.registry.get(System.resolveSync(\"semagrams\")); var scopeobj=this; return setTimeout((function (){return semagrams.main(WebIO.getval({\"name\":\"receiving\",\"scope\":\"17393232624305881627\",\"id\":\"9826345292813257761\",\"type\":\"observable\"}),scopeobj,(function (x){return WebIO.setval({\"name\":\"receiving\",\"scope\":\"17393232624305881627\",\"id\":\"9826345292813257761\",\"type\":\"observable\"},x)}),(function (x){return WebIO.setval({\"name\":\"exported\",\"scope\":\"17393232624305881627\",\"id\":\"2984991439023534284\",\"type\":\"observable\"},x)}))}),20)})"
        ],
        "observables": {
         "exported": {
          "id": "2984991439023534284",
          "sync": false,
          "value": ""
         },
         "receiving": {
          "id": "9826345292813257761",
          "sync": false,
          "value": {
           "boxlocs": [],
           "sg": {
            "boxes": [],
            "gen": {
             "i": 0
            },
            "schema": {
             "box_types": {
              "Box": {
               "homs": [],
               "label": "label",
               "shape": "<polygon points=\"-40,-40 40,-40 40,40 -40,40\"></polygon>",
               "style_fn": "(function (_){return {}})",
               "weights": [
                [
                 "Stringlike",
                 "label"
                ]
               ]
              }
             },
             "port_types": {
              "IPort": {
               "box": "Box",
               "box_map": "ibox",
               "homs": [],
               "style": "Input",
               "style_fn": "(function (_){return {}})",
               "weights": []
              },
              "OPort": {
               "box": "Box",
               "box_map": "obox",
               "homs": [],
               "style": "Output",
               "style_fn": "(function (_){return {}})",
               "weights": []
              }
             },
             "wire_types": {
              "Wire": {
               "homs": [],
               "src": [
                "Port",
                "OPort"
               ],
               "src_map": "src",
               "style": "DefaultWire",
               "style_fn": "(function (_){return {}})",
               "tgt": [
                "Port",
                "IPort"
               ],
               "tgt_map": "tgt",
               "weights": []
              }
             }
            },
            "wires": []
           }
          }
         },
         "sending": {
          "id": "14954418077042505098",
          "sync": true,
          "value": {
           "boxlocs": [],
           "sg": {
            "boxes": [],
            "gen": {
             "i": 0
            },
            "schema": {
             "box_types": {
              "Box": {
               "homs": [],
               "label": "label",
               "shape": "<polygon points=\"-40,-40 40,-40 40,40 -40,40\"></polygon>",
               "style_fn": "(function (_){return {}})",
               "weights": [
                [
                 "Stringlike",
                 "label"
                ]
               ]
              }
             },
             "port_types": {
              "IPort": {
               "box": "Box",
               "box_map": "ibox",
               "homs": [],
               "style": "Input",
               "style_fn": "(function (_){return {}})",
               "weights": []
              },
              "OPort": {
               "box": "Box",
               "box_map": "obox",
               "homs": [],
               "style": "Output",
               "style_fn": "(function (_){return {}})",
               "weights": []
              }
             },
             "wire_types": {
              "Wire": {
               "homs": [],
               "src": [
                "Port",
                "OPort"
               ],
               "src_map": "src",
               "style": "DefaultWire",
               "style_fn": "(function (_){return {}})",
               "tgt": [
                "Port",
                "IPort"
               ],
               "tgt_map": "tgt",
               "weights": []
              }
             }
            },
            "wires": []
           }
          }
         }
        },
        "systemjs_options": null
       },
       "nodeType": "Scope",
       "props": {},
       "type": "node"
      },
      "text/html": [
       "<div\n",
       "    class=\"webio-mountpoint\"\n",
       "    data-webio-mountpoint=\"3211112108968671456\"\n",
       ">\n",
       "    <script>\n",
       "    (function(){\n",
       "    // Some integrations (namely, IJulia/Jupyter) use an alternate render pathway than\n",
       "    // just putting the html on the page. If WebIO isn't defined, then it's pretty likely\n",
       "    // that we're in one of those situations and the integration just isn't installed\n",
       "    // correctly.\n",
       "    if (typeof window.WebIO === \"undefined\") {\n",
       "        document\n",
       "            .querySelector('[data-webio-mountpoint=\"3211112108968671456\"]')\n",
       "            .innerHTML = (\n",
       "                '<div style=\"padding: 1em; background-color: #f8d6da; border: 1px solid #f5c6cb; font-weight: bold;\">' +\n",
       "                '<p><strong>WebIO not detected.</strong></p>' +\n",
       "                '<p>Please read ' +\n",
       "                '<a href=\"https://juliagizmos.github.io/WebIO.jl/latest/troubleshooting/not-detected/\" target=\"_blank\">the troubleshooting guide</a> ' +\n",
       "                'for more information on how to resolve this issue.</p>' +\n",
       "                '<p><a href=\"https://juliagizmos.github.io/WebIO.jl/latest/troubleshooting/not-detected/\" target=\"_blank\">https://juliagizmos.github.io/WebIO.jl/latest/troubleshooting/not-detected/</a></p>' +\n",
       "                '</div>'\n",
       "            );\n",
       "        return;\n",
       "    }\n",
       "    WebIO.mount(\n",
       "        document.querySelector('[data-webio-mountpoint=\"3211112108968671456\"]'),\n",
       "        {\"props\":{},\"nodeType\":\"Scope\",\"type\":\"node\",\"instanceArgs\":{\"imports\":{\"data\":[{\"name\":\"semagrams\",\"type\":\"js\",\"url\":\"\\/assetserver\\/74640911769d23a8720073ee5ce060b0d38d9b88-app.bundle.js\"}],\"type\":\"async_block\"},\"id\":\"17393232624305881627\",\"handlers\":{\"sending\":[\"(function (newls){return this.state.resetWith(newls)})\"]},\"systemjs_options\":null,\"mount_callbacks\":[\"(function (){var semagrams=System.registry.get(System.resolveSync(\\\"semagrams\\\")); var scopeobj=this; return setTimeout((function (){return semagrams.main(WebIO.getval({\\\"name\\\":\\\"receiving\\\",\\\"scope\\\":\\\"17393232624305881627\\\",\\\"id\\\":\\\"9826345292813257761\\\",\\\"type\\\":\\\"observable\\\"}),scopeobj,(function (x){return WebIO.setval({\\\"name\\\":\\\"receiving\\\",\\\"scope\\\":\\\"17393232624305881627\\\",\\\"id\\\":\\\"9826345292813257761\\\",\\\"type\\\":\\\"observable\\\"},x)}),(function (x){return WebIO.setval({\\\"name\\\":\\\"exported\\\",\\\"scope\\\":\\\"17393232624305881627\\\",\\\"id\\\":\\\"2984991439023534284\\\",\\\"type\\\":\\\"observable\\\"},x)}))}),20)})\"],\"observables\":{\"sending\":{\"sync\":true,\"id\":\"14954418077042505098\",\"value\":{\"sg\":{\"gen\":{\"i\":0},\"boxes\":[],\"schema\":{\"box_types\":{\"Box\":{\"label\":\"label\",\"shape\":\"<polygon points=\\\"-40,-40 40,-40 40,40 -40,40\\\"><\\/polygon>\",\"homs\":[],\"weights\":[[\"Stringlike\",\"label\"]],\"style_fn\":\"(function (_){return {}})\"}},\"wire_types\":{\"Wire\":{\"src_map\":\"src\",\"homs\":[],\"weights\":[],\"style\":\"DefaultWire\",\"src\":[\"Port\",\"OPort\"],\"tgt\":[\"Port\",\"IPort\"],\"tgt_map\":\"tgt\",\"style_fn\":\"(function (_){return {}})\"}},\"port_types\":{\"OPort\":{\"homs\":[],\"weights\":[],\"box\":\"Box\",\"style\":\"Output\",\"style_fn\":\"(function (_){return {}})\",\"box_map\":\"obox\"},\"IPort\":{\"homs\":[],\"weights\":[],\"box\":\"Box\",\"style\":\"Input\",\"style_fn\":\"(function (_){return {}})\",\"box_map\":\"ibox\"}}},\"wires\":[]},\"boxlocs\":[]}},\"exported\":{\"sync\":false,\"id\":\"2984991439023534284\",\"value\":\"\"},\"receiving\":{\"sync\":false,\"id\":\"9826345292813257761\",\"value\":{\"sg\":{\"gen\":{\"i\":0},\"boxes\":[],\"schema\":{\"box_types\":{\"Box\":{\"label\":\"label\",\"shape\":\"<polygon points=\\\"-40,-40 40,-40 40,40 -40,40\\\"><\\/polygon>\",\"homs\":[],\"weights\":[[\"Stringlike\",\"label\"]],\"style_fn\":\"(function (_){return {}})\"}},\"wire_types\":{\"Wire\":{\"src_map\":\"src\",\"homs\":[],\"weights\":[],\"style\":\"DefaultWire\",\"src\":[\"Port\",\"OPort\"],\"tgt\":[\"Port\",\"IPort\"],\"tgt_map\":\"tgt\",\"style_fn\":\"(function (_){return {}})\"}},\"port_types\":{\"OPort\":{\"homs\":[],\"weights\":[],\"box\":\"Box\",\"style\":\"Output\",\"style_fn\":\"(function (_){return {}})\",\"box_map\":\"obox\"},\"IPort\":{\"homs\":[],\"weights\":[],\"box\":\"Box\",\"style\":\"Input\",\"style_fn\":\"(function (_){return {}})\",\"box_map\":\"ibox\"}}},\"wires\":[]},\"boxlocs\":[]}}}},\"children\":[{\"props\":{},\"nodeType\":\"DOM\",\"type\":\"node\",\"instanceArgs\":{\"namespace\":\"html\",\"tag\":\"div\"},\"children\":[]}]},\n",
       "        window,\n",
       "    );\n",
       "    })()\n",
       "    </script>\n",
       "</div>\n"
      ],
      "text/plain": [
       "Semagram{Catlab.CSetDataStructures.AttributedCSet{Catlab.Theories.CatDesc{(:Box, :IPort, :OPort, :Wire), (:ibox, :obox, :src, :tgt), (2, 3, 4, 4), (1, 1, 3, 2)}, Catlab.Theories.AttrDesc{Catlab.Theories.CatDesc{(:Box, :IPort, :OPort, :Wire), (:ibox, :obox, :src, :tgt), (2, 3, 4, 4), (1, 1, 3, 2)}, (:String,), (:label,), (1,), (1,)}, Tuple{Symbol}, (), ()}}(WebIO.Scope(WebIO.Node{WebIO.DOM}(WebIO.DOM(:html, :div), Any[], Dict{Symbol, Any}()), Dict{String, Tuple{Observables.AbstractObservable, Union{Nothing, Bool}}}(\"sending\" => (Observable{Dict{String, Any}} with 2 listeners. Value:\n",
       "Dict{String, Any}(\"sg\" => Dict{String, Any}(\"gen\" => Dict(\"i\" => 0), \"boxes\" => Any[], \"schema\" => Dict{String, Dict{String, Dict{String, Any}}}(\"box_types\" => Dict(\"Box\" => Dict(\"label\" => \"label\", \"shape\" => \"<polygon points=\\\"-40,-40 40,-40 40,40 -40,40\\\"></polygon>\", \"homs\" => Dict{String, String}[], \"weights\" => Tuple{AttributeType, Symbol}[(Stringlike, :label)], \"style_fn\" => \"(function (_){return {}})\")), \"wire_types\" => Dict(\"Wire\" => Dict(\"src_map\" => \"src\", \"homs\" => Dict{String, String}[], \"weights\" => Tuple{AttributeType, Symbol}[], \"style\" => \"DefaultWire\", \"src\" => (Semagrams.Schema.Port, :OPort), \"tgt\" => (Semagrams.Schema.Port, :IPort), \"tgt_map\" => \"tgt\", \"style_fn\" => \"(function (_){return {}})\")), \"port_types\" => Dict(\"OPort\" => Dict(\"homs\" => Dict{String, String}[], \"weights\" => Tuple{AttributeType, Symbol}[], \"box\" => \"Box\", \"style\" => \"Output\", \"style_fn\" => \"(function (_){return {}})\", \"box_map\" => \"obox\"), \"IPort\" => Dict(\"homs\" => Dict{String, String}[], \"weights\" => Tuple{AttributeType, Symbol}[], \"box\" => \"Box\", \"style\" => \"Input\", \"style_fn\" => \"(function (_){return {}})\", \"box_map\" => \"ibox\"))), \"wires\" => Any[]), \"boxlocs\" => Tuple{Int64, Tuple{Float64, Float64}}[]), nothing), \"exported\" => (Observable{String} with 0 listeners. Value:\n",
       "\"\", nothing), \"receiving\" => (Observable{Dict{String, Any}} with 0 listeners. Value:\n",
       "Dict{String, Any}(\"sg\" => Dict{String, Any}(\"gen\" => Dict(\"i\" => 0), \"boxes\" => Any[], \"schema\" => Dict{String, Dict{String, Dict{String, Any}}}(\"box_types\" => Dict(\"Box\" => Dict(\"label\" => \"label\", \"shape\" => \"<polygon points=\\\"-40,-40 40,-40 40,40 -40,40\\\"></polygon>\", \"homs\" => Dict{String, String}[], \"weights\" => Tuple{AttributeType, Symbol}[(Stringlike, :label)], \"style_fn\" => \"(function (_){return {}})\")), \"wire_types\" => Dict(\"Wire\" => Dict(\"src_map\" => \"src\", \"homs\" => Dict{String, String}[], \"weights\" => Tuple{AttributeType, Symbol}[], \"style\" => \"DefaultWire\", \"src\" => (Semagrams.Schema.Port, :OPort), \"tgt\" => (Semagrams.Schema.Port, :IPort), \"tgt_map\" => \"tgt\", \"style_fn\" => \"(function (_){return {}})\")), \"port_types\" => Dict(\"OPort\" => Dict(\"homs\" => Dict{String, String}[], \"weights\" => Tuple{AttributeType, Symbol}[], \"box\" => \"Box\", \"style\" => \"Output\", \"style_fn\" => \"(function (_){return {}})\", \"box_map\" => \"obox\"), \"IPort\" => Dict(\"homs\" => Dict{String, String}[], \"weights\" => Tuple{AttributeType, Symbol}[], \"box\" => \"Box\", \"style\" => \"Input\", \"style_fn\" => \"(function (_){return {}})\", \"box_map\" => \"ibox\"))), \"wires\" => Any[]), \"boxlocs\" => Tuple{Int64, Tuple{Float64, Float64}}[]), nothing)), Set{String}(), nothing, WebIO.Asset[WebIO.Asset(\"js\", \"semagrams\", \"/home/o/g/Semagrams.jl/src/../deps/bundles/app.bundle.js\")], Dict{Any, Any}(\"sending\" => Any[WebIO.JSString(\"(function (newls){return this.state.resetWith(newls)})\")]), WebIO.ConnectionPool(Channel{Any}(32), Set{WebIO.AbstractConnection}(), Condition(Base.InvasiveLinkedList{Task}(Task (runnable) @0x00007f87b8eee850, Task (runnable) @0x00007f87b8eee850), Base.AlwaysLockedST(1))), WebIO.JSString[WebIO.JSString(\"(function (){var semagrams=System.registry.get(System.resolveSync(\\\"semagrams\\\")); var scopeobj=this; return setTimeout((function (){return semagrams.main(WebIO.getval({\\\"name\\\":\\\"receiving\\\",\\\"scope\\\":\\\"17393232624305881627\\\",\\\"id\\\":\\\"9826345292813257761\\\",\\\"type\\\":\\\"observable\\\"}),scopeobj,(function (x){return WebIO.setval({\\\"name\\\":\\\"receiving\\\",\\\"scope\\\":\\\"17393232624305881627\\\",\\\"id\\\":\\\"9826345292813257761\\\",\\\"type\\\":\\\"observable\\\"},x)}),(function (x){return WebIO.setval({\\\"name\\\":\\\"exported\\\",\\\"scope\\\":\\\"17393232624305881627\\\",\\\"id\\\":\\\"2984991439023534284\\\",\\\"type\\\":\\\"observable\\\"},x)}))}),20)})\")]), Observable{Dict{String, Any}} with 0 listeners. Value:\n",
       "Dict{String, Any}(\"sg\" => Dict{String, Any}(\"gen\" => Dict(\"i\" => 0), \"boxes\" => Any[], \"schema\" => Dict{String, Dict{String, Dict{String, Any}}}(\"box_types\" => Dict(\"Box\" => Dict(\"label\" => \"label\", \"shape\" => \"<polygon points=\\\"-40,-40 40,-40 40,40 -40,40\\\"></polygon>\", \"homs\" => Dict{String, String}[], \"weights\" => Tuple{AttributeType, Symbol}[(Stringlike, :label)], \"style_fn\" => \"(function (_){return {}})\")), \"wire_types\" => Dict(\"Wire\" => Dict(\"src_map\" => \"src\", \"homs\" => Dict{String, String}[], \"weights\" => Tuple{AttributeType, Symbol}[], \"style\" => \"DefaultWire\", \"src\" => (Semagrams.Schema.Port, :OPort), \"tgt\" => (Semagrams.Schema.Port, :IPort), \"tgt_map\" => \"tgt\", \"style_fn\" => \"(function (_){return {}})\")), \"port_types\" => Dict(\"OPort\" => Dict(\"homs\" => Dict{String, String}[], \"weights\" => Tuple{AttributeType, Symbol}[], \"box\" => \"Box\", \"style\" => \"Output\", \"style_fn\" => \"(function (_){return {}})\", \"box_map\" => \"obox\"), \"IPort\" => Dict(\"homs\" => Dict{String, String}[], \"weights\" => Tuple{AttributeType, Symbol}[], \"box\" => \"Box\", \"style\" => \"Input\", \"style_fn\" => \"(function (_){return {}})\", \"box_map\" => \"ibox\"))), \"wires\" => Any[]), \"boxlocs\" => Tuple{Int64, Tuple{Float64, Float64}}[]), Observable{Dict{String, Any}} with 2 listeners. Value:\n",
       "Dict{String, Any}(\"sg\" => Dict{String, Any}(\"gen\" => Dict(\"i\" => 0), \"boxes\" => Any[], \"schema\" => Dict{String, Dict{String, Dict{String, Any}}}(\"box_types\" => Dict(\"Box\" => Dict(\"label\" => \"label\", \"shape\" => \"<polygon points=\\\"-40,-40 40,-40 40,40 -40,40\\\"></polygon>\", \"homs\" => Dict{String, String}[], \"weights\" => Tuple{AttributeType, Symbol}[(Stringlike, :label)], \"style_fn\" => \"(function (_){return {}})\")), \"wire_types\" => Dict(\"Wire\" => Dict(\"src_map\" => \"src\", \"homs\" => Dict{String, String}[], \"weights\" => Tuple{AttributeType, Symbol}[], \"style\" => \"DefaultWire\", \"src\" => (Semagrams.Schema.Port, :OPort), \"tgt\" => (Semagrams.Schema.Port, :IPort), \"tgt_map\" => \"tgt\", \"style_fn\" => \"(function (_){return {}})\")), \"port_types\" => Dict(\"OPort\" => Dict(\"homs\" => Dict{String, String}[], \"weights\" => Tuple{AttributeType, Symbol}[], \"box\" => \"Box\", \"style\" => \"Output\", \"style_fn\" => \"(function (_){return {}})\", \"box_map\" => \"obox\"), \"IPort\" => Dict(\"homs\" => Dict{String, String}[], \"weights\" => Tuple{AttributeType, Symbol}[], \"box\" => \"Box\", \"style\" => \"Input\", \"style_fn\" => \"(function (_){return {}})\", \"box_map\" => \"ibox\"))), \"wires\" => Any[]), \"boxlocs\" => Tuple{Int64, Tuple{Float64, Float64}}[]), Observable{String} with 0 listeners. Value:\n",
       "\"\")"
      ]
     },
     "execution_count": 18,
     "metadata": {
      "@webio": {
       "kernelId": "2f7fc079-4046-46fc-af04-fbad3b9b495d"
      }
     },
     "output_type": "execute_result"
    }
   ],
   "source": [
    "dpg = Semagram{DirectedPortGraph{Symbol}}(DirectedPortGraphSema)"
   ]
  },
  {
   "cell_type": "code",
   "execution_count": 7,
   "id": "580e4aad-96d8-4db5-a943-63fb095d6ece",
   "metadata": {},
   "outputs": [],
   "source": [
    "get_acset(dpg);"
   ]
  },
  {
   "cell_type": "code",
   "execution_count": 8,
   "id": "9c3eadb8-e303-47dc-8ac5-ca05f03f9f06",
   "metadata": {},
   "outputs": [],
   "source": [
    "using Catlab.Present, Catlab.CSetDataStructures;"
   ]
  },
  {
   "cell_type": "code",
   "execution_count": 9,
   "id": "9fc8bedc-103b-48ff-abce-f49e1089b804",
   "metadata": {},
   "outputs": [],
   "source": [
    "@present TheoryGraph(FreeSchema) begin\n",
    "    (V,E)::Ob\n",
    "    (src,tgt)::Hom(E,V)\n",
    "end;"
   ]
  },
  {
   "cell_type": "code",
   "execution_count": 10,
   "id": "a193e951-6b26-4dc6-aedc-a7b2b46f5099",
   "metadata": {},
   "outputs": [],
   "source": [
    "@semagramschema GraphSema(TheoryGraph) begin\n",
    "    @box V Circle\n",
    "    @wire E(src,tgt)\n",
    "end;"
   ]
  },
  {
   "cell_type": "code",
   "execution_count": 11,
   "id": "e5cb41d1-94fb-44c4-8452-1b50ea9b3404",
   "metadata": {},
   "outputs": [],
   "source": [
    "const Graph = ACSetType(TheoryGraph);"
   ]
  },
  {
   "cell_type": "code",
   "execution_count": 19,
   "id": "e5e0e85e-3b4d-43ca-97d7-7eb44b0c4ad3",
   "metadata": {},
   "outputs": [
    {
     "data": {
      "application/vnd.webio.node+json": {
       "children": [
        {
         "children": [],
         "instanceArgs": {
          "namespace": "html",
          "tag": "div"
         },
         "nodeType": "DOM",
         "props": {},
         "type": "node"
        }
       ],
       "instanceArgs": {
        "handlers": {
         "sending": [
          "(function (newls){return this.state.resetWith(newls)})"
         ]
        },
        "id": "446480972493339309",
        "imports": {
         "data": [
          {
           "name": "semagrams",
           "type": "js",
           "url": "/assetserver/74640911769d23a8720073ee5ce060b0d38d9b88-app.bundle.js"
          }
         ],
         "type": "async_block"
        },
        "mount_callbacks": [
         "(function (){var semagrams=System.registry.get(System.resolveSync(\"semagrams\")); var scopeobj=this; return setTimeout((function (){return semagrams.main(WebIO.getval({\"name\":\"receiving\",\"scope\":\"446480972493339309\",\"id\":\"15327981391519445596\",\"type\":\"observable\"}),scopeobj,(function (x){return WebIO.setval({\"name\":\"receiving\",\"scope\":\"446480972493339309\",\"id\":\"15327981391519445596\",\"type\":\"observable\"},x)}),(function (x){return WebIO.setval({\"name\":\"exported\",\"scope\":\"446480972493339309\",\"id\":\"11572854836069575915\",\"type\":\"observable\"},x)}))}),20)})"
        ],
        "observables": {
         "exported": {
          "id": "11572854836069575915",
          "sync": false,
          "value": ""
         },
         "receiving": {
          "id": "15327981391519445596",
          "sync": false,
          "value": {
           "boxlocs": [],
           "sg": {
            "boxes": [],
            "gen": {
             "i": 0
            },
            "schema": {
             "box_types": {
              "V": {
               "homs": [],
               "label": null,
               "shape": "<circle r=\"40\"></circle>",
               "style_fn": "(function (_){return {}})",
               "weights": []
              }
             },
             "port_types": {},
             "wire_types": {
              "E": {
               "homs": [],
               "src": [
                "Box",
                "V"
               ],
               "src_map": "src",
               "style": "DefaultWire",
               "style_fn": "(function (_){return {}})",
               "tgt": [
                "Box",
                "V"
               ],
               "tgt_map": "tgt",
               "weights": []
              }
             }
            },
            "wires": []
           }
          }
         },
         "sending": {
          "id": "15740358890623245913",
          "sync": true,
          "value": {
           "boxlocs": [],
           "sg": {
            "boxes": [],
            "gen": {
             "i": 0
            },
            "schema": {
             "box_types": {
              "V": {
               "homs": [],
               "label": null,
               "shape": "<circle r=\"40\"></circle>",
               "style_fn": "(function (_){return {}})",
               "weights": []
              }
             },
             "port_types": {},
             "wire_types": {
              "E": {
               "homs": [],
               "src": [
                "Box",
                "V"
               ],
               "src_map": "src",
               "style": "DefaultWire",
               "style_fn": "(function (_){return {}})",
               "tgt": [
                "Box",
                "V"
               ],
               "tgt_map": "tgt",
               "weights": []
              }
             }
            },
            "wires": []
           }
          }
         }
        },
        "systemjs_options": null
       },
       "nodeType": "Scope",
       "props": {},
       "type": "node"
      },
      "text/html": [
       "<div\n",
       "    class=\"webio-mountpoint\"\n",
       "    data-webio-mountpoint=\"12335659126477934108\"\n",
       ">\n",
       "    <script>\n",
       "    (function(){\n",
       "    // Some integrations (namely, IJulia/Jupyter) use an alternate render pathway than\n",
       "    // just putting the html on the page. If WebIO isn't defined, then it's pretty likely\n",
       "    // that we're in one of those situations and the integration just isn't installed\n",
       "    // correctly.\n",
       "    if (typeof window.WebIO === \"undefined\") {\n",
       "        document\n",
       "            .querySelector('[data-webio-mountpoint=\"12335659126477934108\"]')\n",
       "            .innerHTML = (\n",
       "                '<div style=\"padding: 1em; background-color: #f8d6da; border: 1px solid #f5c6cb; font-weight: bold;\">' +\n",
       "                '<p><strong>WebIO not detected.</strong></p>' +\n",
       "                '<p>Please read ' +\n",
       "                '<a href=\"https://juliagizmos.github.io/WebIO.jl/latest/troubleshooting/not-detected/\" target=\"_blank\">the troubleshooting guide</a> ' +\n",
       "                'for more information on how to resolve this issue.</p>' +\n",
       "                '<p><a href=\"https://juliagizmos.github.io/WebIO.jl/latest/troubleshooting/not-detected/\" target=\"_blank\">https://juliagizmos.github.io/WebIO.jl/latest/troubleshooting/not-detected/</a></p>' +\n",
       "                '</div>'\n",
       "            );\n",
       "        return;\n",
       "    }\n",
       "    WebIO.mount(\n",
       "        document.querySelector('[data-webio-mountpoint=\"12335659126477934108\"]'),\n",
       "        {\"props\":{},\"nodeType\":\"Scope\",\"type\":\"node\",\"instanceArgs\":{\"imports\":{\"data\":[{\"name\":\"semagrams\",\"type\":\"js\",\"url\":\"\\/assetserver\\/74640911769d23a8720073ee5ce060b0d38d9b88-app.bundle.js\"}],\"type\":\"async_block\"},\"id\":\"446480972493339309\",\"handlers\":{\"sending\":[\"(function (newls){return this.state.resetWith(newls)})\"]},\"systemjs_options\":null,\"mount_callbacks\":[\"(function (){var semagrams=System.registry.get(System.resolveSync(\\\"semagrams\\\")); var scopeobj=this; return setTimeout((function (){return semagrams.main(WebIO.getval({\\\"name\\\":\\\"receiving\\\",\\\"scope\\\":\\\"446480972493339309\\\",\\\"id\\\":\\\"15327981391519445596\\\",\\\"type\\\":\\\"observable\\\"}),scopeobj,(function (x){return WebIO.setval({\\\"name\\\":\\\"receiving\\\",\\\"scope\\\":\\\"446480972493339309\\\",\\\"id\\\":\\\"15327981391519445596\\\",\\\"type\\\":\\\"observable\\\"},x)}),(function (x){return WebIO.setval({\\\"name\\\":\\\"exported\\\",\\\"scope\\\":\\\"446480972493339309\\\",\\\"id\\\":\\\"11572854836069575915\\\",\\\"type\\\":\\\"observable\\\"},x)}))}),20)})\"],\"observables\":{\"sending\":{\"sync\":true,\"id\":\"15740358890623245913\",\"value\":{\"sg\":{\"gen\":{\"i\":0},\"boxes\":[],\"schema\":{\"box_types\":{\"V\":{\"label\":null,\"shape\":\"<circle r=\\\"40\\\"><\\/circle>\",\"homs\":[],\"weights\":[],\"style_fn\":\"(function (_){return {}})\"}},\"wire_types\":{\"E\":{\"src_map\":\"src\",\"homs\":[],\"weights\":[],\"style\":\"DefaultWire\",\"src\":[\"Box\",\"V\"],\"tgt\":[\"Box\",\"V\"],\"tgt_map\":\"tgt\",\"style_fn\":\"(function (_){return {}})\"}},\"port_types\":{}},\"wires\":[]},\"boxlocs\":[]}},\"exported\":{\"sync\":false,\"id\":\"11572854836069575915\",\"value\":\"\"},\"receiving\":{\"sync\":false,\"id\":\"15327981391519445596\",\"value\":{\"sg\":{\"gen\":{\"i\":0},\"boxes\":[],\"schema\":{\"box_types\":{\"V\":{\"label\":null,\"shape\":\"<circle r=\\\"40\\\"><\\/circle>\",\"homs\":[],\"weights\":[],\"style_fn\":\"(function (_){return {}})\"}},\"wire_types\":{\"E\":{\"src_map\":\"src\",\"homs\":[],\"weights\":[],\"style\":\"DefaultWire\",\"src\":[\"Box\",\"V\"],\"tgt\":[\"Box\",\"V\"],\"tgt_map\":\"tgt\",\"style_fn\":\"(function (_){return {}})\"}},\"port_types\":{}},\"wires\":[]},\"boxlocs\":[]}}}},\"children\":[{\"props\":{},\"nodeType\":\"DOM\",\"type\":\"node\",\"instanceArgs\":{\"namespace\":\"html\",\"tag\":\"div\"},\"children\":[]}]},\n",
       "        window,\n",
       "    );\n",
       "    })()\n",
       "    </script>\n",
       "</div>\n"
      ],
      "text/plain": [
       "Semagram{CSet{Catlab.Theories.CatDesc{(:V, :E), (:src, :tgt), (2, 2), (1, 1)}, (), ()}}(WebIO.Scope(WebIO.Node{WebIO.DOM}(WebIO.DOM(:html, :div), Any[], Dict{Symbol, Any}()), Dict{String, Tuple{Observables.AbstractObservable, Union{Nothing, Bool}}}(\"sending\" => (Observable{Dict{String, Any}} with 2 listeners. Value:\n",
       "Dict{String, Any}(\"sg\" => Dict{String, Any}(\"gen\" => Dict(\"i\" => 0), \"boxes\" => Any[], \"schema\" => Dict{String, Dict}(\"box_types\" => Dict{String, Dict{String, Any}}(\"V\" => Dict(\"label\" => nothing, \"shape\" => \"<circle r=\\\"40\\\"></circle>\", \"homs\" => Dict{String, String}[], \"weights\" => Tuple{AttributeType, Symbol}[], \"style_fn\" => \"(function (_){return {}})\")), \"wire_types\" => Dict{String, Dict{String, Any}}(\"E\" => Dict(\"src_map\" => \"src\", \"homs\" => Dict{String, String}[], \"weights\" => Tuple{AttributeType, Symbol}[], \"style\" => \"DefaultWire\", \"src\" => (Semagrams.Schema.Box, :V), \"tgt\" => (Semagrams.Schema.Box, :V), \"tgt_map\" => \"tgt\", \"style_fn\" => \"(function (_){return {}})\")), \"port_types\" => Dict{Any, Any}()), \"wires\" => Any[]), \"boxlocs\" => Tuple{Int64, Tuple{Float64, Float64}}[]), nothing), \"exported\" => (Observable{String} with 0 listeners. Value:\n",
       "\"\", nothing), \"receiving\" => (Observable{Dict{String, Any}} with 0 listeners. Value:\n",
       "Dict{String, Any}(\"sg\" => Dict{String, Any}(\"gen\" => Dict(\"i\" => 0), \"boxes\" => Any[], \"schema\" => Dict{String, Dict}(\"box_types\" => Dict{String, Dict{String, Any}}(\"V\" => Dict(\"label\" => nothing, \"shape\" => \"<circle r=\\\"40\\\"></circle>\", \"homs\" => Dict{String, String}[], \"weights\" => Tuple{AttributeType, Symbol}[], \"style_fn\" => \"(function (_){return {}})\")), \"wire_types\" => Dict{String, Dict{String, Any}}(\"E\" => Dict(\"src_map\" => \"src\", \"homs\" => Dict{String, String}[], \"weights\" => Tuple{AttributeType, Symbol}[], \"style\" => \"DefaultWire\", \"src\" => (Semagrams.Schema.Box, :V), \"tgt\" => (Semagrams.Schema.Box, :V), \"tgt_map\" => \"tgt\", \"style_fn\" => \"(function (_){return {}})\")), \"port_types\" => Dict{Any, Any}()), \"wires\" => Any[]), \"boxlocs\" => Tuple{Int64, Tuple{Float64, Float64}}[]), nothing)), Set{String}(), nothing, WebIO.Asset[WebIO.Asset(\"js\", \"semagrams\", \"/home/o/g/Semagrams.jl/src/../deps/bundles/app.bundle.js\")], Dict{Any, Any}(\"sending\" => Any[WebIO.JSString(\"(function (newls){return this.state.resetWith(newls)})\")]), WebIO.ConnectionPool(Channel{Any}(32), Set{WebIO.AbstractConnection}(), Condition(Base.InvasiveLinkedList{Task}(Task (runnable) @0x00007f87bc4de9c0, Task (runnable) @0x00007f87bc4de9c0), Base.AlwaysLockedST(1))), WebIO.JSString[WebIO.JSString(\"(function (){var semagrams=System.registry.get(System.resolveSync(\\\"semagrams\\\")); var scopeobj=this; return setTimeout((function (){return semagrams.main(WebIO.getval({\\\"name\\\":\\\"receiving\\\",\\\"scope\\\":\\\"446480972493339309\\\",\\\"id\\\":\\\"15327981391519445596\\\",\\\"type\\\":\\\"observable\\\"}),scopeobj,(function (x){return WebIO.setval({\\\"name\\\":\\\"receiving\\\",\\\"scope\\\":\\\"446480972493339309\\\",\\\"id\\\":\\\"15327981391519445596\\\",\\\"type\\\":\\\"observable\\\"},x)}),(function (x){return WebIO.setval({\\\"name\\\":\\\"exported\\\",\\\"scope\\\":\\\"446480972493339309\\\",\\\"id\\\":\\\"11572854836069575915\\\",\\\"type\\\":\\\"observable\\\"},x)}))}),20)})\")]), Observable{Dict{String, Any}} with 0 listeners. Value:\n",
       "Dict{String, Any}(\"sg\" => Dict{String, Any}(\"gen\" => Dict(\"i\" => 0), \"boxes\" => Any[], \"schema\" => Dict{String, Dict}(\"box_types\" => Dict{String, Dict{String, Any}}(\"V\" => Dict(\"label\" => nothing, \"shape\" => \"<circle r=\\\"40\\\"></circle>\", \"homs\" => Dict{String, String}[], \"weights\" => Tuple{AttributeType, Symbol}[], \"style_fn\" => \"(function (_){return {}})\")), \"wire_types\" => Dict{String, Dict{String, Any}}(\"E\" => Dict(\"src_map\" => \"src\", \"homs\" => Dict{String, String}[], \"weights\" => Tuple{AttributeType, Symbol}[], \"style\" => \"DefaultWire\", \"src\" => (Semagrams.Schema.Box, :V), \"tgt\" => (Semagrams.Schema.Box, :V), \"tgt_map\" => \"tgt\", \"style_fn\" => \"(function (_){return {}})\")), \"port_types\" => Dict{Any, Any}()), \"wires\" => Any[]), \"boxlocs\" => Tuple{Int64, Tuple{Float64, Float64}}[]), Observable{Dict{String, Any}} with 2 listeners. Value:\n",
       "Dict{String, Any}(\"sg\" => Dict{String, Any}(\"gen\" => Dict(\"i\" => 0), \"boxes\" => Any[], \"schema\" => Dict{String, Dict}(\"box_types\" => Dict{String, Dict{String, Any}}(\"V\" => Dict(\"label\" => nothing, \"shape\" => \"<circle r=\\\"40\\\"></circle>\", \"homs\" => Dict{String, String}[], \"weights\" => Tuple{AttributeType, Symbol}[], \"style_fn\" => \"(function (_){return {}})\")), \"wire_types\" => Dict{String, Dict{String, Any}}(\"E\" => Dict(\"src_map\" => \"src\", \"homs\" => Dict{String, String}[], \"weights\" => Tuple{AttributeType, Symbol}[], \"style\" => \"DefaultWire\", \"src\" => (Semagrams.Schema.Box, :V), \"tgt\" => (Semagrams.Schema.Box, :V), \"tgt_map\" => \"tgt\", \"style_fn\" => \"(function (_){return {}})\")), \"port_types\" => Dict{Any, Any}()), \"wires\" => Any[]), \"boxlocs\" => Tuple{Int64, Tuple{Float64, Float64}}[]), Observable{String} with 0 listeners. Value:\n",
       "\"\")"
      ]
     },
     "execution_count": 19,
     "metadata": {
      "@webio": {
       "kernelId": "2f7fc079-4046-46fc-af04-fbad3b9b495d"
      }
     },
     "output_type": "execute_result"
    }
   ],
   "source": [
    "graph = Semagram{Graph}(GraphSema)"
   ]
  },
  {
   "cell_type": "code",
   "execution_count": null,
   "id": "d0fdebb7-bbb3-4e39-bbf2-348938512f8f",
   "metadata": {},
   "outputs": [],
   "source": []
  }
 ],
 "metadata": {
  "@webio": {
   "lastCommId": "e700ba08-e650-4802-97ae-c867e0701772",
   "lastKernelId": "2f7fc079-4046-46fc-af04-fbad3b9b495d"
  },
  "kernelspec": {
   "display_name": "Julia 1.7.2",
   "language": "julia",
   "name": "julia-1.7"
  },
  "language_info": {
   "file_extension": ".jl",
   "mimetype": "application/julia",
   "name": "julia",
   "version": "1.7.2"
  }
 },
 "nbformat": 4,
 "nbformat_minor": 5
}
