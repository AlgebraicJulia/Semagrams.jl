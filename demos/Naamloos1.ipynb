{
 "cells": [
  {
   "cell_type": "code",
   "execution_count": 1,
   "id": "considerable-quest",
   "metadata": {},
   "outputs": [],
   "source": [
    "]activate ."
   ]
  },
  {
   "cell_type": "code",
   "execution_count": 2,
   "id": "finite-gross",
   "metadata": {},
   "outputs": [
    {
     "data": {
      "text/html": [
       "<script>\n",
       "// Immediately-invoked-function-expression to avoid global variables.\n",
       "(function() {\n",
       "    var warning_div = document.getElementById(\"webio-warning-9667146094707835514\");\n",
       "    var hide = function () {\n",
       "        var script = document.getElementById(\"webio-setup-4645537343743844932\");\n",
       "        var parent = script && script.parentElement;\n",
       "        var grandparent = parent && parent.parentElement;\n",
       "        if (grandparent) {\n",
       "            grandparent.style.display = \"none\";\n",
       "        }\n",
       "        warning_div.style.display = \"none\";\n",
       "    };\n",
       "    if (typeof Jupyter !== \"undefined\") {\n",
       "        console.log(\"WebIO detected Jupyter notebook environment.\");\n",
       "        // Jupyter notebook.\n",
       "        var extensions = (\n",
       "            Jupyter\n",
       "            && Jupyter.notebook.config.data\n",
       "            && Jupyter.notebook.config.data.load_extensions\n",
       "        );\n",
       "        if (extensions && extensions[\"webio-jupyter-notebook\"]) {\n",
       "            // Extension already loaded.\n",
       "            console.log(\"Jupyter WebIO nbextension detected; not loading ad-hoc.\");\n",
       "            hide();\n",
       "            return;\n",
       "        }\n",
       "    } else if (window.location.pathname.includes(\"/lab\")) {\n",
       "        // Guessing JupyterLa\n",
       "        console.log(\"Jupyter Lab detected; make sure the @webio/jupyter-lab-provider labextension is installed.\");\n",
       "        hide();\n",
       "        return;\n",
       "    }\n",
       "})();\n",
       "\n",
       "</script>\n",
       "<p\n",
       "    id=\"webio-warning-9667146094707835514\"\n",
       "    class=\"output_text output_stderr\"\n",
       "    style=\"padding: 1em; font-weight: bold;\"\n",
       ">\n",
       "    Unable to load WebIO. Please make sure WebIO works for your Jupyter client.\n",
       "    For troubleshooting, please see <a href=\"https://juliagizmos.github.io/WebIO.jl/latest/providers/ijulia/\">\n",
       "    the WebIO/IJulia documentation</a>.\n",
       "    <!-- TODO: link to installation docs. -->\n",
       "</p>\n"
      ],
      "text/plain": [
       "HTML{String}(\"<script>\\n// Immediately-invoked-function-expression to avoid global variables.\\n(function() {\\n    var warning_div = document.getElementById(\\\"webio-warning-9667146094707835514\\\");\\n    var hide = function () {\\n        var script = document.getElementById(\\\"webio-setup-4645537343743844932\\\");\\n        var parent = script && script.parentElement;\\n        var grandparent = parent && parent.parentElement;\\n        if (grandparent) {\\n            grandparent.style.display = \\\"none\\\";\\n        }\\n        warning_div.style.display = \\\"none\\\";\\n    };\\n    if (typeof Jupyter !== \\\"undefined\\\") {\\n        console.log(\\\"WebIO detected Jupyter notebook environment.\\\");\\n        // Jupyter notebook.\\n        var extensions = (\\n            Jupyter\\n            && Jupyter.notebook.config.data\\n            && Jupyter.notebook.config.data.load_extensions\\n        );\\n        if (extensions && extensions[\\\"webio-jupyter-notebook\\\"]) {\\n            // Extension already loaded.\\n            console.log(\\\"Jupyter WebIO nbextension detected; not loading ad-hoc.\\\");\\n            hide();\\n            return;\\n        }\\n    } else if (window.location.pathname.includes(\\\"/lab\\\")) {\\n        // Guessing JupyterLa\\n        console.log(\\\"Jupyter Lab detected; make sure the @webio/jupyter-lab-provider labextension is installed.\\\");\\n        hide();\\n        return;\\n    }\\n})();\\n\\n</script>\\n<p\\n    id=\\\"webio-warning-9667146094707835514\\\"\\n    class=\\\"output_text output_stderr\\\"\\n    style=\\\"padding: 1em; font-weight: bold;\\\"\\n>\\n    Unable to load WebIO. Please make sure WebIO works for your Jupyter client.\\n    For troubleshooting, please see <a href=\\\"https://juliagizmos.github.io/WebIO.jl/latest/providers/ijulia/\\\">\\n    the WebIO/IJulia documentation</a>.\\n    <!-- TODO: link to installation docs. -->\\n</p>\\n\")"
      ]
     },
     "metadata": {},
     "output_type": "display_data"
    }
   ],
   "source": [
    "using Revise, Semagrams, Semagrams.Examples"
   ]
  },
  {
   "cell_type": "code",
   "execution_count": 3,
   "id": "equal-aggregate",
   "metadata": {},
   "outputs": [
    {
     "data": {
      "application/vnd.webio.node+json": {
       "children": [
        {
         "children": [],
         "instanceArgs": {
          "namespace": "html",
          "tag": "div"
         },
         "nodeType": "DOM",
         "props": {},
         "type": "node"
        }
       ],
       "instanceArgs": {
        "handlers": {
         "sending": [
          "(function (newls){return this.state.resetWith(newls)})"
         ]
        },
        "id": "12731788557576166802",
        "imports": {
         "data": [
          {
           "name": "semagrams",
           "type": "js",
           "url": "/assetserver/74640911769d23a8720073ee5ce060b0d38d9b88-app.bundle.js"
          }
         ],
         "type": "async_block"
        },
        "mount_callbacks": [
         "(function (){var semagrams=System.registry.get(System.resolveSync(\"semagrams\")); var scopeobj=this; return setTimeout((function (){return semagrams.main(WebIO.getval({\"name\":\"receiving\",\"scope\":\"12731788557576166802\",\"id\":\"12435038321596780506\",\"type\":\"observable\"}),scopeobj,(function (x){return WebIO.setval({\"name\":\"receiving\",\"scope\":\"12731788557576166802\",\"id\":\"12435038321596780506\",\"type\":\"observable\"},x)}),(function (x){return WebIO.setval({\"name\":\"exported\",\"scope\":\"12731788557576166802\",\"id\":\"12043512094152723275\",\"type\":\"observable\"},x)}))}),20)})"
        ],
        "observables": {
         "exported": {
          "id": "12043512094152723275",
          "sync": false,
          "value": ""
         },
         "receiving": {
          "id": "12435038321596780506",
          "sync": false,
          "value": {
           "boxlocs": [],
           "sg": {
            "boxes": [],
            "gen": {
             "i": 0
            },
            "schema": {
             "box_types": {
              "Box": {
               "homs": [],
               "label": "label",
               "shape": "<polygon points=\"-40,-40 40,-40 40,40 -40,40\"></polygon>",
               "style_fn": "(function (_){return {}})",
               "weights": [
                [
                 "Stringlike",
                 "label"
                ]
               ]
              }
             },
             "port_types": {
              "IPort": {
               "box": "Box",
               "box_map": "ibox",
               "homs": [],
               "style": "Input",
               "style_fn": "weights => { return { stroke: weights[\"iportcolor\"] }; }",
               "weights": [
                [
                 "Stringlike",
                 "iportcolor"
                ]
               ]
              },
              "OPort": {
               "box": "Box",
               "box_map": "obox",
               "homs": [],
               "style": "Output",
               "style_fn": "weights => { return { stroke: weights[\"oportcolor\"] }; }",
               "weights": [
                [
                 "Stringlike",
                 "oportcolor"
                ]
               ]
              }
             },
             "wire_types": {
              "Wire": {
               "homs": [],
               "src": [
                "Port",
                "OPort"
               ],
               "src_map": "src",
               "style": "DefaultWire",
               "style_fn": "weights => { return { stroke: weights[\"wirecolor\"] }; }",
               "tgt": [
                "Port",
                "IPort"
               ],
               "tgt_map": "tgt",
               "weights": [
                [
                 "Stringlike",
                 "wirecolor"
                ]
               ]
              }
             }
            },
            "wires": []
           }
          }
         },
         "sending": {
          "id": "9427270248903114250",
          "sync": true,
          "value": {
           "boxlocs": [],
           "sg": {
            "boxes": [],
            "gen": {
             "i": 0
            },
            "schema": {
             "box_types": {
              "Box": {
               "homs": [],
               "label": "label",
               "shape": "<polygon points=\"-40,-40 40,-40 40,40 -40,40\"></polygon>",
               "style_fn": "(function (_){return {}})",
               "weights": [
                [
                 "Stringlike",
                 "label"
                ]
               ]
              }
             },
             "port_types": {
              "IPort": {
               "box": "Box",
               "box_map": "ibox",
               "homs": [],
               "style": "Input",
               "style_fn": "weights => { return { stroke: weights[\"iportcolor\"] }; }",
               "weights": [
                [
                 "Stringlike",
                 "iportcolor"
                ]
               ]
              },
              "OPort": {
               "box": "Box",
               "box_map": "obox",
               "homs": [],
               "style": "Output",
               "style_fn": "weights => { return { stroke: weights[\"oportcolor\"] }; }",
               "weights": [
                [
                 "Stringlike",
                 "oportcolor"
                ]
               ]
              }
             },
             "wire_types": {
              "Wire": {
               "homs": [],
               "src": [
                "Port",
                "OPort"
               ],
               "src_map": "src",
               "style": "DefaultWire",
               "style_fn": "weights => { return { stroke: weights[\"wirecolor\"] }; }",
               "tgt": [
                "Port",
                "IPort"
               ],
               "tgt_map": "tgt",
               "weights": [
                [
                 "Stringlike",
                 "wirecolor"
                ]
               ]
              }
             }
            },
            "wires": []
           }
          }
         }
        },
        "systemjs_options": null
       },
       "nodeType": "Scope",
       "props": {},
       "type": "node"
      },
      "text/html": [
       "<div\n",
       "    class=\"webio-mountpoint\"\n",
       "    data-webio-mountpoint=\"4708261220393445180\"\n",
       ">\n",
       "    <script>\n",
       "    if (window.require && require.defined && require.defined(\"nbextensions/webio-jupyter-notebook\")) {\n",
       "        console.log(\"Jupyter WebIO extension detected, not mounting.\");\n",
       "    } else if (window.WebIO) {\n",
       "        WebIO.mount(\n",
       "            document.querySelector('[data-webio-mountpoint=\"4708261220393445180\"]'),\n",
       "            {\"props\":{},\"nodeType\":\"Scope\",\"type\":\"node\",\"instanceArgs\":{\"imports\":{\"data\":[{\"name\":\"semagrams\",\"type\":\"js\",\"url\":\"\\/assetserver\\/74640911769d23a8720073ee5ce060b0d38d9b88-app.bundle.js\"}],\"type\":\"async_block\"},\"id\":\"12731788557576166802\",\"handlers\":{\"sending\":[\"(function (newls){return this.state.resetWith(newls)})\"]},\"systemjs_options\":null,\"mount_callbacks\":[\"(function (){var semagrams=System.registry.get(System.resolveSync(\\\"semagrams\\\")); var scopeobj=this; return setTimeout((function (){return semagrams.main(WebIO.getval({\\\"name\\\":\\\"receiving\\\",\\\"scope\\\":\\\"12731788557576166802\\\",\\\"id\\\":\\\"12435038321596780506\\\",\\\"type\\\":\\\"observable\\\"}),scopeobj,(function (x){return WebIO.setval({\\\"name\\\":\\\"receiving\\\",\\\"scope\\\":\\\"12731788557576166802\\\",\\\"id\\\":\\\"12435038321596780506\\\",\\\"type\\\":\\\"observable\\\"},x)}),(function (x){return WebIO.setval({\\\"name\\\":\\\"exported\\\",\\\"scope\\\":\\\"12731788557576166802\\\",\\\"id\\\":\\\"12043512094152723275\\\",\\\"type\\\":\\\"observable\\\"},x)}))}),20)})\"],\"observables\":{\"sending\":{\"sync\":true,\"id\":\"9427270248903114250\",\"value\":{\"sg\":{\"gen\":{\"i\":0},\"boxes\":[],\"schema\":{\"box_types\":{\"Box\":{\"label\":\"label\",\"shape\":\"<polygon points=\\\"-40,-40 40,-40 40,40 -40,40\\\"><\\/polygon>\",\"homs\":[],\"weights\":[[\"Stringlike\",\"label\"]],\"style_fn\":\"(function (_){return {}})\"}},\"wire_types\":{\"Wire\":{\"src_map\":\"src\",\"homs\":[],\"weights\":[[\"Stringlike\",\"wirecolor\"]],\"style\":\"DefaultWire\",\"src\":[\"Port\",\"OPort\"],\"tgt\":[\"Port\",\"IPort\"],\"tgt_map\":\"tgt\",\"style_fn\":\"weights => { return { stroke: weights[\\\"wirecolor\\\"] }; }\"}},\"port_types\":{\"OPort\":{\"homs\":[],\"weights\":[[\"Stringlike\",\"oportcolor\"]],\"box\":\"Box\",\"style\":\"Output\",\"style_fn\":\"weights => { return { stroke: weights[\\\"oportcolor\\\"] }; }\",\"box_map\":\"obox\"},\"IPort\":{\"homs\":[],\"weights\":[[\"Stringlike\",\"iportcolor\"]],\"box\":\"Box\",\"style\":\"Input\",\"style_fn\":\"weights => { return { stroke: weights[\\\"iportcolor\\\"] }; }\",\"box_map\":\"ibox\"}}},\"wires\":[]},\"boxlocs\":[]}},\"exported\":{\"sync\":false,\"id\":\"12043512094152723275\",\"value\":\"\"},\"receiving\":{\"sync\":false,\"id\":\"12435038321596780506\",\"value\":{\"sg\":{\"gen\":{\"i\":0},\"boxes\":[],\"schema\":{\"box_types\":{\"Box\":{\"label\":\"label\",\"shape\":\"<polygon points=\\\"-40,-40 40,-40 40,40 -40,40\\\"><\\/polygon>\",\"homs\":[],\"weights\":[[\"Stringlike\",\"label\"]],\"style_fn\":\"(function (_){return {}})\"}},\"wire_types\":{\"Wire\":{\"src_map\":\"src\",\"homs\":[],\"weights\":[[\"Stringlike\",\"wirecolor\"]],\"style\":\"DefaultWire\",\"src\":[\"Port\",\"OPort\"],\"tgt\":[\"Port\",\"IPort\"],\"tgt_map\":\"tgt\",\"style_fn\":\"weights => { return { stroke: weights[\\\"wirecolor\\\"] }; }\"}},\"port_types\":{\"OPort\":{\"homs\":[],\"weights\":[[\"Stringlike\",\"oportcolor\"]],\"box\":\"Box\",\"style\":\"Output\",\"style_fn\":\"weights => { return { stroke: weights[\\\"oportcolor\\\"] }; }\",\"box_map\":\"obox\"},\"IPort\":{\"homs\":[],\"weights\":[[\"Stringlike\",\"iportcolor\"]],\"box\":\"Box\",\"style\":\"Input\",\"style_fn\":\"weights => { return { stroke: weights[\\\"iportcolor\\\"] }; }\",\"box_map\":\"ibox\"}}},\"wires\":[]},\"boxlocs\":[]}}}},\"children\":[{\"props\":{},\"nodeType\":\"DOM\",\"type\":\"node\",\"instanceArgs\":{\"namespace\":\"html\",\"tag\":\"div\"},\"children\":[]}]},\n",
       "            window,\n",
       "        );\n",
       "    } else {\n",
       "        document\n",
       "            .querySelector('[data-webio-mountpoint=\"4708261220393445180\"]')\n",
       "            .innerHTML = (\n",
       "                '<div style=\"padding: 1em; background-color: #f8d6da; border: 1px solid #f5c6cb\">' +\n",
       "                '<p><strong>WebIO not detected.</strong></p>' +\n",
       "                '<p>Please read ' +\n",
       "                '<a href=\"https://juliagizmos.github.io/WebIO.jl/latest/troubleshooting/not-detected/\" target=\"_blank\">the troubleshooting guide</a> ' +\n",
       "                'for more information on how to resolve this issue.</p>' +\n",
       "                '<p><a href=\"https://juliagizmos.github.io/WebIO.jl/latest/troubleshooting/not-detected/\" target=\"_blank\">https://juliagizmos.github.io/WebIO.jl/latest/troubleshooting/not-detected/</a></p>' +\n",
       "                '</div>'\n",
       "            );\n",
       "    }\n",
       "    </script>\n",
       "</div>\n"
      ],
      "text/plain": [
       "Semagram{Catlab.CSetDataStructures.AttributedCSet{Catlab.Theories.CatDesc{(:Box, :IPort, :OPort, :Wire), (:ibox, :obox, :src, :tgt), (2, 3, 4, 4), (1, 1, 3, 2)}, Catlab.Theories.AttrDesc{Catlab.Theories.CatDesc{(:Box, :IPort, :OPort, :Wire), (:ibox, :obox, :src, :tgt), (2, 3, 4, 4), (1, 1, 3, 2)}, (:String, :Color), (:label, :iportcolor, :oportcolor, :wirecolor), (1, 2, 3, 4), (1, 2, 2, 2)}, Tuple{String, String}, (), (), Tables, Indices} where {Tables<:NamedTuple, Indices<:NamedTuple}}(WebIO.Scope(WebIO.Node{WebIO.DOM}(WebIO.DOM(:html, :div), Any[], Dict{Symbol, Any}()), Dict{String, Tuple{Observables.AbstractObservable, Union{Nothing, Bool}}}(\"sending\" => (Observable{Dict{String, Any}} with 2 listeners. Value:\n",
       "Dict{String, Any}(\"sg\" => Dict{String, Any}(\"gen\" => Dict(\"i\" => 0), \"boxes\" => Tuple{Int64, Dict{_A, _B} where {_A, _B}}[], \"schema\" => Dict{String, Dict{String, Dict{String, Any}}}(\"box_types\" => Dict(\"Box\" => Dict(\"label\" => \"label\", \"shape\" => \"<polygon points=\\\"-40,-40 40,-40 40,40 -40,40\\\"></polygon>\", \"homs\" => Any[], \"weights\" => Tuple{AttributeType, Symbol}[(Stringlike, :label)], \"style_fn\" => \"(function (_){return {}})\")), \"wire_types\" => Dict(\"Wire\" => Dict(\"src_map\" => \"src\", \"homs\" => Any[], \"weights\" => Tuple{AttributeType, Symbol}[(Stringlike, :wirecolor)], \"style\" => \"DefaultWire\", \"src\" => (Semagrams.Schema.Port, :OPort), \"tgt\" => (Semagrams.Schema.Port, :IPort), \"tgt_map\" => \"tgt\", \"style_fn\" => \"weights => { return { stroke: weights[\\\"wirecolor\\\"] }; }\")), \"port_types\" => Dict(\"OPort\" => Dict(\"homs\" => Any[], \"weights\" => Tuple{AttributeType, Symbol}[(Stringlike, :oportcolor)], \"box\" => \"Box\", \"style\" => \"Output\", \"style_fn\" => \"weights => { return { stroke: weights[\\\"oportcolor\\\"] }; }\", \"box_map\" => \"obox\"), \"IPort\" => Dict(\"homs\" => Any[], \"weights\" => Tuple{AttributeType, Symbol}[(Stringlike, :iportcolor)], \"box\" => \"Box\", \"style\" => \"Input\", \"style_fn\" => \"weights => { return { stroke: weights[\\\"iportcolor\\\"] }; }\", \"box_map\" => \"ibox\"))), \"wires\" => Tuple{Int64, Dict{_A, _B} where {_A, _B}}[]), \"boxlocs\" => Tuple{Int64, Tuple{Float64, Float64}}[]), nothing), \"exported\" => (Observable{String} with 0 listeners. Value:\n",
       "\"\", nothing), \"receiving\" => (Observable{Dict{String, Any}} with 0 listeners. Value:\n",
       "Dict{String, Any}(\"sg\" => Dict{String, Any}(\"gen\" => Dict(\"i\" => 0), \"boxes\" => Tuple{Int64, Dict{_A, _B} where {_A, _B}}[], \"schema\" => Dict{String, Dict{String, Dict{String, Any}}}(\"box_types\" => Dict(\"Box\" => Dict(\"label\" => \"label\", \"shape\" => \"<polygon points=\\\"-40,-40 40,-40 40,40 -40,40\\\"></polygon>\", \"homs\" => Any[], \"weights\" => Tuple{AttributeType, Symbol}[(Stringlike, :label)], \"style_fn\" => \"(function (_){return {}})\")), \"wire_types\" => Dict(\"Wire\" => Dict(\"src_map\" => \"src\", \"homs\" => Any[], \"weights\" => Tuple{AttributeType, Symbol}[(Stringlike, :wirecolor)], \"style\" => \"DefaultWire\", \"src\" => (Semagrams.Schema.Port, :OPort), \"tgt\" => (Semagrams.Schema.Port, :IPort), \"tgt_map\" => \"tgt\", \"style_fn\" => \"weights => { return { stroke: weights[\\\"wirecolor\\\"] }; }\")), \"port_types\" => Dict(\"OPort\" => Dict(\"homs\" => Any[], \"weights\" => Tuple{AttributeType, Symbol}[(Stringlike, :oportcolor)], \"box\" => \"Box\", \"style\" => \"Output\", \"style_fn\" => \"weights => { return { stroke: weights[\\\"oportcolor\\\"] }; }\", \"box_map\" => \"obox\"), \"IPort\" => Dict(\"homs\" => Any[], \"weights\" => Tuple{AttributeType, Symbol}[(Stringlike, :iportcolor)], \"box\" => \"Box\", \"style\" => \"Input\", \"style_fn\" => \"weights => { return { stroke: weights[\\\"iportcolor\\\"] }; }\", \"box_map\" => \"ibox\"))), \"wires\" => Tuple{Int64, Dict{_A, _B} where {_A, _B}}[]), \"boxlocs\" => Tuple{Int64, Tuple{Float64, Float64}}[]), nothing)), Set{String}(), nothing, WebIO.Asset[WebIO.Asset(\"js\", \"semagrams\", \"/home/o/g/Semagrams.jl/src/../deps/bundles/app.bundle.js\")], Dict{Any, Any}(\"sending\" => Any[WebIO.JSString(\"(function (newls){return this.state.resetWith(newls)})\")]), WebIO.ConnectionPool(Channel{Any}(32), Set{WebIO.AbstractConnection}(), Condition(Base.InvasiveLinkedList{Task}(Task (runnable) @0x00007fe3fd42a230, Task (runnable) @0x00007fe3fd42a230), Base.AlwaysLockedST(1))), WebIO.JSString[WebIO.JSString(\"(function (){var semagrams=System.registry.get(System.resolveSync(\\\"semagrams\\\")); var scopeobj=this; return setTimeout((function (){return semagrams.main(WebIO.getval({\\\"name\\\":\\\"receiving\\\",\\\"scope\\\":\\\"12731788557576166802\\\",\\\"id\\\":\\\"12435038321596780506\\\",\\\"type\\\":\\\"observable\\\"}),scopeobj,(function (x){return WebIO.setval({\\\"name\\\":\\\"receiving\\\",\\\"scope\\\":\\\"12731788557576166802\\\",\\\"id\\\":\\\"12435038321596780506\\\",\\\"type\\\":\\\"observable\\\"},x)}),(function (x){return WebIO.setval({\\\"name\\\":\\\"exported\\\",\\\"scope\\\":\\\"12731788557576166802\\\",\\\"id\\\":\\\"12043512094152723275\\\",\\\"type\\\":\\\"observable\\\"},x)}))}),20)})\")]), Observable{Dict{String, Any}} with 0 listeners. Value:\n",
       "Dict{String, Any}(\"sg\" => Dict{String, Any}(\"gen\" => Dict(\"i\" => 0), \"boxes\" => Tuple{Int64, Dict{_A, _B} where {_A, _B}}[], \"schema\" => Dict{String, Dict{String, Dict{String, Any}}}(\"box_types\" => Dict(\"Box\" => Dict(\"label\" => \"label\", \"shape\" => \"<polygon points=\\\"-40,-40 40,-40 40,40 -40,40\\\"></polygon>\", \"homs\" => Any[], \"weights\" => Tuple{AttributeType, Symbol}[(Stringlike, :label)], \"style_fn\" => \"(function (_){return {}})\")), \"wire_types\" => Dict(\"Wire\" => Dict(\"src_map\" => \"src\", \"homs\" => Any[], \"weights\" => Tuple{AttributeType, Symbol}[(Stringlike, :wirecolor)], \"style\" => \"DefaultWire\", \"src\" => (Semagrams.Schema.Port, :OPort), \"tgt\" => (Semagrams.Schema.Port, :IPort), \"tgt_map\" => \"tgt\", \"style_fn\" => \"weights => { return { stroke: weights[\\\"wirecolor\\\"] }; }\")), \"port_types\" => Dict(\"OPort\" => Dict(\"homs\" => Any[], \"weights\" => Tuple{AttributeType, Symbol}[(Stringlike, :oportcolor)], \"box\" => \"Box\", \"style\" => \"Output\", \"style_fn\" => \"weights => { return { stroke: weights[\\\"oportcolor\\\"] }; }\", \"box_map\" => \"obox\"), \"IPort\" => Dict(\"homs\" => Any[], \"weights\" => Tuple{AttributeType, Symbol}[(Stringlike, :iportcolor)], \"box\" => \"Box\", \"style\" => \"Input\", \"style_fn\" => \"weights => { return { stroke: weights[\\\"iportcolor\\\"] }; }\", \"box_map\" => \"ibox\"))), \"wires\" => Tuple{Int64, Dict{_A, _B} where {_A, _B}}[]), \"boxlocs\" => Tuple{Int64, Tuple{Float64, Float64}}[]), Observable{Dict{String, Any}} with 2 listeners. Value:\n",
       "Dict{String, Any}(\"sg\" => Dict{String, Any}(\"gen\" => Dict(\"i\" => 0), \"boxes\" => Tuple{Int64, Dict{_A, _B} where {_A, _B}}[], \"schema\" => Dict{String, Dict{String, Dict{String, Any}}}(\"box_types\" => Dict(\"Box\" => Dict(\"label\" => \"label\", \"shape\" => \"<polygon points=\\\"-40,-40 40,-40 40,40 -40,40\\\"></polygon>\", \"homs\" => Any[], \"weights\" => Tuple{AttributeType, Symbol}[(Stringlike, :label)], \"style_fn\" => \"(function (_){return {}})\")), \"wire_types\" => Dict(\"Wire\" => Dict(\"src_map\" => \"src\", \"homs\" => Any[], \"weights\" => Tuple{AttributeType, Symbol}[(Stringlike, :wirecolor)], \"style\" => \"DefaultWire\", \"src\" => (Semagrams.Schema.Port, :OPort), \"tgt\" => (Semagrams.Schema.Port, :IPort), \"tgt_map\" => \"tgt\", \"style_fn\" => \"weights => { return { stroke: weights[\\\"wirecolor\\\"] }; }\")), \"port_types\" => Dict(\"OPort\" => Dict(\"homs\" => Any[], \"weights\" => Tuple{AttributeType, Symbol}[(Stringlike, :oportcolor)], \"box\" => \"Box\", \"style\" => \"Output\", \"style_fn\" => \"weights => { return { stroke: weights[\\\"oportcolor\\\"] }; }\", \"box_map\" => \"obox\"), \"IPort\" => Dict(\"homs\" => Any[], \"weights\" => Tuple{AttributeType, Symbol}[(Stringlike, :iportcolor)], \"box\" => \"Box\", \"style\" => \"Input\", \"style_fn\" => \"weights => { return { stroke: weights[\\\"iportcolor\\\"] }; }\", \"box_map\" => \"ibox\"))), \"wires\" => Tuple{Int64, Dict{_A, _B} where {_A, _B}}[]), \"boxlocs\" => Tuple{Int64, Tuple{Float64, Float64}}[]), Observable{String} with 0 listeners. Value:\n",
       "\"\")"
      ]
     },
     "execution_count": 3,
     "metadata": {
      "@webio": {
       "kernelId": "58a8c980-8e8f-457e-a53a-a593f0acdbe4"
      }
     },
     "output_type": "execute_result"
    }
   ],
   "source": [
    "x = Semagram{ColoredDPG{String,String}}(ColoredDPGSema)"
   ]
  },
  {
   "cell_type": "code",
   "execution_count": 9,
   "id": "engaging-exception",
   "metadata": {},
   "outputs": [
    {
     "name": "stderr",
     "output_type": "stream",
     "text": [
      "Loading page (1/2)\n",
      "Printing pages (2/2)                                               \n",
      "Done                                                           \n"
     ]
    },
    {
     "data": {
      "text/plain": [
       "Process(`\u001b[4mwkhtmltopdf\u001b[24m \u001b[4m-s\u001b[24m \u001b[4mA6\u001b[24m \u001b[4m-O\u001b[24m \u001b[4mLandscape\u001b[24m \u001b[4m/tmp/jl_1Bx3Wg.html\u001b[24m \u001b[4mthree_boxes.pdf\u001b[24m`, ProcessExited(0))"
      ]
     },
     "execution_count": 9,
     "metadata": {},
     "output_type": "execute_result"
    }
   ],
   "source": [
    "export_pdf(x, \"three_boxes.pdf\")"
   ]
  },
  {
   "cell_type": "code",
   "execution_count": null,
   "id": "material-match",
   "metadata": {},
   "outputs": [],
   "source": []
  }
 ],
 "metadata": {
  "@webio": {
   "lastCommId": "2dc00a84-1afa-4669-92a9-12fc1957c4bd",
   "lastKernelId": "58a8c980-8e8f-457e-a53a-a593f0acdbe4"
  },
  "kernelspec": {
   "display_name": "Julia 1.6.1",
   "language": "julia",
   "name": "julia-1.6"
  },
  "language_info": {
   "file_extension": ".jl",
   "mimetype": "application/julia",
   "name": "julia",
   "version": "1.6.1"
  }
 },
 "nbformat": 4,
 "nbformat_minor": 5
}
