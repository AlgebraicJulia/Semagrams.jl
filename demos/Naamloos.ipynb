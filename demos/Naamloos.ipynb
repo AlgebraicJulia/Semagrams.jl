{
 "cells": [
  {
   "cell_type": "code",
   "execution_count": 1,
   "id": "saving-license",
   "metadata": {},
   "outputs": [],
   "source": [
    "]activate ."
   ]
  },
  {
   "cell_type": "code",
   "execution_count": 2,
   "id": "nonprofit-milton",
   "metadata": {},
   "outputs": [
    {
     "name": "stderr",
     "output_type": "stream",
     "text": [
      "┌ Info: Precompiling Semagrams [13530c0b-fe5b-42fd-9b7e-79367be16329]\n",
      "└ @ Base loading.jl:1317\n"
     ]
    },
    {
     "data": {
      "text/html": [
       "<script>\n",
       "// Immediately-invoked-function-expression to avoid global variables.\n",
       "(function() {\n",
       "    var warning_div = document.getElementById(\"webio-warning-2249503153034692432\");\n",
       "    var hide = function () {\n",
       "        var script = document.getElementById(\"webio-setup-16712845827125032855\");\n",
       "        var parent = script && script.parentElement;\n",
       "        var grandparent = parent && parent.parentElement;\n",
       "        if (grandparent) {\n",
       "            grandparent.style.display = \"none\";\n",
       "        }\n",
       "        warning_div.style.display = \"none\";\n",
       "    };\n",
       "    if (typeof Jupyter !== \"undefined\") {\n",
       "        console.log(\"WebIO detected Jupyter notebook environment.\");\n",
       "        // Jupyter notebook.\n",
       "        var extensions = (\n",
       "            Jupyter\n",
       "            && Jupyter.notebook.config.data\n",
       "            && Jupyter.notebook.config.data.load_extensions\n",
       "        );\n",
       "        if (extensions && extensions[\"webio-jupyter-notebook\"]) {\n",
       "            // Extension already loaded.\n",
       "            console.log(\"Jupyter WebIO nbextension detected; not loading ad-hoc.\");\n",
       "            hide();\n",
       "            return;\n",
       "        }\n",
       "    } else if (window.location.pathname.includes(\"/lab\")) {\n",
       "        // Guessing JupyterLa\n",
       "        console.log(\"Jupyter Lab detected; make sure the @webio/jupyter-lab-provider labextension is installed.\");\n",
       "        hide();\n",
       "        return;\n",
       "    }\n",
       "})();\n",
       "\n",
       "</script>\n",
       "<p\n",
       "    id=\"webio-warning-2249503153034692432\"\n",
       "    class=\"output_text output_stderr\"\n",
       "    style=\"padding: 1em; font-weight: bold;\"\n",
       ">\n",
       "    Unable to load WebIO. Please make sure WebIO works for your Jupyter client.\n",
       "    For troubleshooting, please see <a href=\"https://juliagizmos.github.io/WebIO.jl/latest/providers/ijulia/\">\n",
       "    the WebIO/IJulia documentation</a>.\n",
       "    <!-- TODO: link to installation docs. -->\n",
       "</p>\n"
      ],
      "text/plain": [
       "HTML{String}(\"<script>\\n// Immediately-invoked-function-expression to avoid global variables.\\n(function() {\\n    var warning_div = document.getElementById(\\\"webio-warning-2249503153034692432\\\");\\n    var hide = function () {\\n        var script = document.getElementById(\\\"webio-setup-16712845827125032855\\\");\\n        var parent = script && script.parentElement;\\n        var grandparent = parent && parent.parentElement;\\n        if (grandparent) {\\n            grandparent.style.display = \\\"none\\\";\\n        }\\n        warning_div.style.display = \\\"none\\\";\\n    };\\n    if (typeof Jupyter !== \\\"undefined\\\") {\\n        console.log(\\\"WebIO detected Jupyter notebook environment.\\\");\\n        // Jupyter notebook.\\n        var extensions = (\\n            Jupyter\\n            && Jupyter.notebook.config.data\\n            && Jupyter.notebook.config.data.load_extensions\\n        );\\n        if (extensions && extensions[\\\"webio-jupyter-notebook\\\"]) {\\n            // Extension already loaded.\\n            console.log(\\\"Jupyter WebIO nbextension detected; not loading ad-hoc.\\\");\\n            hide();\\n            return;\\n        }\\n    } else if (window.location.pathname.includes(\\\"/lab\\\")) {\\n        // Guessing JupyterLa\\n        console.log(\\\"Jupyter Lab detected; make sure the @webio/jupyter-lab-provider labextension is installed.\\\");\\n        hide();\\n        return;\\n    }\\n})();\\n\\n</script>\\n<p\\n    id=\\\"webio-warning-2249503153034692432\\\"\\n    class=\\\"output_text output_stderr\\\"\\n    style=\\\"padding: 1em; font-weight: bold;\\\"\\n>\\n    Unable to load WebIO. Please make sure WebIO works for your Jupyter client.\\n    For troubleshooting, please see <a href=\\\"https://juliagizmos.github.io/WebIO.jl/latest/providers/ijulia/\\\">\\n    the WebIO/IJulia documentation</a>.\\n    <!-- TODO: link to installation docs. -->\\n</p>\\n\")"
      ]
     },
     "metadata": {},
     "output_type": "display_data"
    }
   ],
   "source": [
    "using Semagrams, Semagrams.Examples"
   ]
  },
  {
   "cell_type": "code",
   "execution_count": 4,
   "id": "interpreted-extension",
   "metadata": {},
   "outputs": [
    {
     "ename": "LoadError",
     "evalue": "  error: all type parameters to the acset type must be fully instantiated.\n\n  Right: Semagram{WeightedGraph{Int}}(WeightedGraphSema)\n  Wrong: Semagram{WeightedGraph}(WeightedGraphSema)\n",
     "output_type": "error",
     "traceback": [
      "  error: all type parameters to the acset type must be fully instantiated.\n\n  Right: Semagram{WeightedGraph{Int}}(WeightedGraphSema)\n  Wrong: Semagram{WeightedGraph}(WeightedGraphSema)\n",
      "",
      "Stacktrace:",
      " [1] error(s::String)",
      "   @ Base ./error.jl:33",
      " [2] Semagram{Catlab.CSetDataStructures.AttributedCSet{Catlab.Theories.CatDesc{(:T, :S, :I, :O), (:it, :is, :ot, :os), (3, 3, 4, 4), (1, 2, 1, 2)}, Catlab.Theories.AttrDesc{Catlab.Theories.CatDesc{(:T, :S, :I, :O), (:it, :is, :ot, :os), (3, 3, 4, 4), (1, 2, 1, 2)}, (:N, :L), (:rate, :concentration, :species_label, :transitions_label), (1, 2, 2, 1), (1, 1, 2, 2)}, Tuple{Float64, L}, (), (), Tables, Indices} where {L, Tables<:NamedTuple, Indices<:NamedTuple}}(ls::LocatedSemagramData)",
      "   @ Semagrams.UI ~/g/Semagrams.jl/src/UI.jl:40",
      " [3] Semagram{Catlab.CSetDataStructures.AttributedCSet{Catlab.Theories.CatDesc{(:T, :S, :I, :O), (:it, :is, :ot, :os), (3, 3, 4, 4), (1, 2, 1, 2)}, Catlab.Theories.AttrDesc{Catlab.Theories.CatDesc{(:T, :S, :I, :O), (:it, :is, :ot, :os), (3, 3, 4, 4), (1, 2, 1, 2)}, (:N, :L), (:rate, :concentration, :species_label, :transitions_label), (1, 2, 2, 1), (1, 1, 2, 2)}, Tuple{Float64, L}, (), (), Tables, Indices} where {L, Tables<:NamedTuple, Indices<:NamedTuple}}(s::SemagramSchema)",
      "   @ Semagrams.UI ~/g/Semagrams.jl/src/UI.jl:72",
      " [4] top-level scope",
      "   @ In[4]:1",
      " [5] eval",
      "   @ ./boot.jl:360 [inlined]",
      " [6] include_string(mapexpr::typeof(REPL.softscope), mod::Module, code::String, filename::String)",
      "   @ Base ./loading.jl:1094"
     ]
    }
   ],
   "source": [
    "p = Semagram{ReactionNet{Float64}}(ReactionNetSema)"
   ]
  },
  {
   "cell_type": "code",
   "execution_count": 5,
   "id": "burning-cosmetic",
   "metadata": {},
   "outputs": [
    {
     "data": {
      "text/html": [
       "<div class=\"c-set\">\n",
       "<span class=\"c-set-summary\">ACSet with elements T = 1:1, S = 1:1, I = 1:0, O = 1:1</span>\n",
       "<table>\n",
       "  <tr class = \"header headerLastRow\">\n",
       "    <th class = \"rowNumber\">T</th>\n",
       "    <th style = \"text-align: right;\">rate</th>\n",
       "    <th style = \"text-align: right;\">transitions_label</th>\n",
       "  </tr>\n",
       "  <tr>\n",
       "    <td class = \"rowNumber\">1</td>\n",
       "    <td style = \"text-align: right;\">3.0</td>\n",
       "    <td style = \"text-align: right;\">\\\\mathrm{foo}</td>\n",
       "  </tr>\n",
       "</table>\n",
       "<table>\n",
       "  <tr class = \"header headerLastRow\">\n",
       "    <th class = \"rowNumber\">S</th>\n",
       "    <th style = \"text-align: right;\">concentration</th>\n",
       "    <th style = \"text-align: right;\">species_label</th>\n",
       "  </tr>\n",
       "  <tr>\n",
       "    <td class = \"rowNumber\">1</td>\n",
       "    <td style = \"text-align: right;\">30.0</td>\n",
       "    <td style = \"text-align: right;\">A</td>\n",
       "  </tr>\n",
       "</table>\n",
       "<table>\n",
       "  <tr class = \"header headerLastRow\">\n",
       "    <th class = \"rowNumber\">O</th>\n",
       "    <th style = \"text-align: right;\">ot</th>\n",
       "    <th style = \"text-align: right;\">os</th>\n",
       "  </tr>\n",
       "  <tr>\n",
       "    <td class = \"rowNumber\">1</td>\n",
       "    <td style = \"text-align: right;\">1</td>\n",
       "    <td style = \"text-align: right;\">1</td>\n",
       "  </tr>\n",
       "</table>\n",
       "</div>\n"
      ],
      "text/plain": [
       "ACSet with elements T = 1:1, S = 1:1, I = 1:0, O = 1:1\n",
       "┌───┬──────┬───────────────────┐\n",
       "│\u001b[1m T \u001b[0m│\u001b[1m rate \u001b[0m│\u001b[1m transitions_label \u001b[0m│\n",
       "├───┼──────┼───────────────────┤\n",
       "│ 1 │  3.0 │     \\\\mathrm{foo} │\n",
       "└───┴──────┴───────────────────┘\n",
       "┌───┬───────────────┬───────────────┐\n",
       "│\u001b[1m S \u001b[0m│\u001b[1m concentration \u001b[0m│\u001b[1m species_label \u001b[0m│\n",
       "├───┼───────────────┼───────────────┤\n",
       "│ 1 │          30.0 │             A │\n",
       "└───┴───────────────┴───────────────┘\n",
       "┌───┬────┬────┐\n",
       "│\u001b[1m O \u001b[0m│\u001b[1m ot \u001b[0m│\u001b[1m os \u001b[0m│\n",
       "├───┼────┼────┤\n",
       "│ 1 │  1 │  1 │\n",
       "└───┴────┴────┘\n"
      ]
     },
     "execution_count": 5,
     "metadata": {},
     "output_type": "execute_result"
    }
   ],
   "source": [
    "get_acset(p)"
   ]
  },
  {
   "cell_type": "code",
   "execution_count": 6,
   "id": "intimate-purple",
   "metadata": {},
   "outputs": [
    {
     "data": {
      "text/plain": [
       "Catlab.CSetDataStructures.AttributedCSet{Catlab.Theories.CatDesc{(:T, :S, :I, :O), (:it, :is, :ot, :os), (3, 3, 4, 4), (1, 2, 1, 2)}, Catlab.Theories.AttrDesc{Catlab.Theories.CatDesc{(:T, :S, :I, :O), (:it, :is, :ot, :os), (3, 3, 4, 4), (1, 2, 1, 2)}, (:N, :L), (:rate, :concentration, :species_label, :transitions_label), (1, 2, 2, 1), (1, 1, 2, 2)}, Tuple{Float64, L}, (), (), Tables, Indices} where {L, Tables<:NamedTuple, Indices<:NamedTuple}"
      ]
     },
     "execution_count": 6,
     "metadata": {},
     "output_type": "execute_result"
    }
   ],
   "source": [
    "T = ReactionNet{Float64}"
   ]
  },
  {
   "cell_type": "code",
   "execution_count": 9,
   "id": "controlling-browse",
   "metadata": {},
   "outputs": [
    {
     "ename": "LoadError",
     "evalue": "UndefVarError: Ts not defined",
     "output_type": "error",
     "traceback": [
      "UndefVarError: Ts not defined",
      "",
      "Stacktrace:",
      " [1] (Catlab.CSetDataStructures.AttributedCSet{Catlab.Theories.CatDesc{(:T, :S, :I, :O), (:it, :is, :ot, :os), (3, 3, 4, 4), (1, 2, 1, 2)}, Catlab.Theories.AttrDesc{Catlab.Theories.CatDesc{(:T, :S, :I, :O), (:it, :is, :ot, :os), (3, 3, 4, 4), (1, 2, 1, 2)}, (:N, :L), (:rate, :concentration, :species_label, :transitions_label), (1, 2, 2, 1), (1, 1, 2, 2)}, Tuple{Float64, L}, (), (), Tables, Indices} where {L, Tables<:NamedTuple, Indices<:NamedTuple})(; table_type::Type)",
      "   @ Catlab.CSetDataStructures ~/.julia/packages/Catlab/wJlKP/src/categorical_algebra/CSetDataStructures.jl:68",
      " [2] (Catlab.CSetDataStructures.AttributedCSet{Catlab.Theories.CatDesc{(:T, :S, :I, :O), (:it, :is, :ot, :os), (3, 3, 4, 4), (1, 2, 1, 2)}, Catlab.Theories.AttrDesc{Catlab.Theories.CatDesc{(:T, :S, :I, :O), (:it, :is, :ot, :os), (3, 3, 4, 4), (1, 2, 1, 2)}, (:N, :L), (:rate, :concentration, :species_label, :transitions_label), (1, 2, 2, 1), (1, 1, 2, 2)}, Tuple{Float64, L}, (), (), Tables, Indices} where {L, Tables<:NamedTuple, Indices<:NamedTuple})()",
      "   @ Catlab.CSetDataStructures ~/.julia/packages/Catlab/wJlKP/src/categorical_algebra/CSetDataStructures.jl:68",
      " [3] top-level scope",
      "   @ In[9]:1",
      " [4] eval",
      "   @ ./boot.jl:360 [inlined]",
      " [5] include_string(mapexpr::typeof(REPL.softscope), mod::Module, code::String, filename::String)",
      "   @ Base ./loading.jl:1094"
     ]
    }
   ],
   "source": [
    "T()"
   ]
  }
 ],
 "metadata": {
  "@webio": {
   "lastCommId": "2bf1697c-1f0c-4213-a017-ac340b10eac3",
   "lastKernelId": "67632270-5c02-40cb-afc4-1f6529b7e61d"
  },
  "kernelspec": {
   "display_name": "Julia 1.6.1",
   "language": "julia",
   "name": "julia-1.6"
  },
  "language_info": {
   "file_extension": ".jl",
   "mimetype": "application/julia",
   "name": "julia",
   "version": "1.6.1"
  }
 },
 "nbformat": 4,
 "nbformat_minor": 5
}
