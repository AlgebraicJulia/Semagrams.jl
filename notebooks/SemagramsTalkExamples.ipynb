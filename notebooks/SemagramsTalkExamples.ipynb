{
 "cells": [
  {
   "cell_type": "code",
   "execution_count": 1,
   "id": "lesser-rouge",
   "metadata": {},
   "outputs": [],
   "source": [
    "]activate ."
   ]
  },
  {
   "cell_type": "code",
   "execution_count": 2,
   "id": "senior-numbers",
   "metadata": {},
   "outputs": [
    {
     "name": "stderr",
     "output_type": "stream",
     "text": [
      "┌ Info: Precompiling Semagrams [13530c0b-fe5b-42fd-9b7e-79367be16329]\n",
      "└ @ Base loading.jl:1317\n",
      "\u001b[91m\u001b[1mERROR: \u001b[22m\u001b[39mLoadError: LoadError: UndefVarError: SVGNode not defined\n",
      "Stacktrace:\n",
      "  [1] top-level scope\n",
      "\u001b[90m    @ \u001b[39m\u001b[90m~/g/Semagrams.jl/src/\u001b[39m\u001b[90;4mSchema.jl:45\u001b[0m\n",
      "  [2] \u001b[0m\u001b[1minclude\u001b[22m\u001b[0m\u001b[1m(\u001b[22m\u001b[90mmod\u001b[39m::\u001b[0mModule, \u001b[90m_path\u001b[39m::\u001b[0mString\u001b[0m\u001b[1m)\u001b[22m\n",
      "\u001b[90m    @ \u001b[39m\u001b[90mBase\u001b[39m \u001b[90m./\u001b[39m\u001b[90;4mBase.jl:386\u001b[0m\n",
      "  [3] \u001b[0m\u001b[1minclude\u001b[22m\u001b[0m\u001b[1m(\u001b[22m\u001b[90mx\u001b[39m::\u001b[0mString\u001b[0m\u001b[1m)\u001b[22m\n",
      "\u001b[90m    @ \u001b[39m\u001b[35mSemagrams\u001b[39m \u001b[90m~/g/Semagrams.jl/src/\u001b[39m\u001b[90;4mSemagrams.jl:1\u001b[0m\n",
      "  [4] top-level scope\n",
      "\u001b[90m    @ \u001b[39m\u001b[90m~/g/Semagrams.jl/src/\u001b[39m\u001b[90;4mSemagrams.jl:7\u001b[0m\n",
      "  [5] \u001b[0m\u001b[1minclude\u001b[22m\n",
      "\u001b[90m    @ \u001b[39m\u001b[90m./\u001b[39m\u001b[90;4mBase.jl:386\u001b[0m\u001b[90m [inlined]\u001b[39m\n",
      "  [6] \u001b[0m\u001b[1minclude_package_for_output\u001b[22m\u001b[0m\u001b[1m(\u001b[22m\u001b[90mpkg\u001b[39m::\u001b[0mBase.PkgId, \u001b[90minput\u001b[39m::\u001b[0mString, \u001b[90mdepot_path\u001b[39m::\u001b[0mVector\u001b[90m{String}\u001b[39m, \u001b[90mdl_load_path\u001b[39m::\u001b[0mVector\u001b[90m{String}\u001b[39m, \u001b[90mload_path\u001b[39m::\u001b[0mVector\u001b[90m{String}\u001b[39m, \u001b[90mconcrete_deps\u001b[39m::\u001b[0mVector\u001b[90m{Pair{Base.PkgId, UInt64}}\u001b[39m, \u001b[90msource\u001b[39m::\u001b[0mNothing\u001b[0m\u001b[1m)\u001b[22m\n",
      "\u001b[90m    @ \u001b[39m\u001b[90mBase\u001b[39m \u001b[90m./\u001b[39m\u001b[90;4mloading.jl:1213\u001b[0m\n",
      "  [7] top-level scope\n",
      "\u001b[90m    @ \u001b[39m\u001b[90;4mnone:1\u001b[0m\n",
      "  [8] \u001b[0m\u001b[1meval\u001b[22m\n",
      "\u001b[90m    @ \u001b[39m\u001b[90m./\u001b[39m\u001b[90;4mboot.jl:360\u001b[0m\u001b[90m [inlined]\u001b[39m\n",
      "  [9] \u001b[0m\u001b[1meval\u001b[22m\u001b[0m\u001b[1m(\u001b[22m\u001b[90mx\u001b[39m::\u001b[0mExpr\u001b[0m\u001b[1m)\u001b[22m\n",
      "\u001b[90m    @ \u001b[39m\u001b[90mBase.MainInclude\u001b[39m \u001b[90m./\u001b[39m\u001b[90;4mclient.jl:446\u001b[0m\n",
      " [10] top-level scope\n",
      "\u001b[90m    @ \u001b[39m\u001b[90;4mnone:1\u001b[0m\n",
      "in expression starting at /home/o/g/Semagrams.jl/src/Schema.jl:1\n",
      "in expression starting at /home/o/g/Semagrams.jl/src/Semagrams.jl:1\n"
     ]
    },
    {
     "ename": "LoadError",
     "evalue": "Failed to precompile Semagrams [13530c0b-fe5b-42fd-9b7e-79367be16329] to /home/o/.julia/compiled/v1.6/Semagrams/jl_FC8PrA.",
     "output_type": "error",
     "traceback": [
      "Failed to precompile Semagrams [13530c0b-fe5b-42fd-9b7e-79367be16329] to /home/o/.julia/compiled/v1.6/Semagrams/jl_FC8PrA.",
      "",
      "Stacktrace:",
      " [1] error(s::String)",
      "   @ Base ./error.jl:33",
      " [2] compilecache(pkg::Base.PkgId, path::String, internal_stderr::IJulia.IJuliaStdio{Base.PipeEndpoint}, internal_stdout::IJulia.IJuliaStdio{Base.PipeEndpoint})",
      "   @ Base ./loading.jl:1360",
      " [3] compilecache(pkg::Base.PkgId, path::String)",
      "   @ Base ./loading.jl:1306",
      " [4] _require(pkg::Base.PkgId)",
      "   @ Base ./loading.jl:1021",
      " [5] require(uuidkey::Base.PkgId)",
      "   @ Base ./loading.jl:914",
      " [6] require(into::Module, mod::Symbol)",
      "   @ Base ./loading.jl:901",
      " [7] eval",
      "   @ ./boot.jl:360 [inlined]",
      " [8] include_string(mapexpr::typeof(REPL.softscope), mod::Module, code::String, filename::String)",
      "   @ Base ./loading.jl:1094"
     ]
    }
   ],
   "source": [
    "using Semagrams, Catlab.Present, Catlab.Theories, Catlab.CSetDataStructures"
   ]
  },
  {
   "cell_type": "code",
   "execution_count": 7,
   "id": "aware-fruit",
   "metadata": {},
   "outputs": [],
   "source": [
    "@present TheoryPetri(FreeSchema) begin\n",
    "    (S,I,T,O)::Ob\n",
    "    is::Hom(I,S)\n",
    "    it::Hom(I,T)\n",
    "    os::Hom(O,S)\n",
    "    ot::Hom(O,T)\n",
    "end\n",
    "\n",
    "@semagramschema PetriSema(TheoryPetri) begin\n",
    "    @box S Circle\n",
    "    @box T Square\n",
    "    @wire I(is,it)\n",
    "    @wire O(ot,os)\n",
    "end\n",
    "\n",
    "Petri = CSetType(TheoryPetri);"
   ]
  },
  {
   "cell_type": "code",
   "execution_count": 8,
   "id": "hazardous-rough",
   "metadata": {},
   "outputs": [
    {
     "data": {
      "application/vnd.webio.node+json": {
       "children": [
        {
         "children": [],
         "instanceArgs": {
          "namespace": "html",
          "tag": "div"
         },
         "nodeType": "DOM",
         "props": {
          "id": "78ee287c-737c-4afb-9c6a-65fa824218c0"
         },
         "type": "node"
        }
       ],
       "instanceArgs": {
        "handlers": {},
        "id": "13160282539231287137",
        "imports": {
         "data": [
          {
           "name": "wires",
           "type": "js",
           "url": "/assetserver/92c7e93b733dcc5d58449e6598ea465cd4dd1762-app.bundle.js"
          }
         ],
         "type": "async_block"
        },
        "mount_callbacks": [
         "(function (){var wires=System.registry.get(System.resolveSync(\"wires\")); return setTimeout((function (){return wires.main({\"box_types\":{\"T\":{\"weights\":[],\"shape\":\"<polygon points=\\\"-40,-40 40,-40 40,40 -40,40\\\"></polygon>\",\"label\":\"T\"},\"S\":{\"weights\":[],\"shape\":\"<circle r=\\\"40\\\"></circle>\",\"label\":\"S\"}},\"wire_types\":{\"I\":{\"weights\":[],\"src\":[\"AttachBox\",\"S\"],\"src_map\":\"is\",\"tgt\":[\"AttachBox\",\"T\"],\"tgt_map\":\"it\",\"style\":\"DefaultWire\"},\"O\":{\"weights\":[],\"src\":[\"AttachBox\",\"T\"],\"src_map\":\"ot\",\"tgt\":[\"AttachBox\",\"S\"],\"tgt_map\":\"os\",\"style\":\"DefaultWire\"}},\"port_types\":{}},\"78ee287c-737c-4afb-9c6a-65fa824218c0\",(function (x){return WebIO.setval({\"name\":\"wires\",\"scope\":\"13160282539231287137\",\"id\":\"1782072071862019430\",\"type\":\"observable\"},x)}))}),20)})"
        ],
        "observables": {
         "wires": {
          "id": "1782072071862019430",
          "sync": false,
          "value": {}
         }
        },
        "systemjs_options": null
       },
       "nodeType": "Scope",
       "props": {},
       "type": "node"
      },
      "text/html": [
       "<div\n",
       "    class=\"webio-mountpoint\"\n",
       "    data-webio-mountpoint=\"15586672653351814243\"\n",
       ">\n",
       "    <script>\n",
       "    if (window.require && require.defined && require.defined(\"nbextensions/webio-jupyter-notebook\")) {\n",
       "        console.log(\"Jupyter WebIO extension detected, not mounting.\");\n",
       "    } else if (window.WebIO) {\n",
       "        WebIO.mount(\n",
       "            document.querySelector('[data-webio-mountpoint=\"15586672653351814243\"]'),\n",
       "            {\"props\":{},\"nodeType\":\"Scope\",\"type\":\"node\",\"instanceArgs\":{\"imports\":{\"data\":[{\"name\":\"wires\",\"type\":\"js\",\"url\":\"\\/assetserver\\/92c7e93b733dcc5d58449e6598ea465cd4dd1762-app.bundle.js\"}],\"type\":\"async_block\"},\"id\":\"13160282539231287137\",\"handlers\":{},\"systemjs_options\":null,\"mount_callbacks\":[\"(function (){var wires=System.registry.get(System.resolveSync(\\\"wires\\\")); return setTimeout((function (){return wires.main({\\\"box_types\\\":{\\\"T\\\":{\\\"weights\\\":[],\\\"shape\\\":\\\"<polygon points=\\\\\\\"-40,-40 40,-40 40,40 -40,40\\\\\\\"><\\/polygon>\\\",\\\"label\\\":\\\"T\\\"},\\\"S\\\":{\\\"weights\\\":[],\\\"shape\\\":\\\"<circle r=\\\\\\\"40\\\\\\\"><\\/circle>\\\",\\\"label\\\":\\\"S\\\"}},\\\"wire_types\\\":{\\\"I\\\":{\\\"weights\\\":[],\\\"src\\\":[\\\"AttachBox\\\",\\\"S\\\"],\\\"src_map\\\":\\\"is\\\",\\\"tgt\\\":[\\\"AttachBox\\\",\\\"T\\\"],\\\"tgt_map\\\":\\\"it\\\",\\\"style\\\":\\\"DefaultWire\\\"},\\\"O\\\":{\\\"weights\\\":[],\\\"src\\\":[\\\"AttachBox\\\",\\\"T\\\"],\\\"src_map\\\":\\\"ot\\\",\\\"tgt\\\":[\\\"AttachBox\\\",\\\"S\\\"],\\\"tgt_map\\\":\\\"os\\\",\\\"style\\\":\\\"DefaultWire\\\"}},\\\"port_types\\\":{}},\\\"78ee287c-737c-4afb-9c6a-65fa824218c0\\\",(function (x){return WebIO.setval({\\\"name\\\":\\\"wires\\\",\\\"scope\\\":\\\"13160282539231287137\\\",\\\"id\\\":\\\"1782072071862019430\\\",\\\"type\\\":\\\"observable\\\"},x)}))}),20)})\"],\"observables\":{\"wires\":{\"sync\":false,\"id\":\"1782072071862019430\",\"value\":{}}}},\"children\":[{\"props\":{\"id\":\"78ee287c-737c-4afb-9c6a-65fa824218c0\"},\"nodeType\":\"DOM\",\"type\":\"node\",\"instanceArgs\":{\"namespace\":\"html\",\"tag\":\"div\"},\"children\":[]}]},\n",
       "            window,\n",
       "        );\n",
       "    } else {\n",
       "        document\n",
       "            .querySelector('[data-webio-mountpoint=\"15586672653351814243\"]')\n",
       "            .innerHTML = (\n",
       "                '<div style=\"padding: 1em; background-color: #f8d6da; border: 1px solid #f5c6cb\">' +\n",
       "                '<p><strong>WebIO not detected.</strong></p>' +\n",
       "                '<p>Please read ' +\n",
       "                '<a href=\"https://juliagizmos.github.io/WebIO.jl/latest/troubleshooting/not-detected/\" target=\"_blank\">the troubleshooting guide</a> ' +\n",
       "                'for more information on how to resolve this issue.</p>' +\n",
       "                '<p><a href=\"https://juliagizmos.github.io/WebIO.jl/latest/troubleshooting/not-detected/\" target=\"_blank\">https://juliagizmos.github.io/WebIO.jl/latest/troubleshooting/not-detected/</a></p>' +\n",
       "                '</div>'\n",
       "            );\n",
       "    }\n",
       "    </script>\n",
       "</div>\n"
      ],
      "text/plain": [
       "Semagram{CSet{Catlab.Theories.CatDesc{(:S, :I, :T, :O), (:is, :it, :os, :ot), (2, 2, 4, 4), (1, 3, 1, 3)}, (), (), Tables, Indices} where {Tables<:NamedTuple, Indices<:NamedTuple}}(UUID(\"78ee287c-737c-4afb-9c6a-65fa824218c0\"), WebIO.Scope(WebIO.Node{WebIO.DOM}(WebIO.DOM(:html, :div), Any[], Dict{Symbol, Any}(:id => \"78ee287c-737c-4afb-9c6a-65fa824218c0\")), Dict{String, Tuple{Observables.AbstractObservable, Union{Nothing, Bool}}}(\"wires\" => (Observable{Dict{String, Any}} with 0 listeners. Value:\n",
       "Dict{String, Any}(), nothing)), Set{String}(), nothing, WebIO.Asset[WebIO.Asset(\"js\", \"wires\", \"/home/o/g/Semagrams.jl/src/../javascript/dist/app.bundle.js\")], Dict{Any, Any}(), WebIO.ConnectionPool(Channel{Any}(32), Set{WebIO.AbstractConnection}(), Condition(Base.InvasiveLinkedList{Task}(Task (runnable) @0x00007ff205e3c7f0, Task (runnable) @0x00007ff205e3c7f0), Base.AlwaysLockedST(1))), WebIO.JSString[WebIO.JSString(\"(function (){var wires=System.registry.get(System.resolveSync(\\\"wires\\\")); return setTimeout((function (){return wires.main({\\\"box_types\\\":{\\\"T\\\":{\\\"weights\\\":[],\\\"shape\\\":\\\"<polygon points=\\\\\\\"-40,-40 40,-40 40,40 -40,40\\\\\\\"></polygon>\\\",\\\"label\\\":\\\"T\\\"},\\\"S\\\":{\\\"weights\\\":[],\\\"shape\\\":\\\"<circle r=\\\\\\\"40\\\\\\\"></circle>\\\",\\\"label\\\":\\\"S\\\"}},\\\"wire_types\\\":{\\\"I\\\":{\\\"weights\\\":[],\\\"src\\\":[\\\"AttachBox\\\",\\\"S\\\"],\\\"src_map\\\":\\\"is\\\",\\\"tgt\\\":[\\\"AttachBox\\\",\\\"T\\\"],\\\"tgt_map\\\":\\\"it\\\",\\\"style\\\":\\\"DefaultWire\\\"},\\\"O\\\":{\\\"weights\\\":[],\\\"src\\\":[\\\"AttachBox\\\",\\\"T\\\"],\\\"src_map\\\":\\\"ot\\\",\\\"tgt\\\":[\\\"AttachBox\\\",\\\"S\\\"],\\\"tgt_map\\\":\\\"os\\\",\\\"style\\\":\\\"DefaultWire\\\"}},\\\"port_types\\\":{}},\\\"78ee287c-737c-4afb-9c6a-65fa824218c0\\\",(function (x){return WebIO.setval({\\\"name\\\":\\\"wires\\\",\\\"scope\\\":\\\"13160282539231287137\\\",\\\"id\\\":\\\"1782072071862019430\\\",\\\"type\\\":\\\"observable\\\"},x)}))}),20)})\")]), Observable{Dict{String, Any}} with 0 listeners. Value:\n",
       "Dict{String, Any}(), SemagramSchema(Dict{Symbol, BoxProperties}(:T => BoxProperties(Symbol[], \"<polygon points=\\\"-40,-40 40,-40 40,40 -40,40\\\"></polygon>\", \"T\"), :S => BoxProperties(Symbol[], \"<circle r=\\\"40\\\"></circle>\", \"S\")), Dict{Symbol, PortProperties}(), Dict{Symbol, WireProperties}(:I => WireProperties(Symbol[], (\"AttachBox\", :S), :is, (\"AttachBox\", :T), :it, \"DefaultWire\"), :O => WireProperties(Symbol[], (\"AttachBox\", :T), :ot, (\"AttachBox\", :S), :os, \"DefaultWire\"))))"
      ]
     },
     "execution_count": 8,
     "metadata": {
      "@webio": {
       "kernelId": "91ca0bd5-b00a-44c7-b0f2-b8e6a73b6a23"
      }
     },
     "output_type": "execute_result"
    }
   ],
   "source": [
    "petri = Semagram{Petri}(PetriSema)"
   ]
  },
  {
   "cell_type": "code",
   "execution_count": 6,
   "id": "comparative-atlanta",
   "metadata": {},
   "outputs": [],
   "source": [
    "@present TheoryCircuit(FreeSchema) begin\n",
    "    V::Ob\n",
    "    S::Ob\n",
    "    R::Ob\n",
    "    I::Ob\n",
    "    ssrc::Hom(S,V)\n",
    "    stgt::Hom(S,V)\n",
    "    rsrc::Hom(R,V)\n",
    "    rtgt::Hom(R,V)\n",
    "    isrc::Hom(I,V)\n",
    "    itgt::Hom(I,V)\n",
    "end\n",
    "\n",
    "@semagramschema CircuitSema(TheoryCircuit) begin\n",
    "    @box V Boxes.SmallCircle\n",
    "    @wire S(ssrc,stgt)\n",
    "    @wire R(rsrc,rtgt)\n",
    "    @wire I(isrc,itgt)\n",
    "end\n",
    "\n",
    "Circuit = CSetType(TheoryCircuit);"
   ]
  },
  {
   "cell_type": "code",
   "execution_count": null,
   "id": "bright-inspection",
   "metadata": {},
   "outputs": [],
   "source": []
  },
  {
   "cell_type": "code",
   "execution_count": 16,
   "id": "random-haiti",
   "metadata": {},
   "outputs": [
    {
     "data": {
      "application/vnd.webio.node+json": {
       "children": [
        {
         "children": [],
         "instanceArgs": {
          "namespace": "html",
          "tag": "div"
         },
         "nodeType": "DOM",
         "props": {
          "id": "c1f41dcc-e536-40c9-906d-9d23c7bc5e9a"
         },
         "type": "node"
        }
       ],
       "instanceArgs": {
        "handlers": {},
        "id": "944872247054335929",
        "imports": {
         "data": [
          {
           "name": "wires",
           "type": "js",
           "url": "/assetserver/92c7e93b733dcc5d58449e6598ea465cd4dd1762-app.bundle.js"
          }
         ],
         "type": "async_block"
        },
        "mount_callbacks": [
         "(function (){var wires=System.registry.get(System.resolveSync(\"wires\")); return setTimeout((function (){return wires.main({\"box_types\":{\"V\":{\"weights\":[],\"shape\":\"<circle r=\\\"10\\\"></circle>\",\"label\":\"V\"}},\"wire_types\":{\"R\":{\"weights\":[],\"src\":[\"AttachBox\",\"V\"],\"src_map\":\"rsrc\",\"tgt\":[\"AttachBox\",\"V\"],\"tgt_map\":\"rtgt\",\"style\":\"DefaultWire\"},\"I\":{\"weights\":[],\"src\":[\"AttachBox\",\"V\"],\"src_map\":\"isrc\",\"tgt\":[\"AttachBox\",\"V\"],\"tgt_map\":\"itgt\",\"style\":\"DefaultWire\"},\"S\":{\"weights\":[],\"src\":[\"AttachBox\",\"V\"],\"src_map\":\"ssrc\",\"tgt\":[\"AttachBox\",\"V\"],\"tgt_map\":\"stgt\",\"style\":\"DefaultWire\"}},\"port_types\":{}},\"c1f41dcc-e536-40c9-906d-9d23c7bc5e9a\",(function (x){return WebIO.setval({\"name\":\"wires\",\"scope\":\"944872247054335929\",\"id\":\"11145902464782915281\",\"type\":\"observable\"},x)}))}),20)})"
        ],
        "observables": {
         "wires": {
          "id": "11145902464782915281",
          "sync": false,
          "value": {}
         }
        },
        "systemjs_options": null
       },
       "nodeType": "Scope",
       "props": {},
       "type": "node"
      },
      "text/html": [
       "<div\n",
       "    class=\"webio-mountpoint\"\n",
       "    data-webio-mountpoint=\"14924554293368970864\"\n",
       ">\n",
       "    <script>\n",
       "    if (window.require && require.defined && require.defined(\"nbextensions/webio-jupyter-notebook\")) {\n",
       "        console.log(\"Jupyter WebIO extension detected, not mounting.\");\n",
       "    } else if (window.WebIO) {\n",
       "        WebIO.mount(\n",
       "            document.querySelector('[data-webio-mountpoint=\"14924554293368970864\"]'),\n",
       "            {\"props\":{},\"nodeType\":\"Scope\",\"type\":\"node\",\"instanceArgs\":{\"imports\":{\"data\":[{\"name\":\"wires\",\"type\":\"js\",\"url\":\"\\/assetserver\\/92c7e93b733dcc5d58449e6598ea465cd4dd1762-app.bundle.js\"}],\"type\":\"async_block\"},\"id\":\"944872247054335929\",\"handlers\":{},\"systemjs_options\":null,\"mount_callbacks\":[\"(function (){var wires=System.registry.get(System.resolveSync(\\\"wires\\\")); return setTimeout((function (){return wires.main({\\\"box_types\\\":{\\\"V\\\":{\\\"weights\\\":[],\\\"shape\\\":\\\"<circle r=\\\\\\\"10\\\\\\\"><\\/circle>\\\",\\\"label\\\":\\\"V\\\"}},\\\"wire_types\\\":{\\\"R\\\":{\\\"weights\\\":[],\\\"src\\\":[\\\"AttachBox\\\",\\\"V\\\"],\\\"src_map\\\":\\\"rsrc\\\",\\\"tgt\\\":[\\\"AttachBox\\\",\\\"V\\\"],\\\"tgt_map\\\":\\\"rtgt\\\",\\\"style\\\":\\\"DefaultWire\\\"},\\\"I\\\":{\\\"weights\\\":[],\\\"src\\\":[\\\"AttachBox\\\",\\\"V\\\"],\\\"src_map\\\":\\\"isrc\\\",\\\"tgt\\\":[\\\"AttachBox\\\",\\\"V\\\"],\\\"tgt_map\\\":\\\"itgt\\\",\\\"style\\\":\\\"DefaultWire\\\"},\\\"S\\\":{\\\"weights\\\":[],\\\"src\\\":[\\\"AttachBox\\\",\\\"V\\\"],\\\"src_map\\\":\\\"ssrc\\\",\\\"tgt\\\":[\\\"AttachBox\\\",\\\"V\\\"],\\\"tgt_map\\\":\\\"stgt\\\",\\\"style\\\":\\\"DefaultWire\\\"}},\\\"port_types\\\":{}},\\\"c1f41dcc-e536-40c9-906d-9d23c7bc5e9a\\\",(function (x){return WebIO.setval({\\\"name\\\":\\\"wires\\\",\\\"scope\\\":\\\"944872247054335929\\\",\\\"id\\\":\\\"11145902464782915281\\\",\\\"type\\\":\\\"observable\\\"},x)}))}),20)})\"],\"observables\":{\"wires\":{\"sync\":false,\"id\":\"11145902464782915281\",\"value\":{}}}},\"children\":[{\"props\":{\"id\":\"c1f41dcc-e536-40c9-906d-9d23c7bc5e9a\"},\"nodeType\":\"DOM\",\"type\":\"node\",\"instanceArgs\":{\"namespace\":\"html\",\"tag\":\"div\"},\"children\":[]}]},\n",
       "            window,\n",
       "        );\n",
       "    } else {\n",
       "        document\n",
       "            .querySelector('[data-webio-mountpoint=\"14924554293368970864\"]')\n",
       "            .innerHTML = (\n",
       "                '<div style=\"padding: 1em; background-color: #f8d6da; border: 1px solid #f5c6cb\">' +\n",
       "                '<p><strong>WebIO not detected.</strong></p>' +\n",
       "                '<p>Please read ' +\n",
       "                '<a href=\"https://juliagizmos.github.io/WebIO.jl/latest/troubleshooting/not-detected/\" target=\"_blank\">the troubleshooting guide</a> ' +\n",
       "                'for more information on how to resolve this issue.</p>' +\n",
       "                '<p><a href=\"https://juliagizmos.github.io/WebIO.jl/latest/troubleshooting/not-detected/\" target=\"_blank\">https://juliagizmos.github.io/WebIO.jl/latest/troubleshooting/not-detected/</a></p>' +\n",
       "                '</div>'\n",
       "            );\n",
       "    }\n",
       "    </script>\n",
       "</div>\n"
      ],
      "text/plain": [
       "WebIO.Scope(WebIO.Node{WebIO.DOM}(WebIO.DOM(:html, :div), Any[], Dict{Symbol, Any}(:id => \"c1f41dcc-e536-40c9-906d-9d23c7bc5e9a\")), Dict{String, Tuple{Observables.AbstractObservable, Union{Nothing, Bool}}}(\"wires\" => (Observable{Dict{String, Any}} with 0 listeners. Value:\n",
       "Dict{String, Any}(), nothing)), Set{String}(), nothing, WebIO.Asset[WebIO.Asset(\"js\", \"wires\", \"/home/o/g/Semagrams.jl/src/../javascript/dist/app.bundle.js\")], Dict{Any, Any}(), WebIO.ConnectionPool(Channel{Any}(32), Set{WebIO.AbstractConnection}(), Condition(Base.InvasiveLinkedList{Task}(Task (runnable) @0x00007fcd4e877730, Task (runnable) @0x00007fcd4e877730), Base.AlwaysLockedST(1))), WebIO.JSString[WebIO.JSString(\"(function (){var wires=System.registry.get(System.resolveSync(\\\"wires\\\")); return setTimeout((function (){return wires.main({\\\"box_types\\\":{\\\"V\\\":{\\\"weights\\\":[],\\\"shape\\\":\\\"<circle r=\\\\\\\"10\\\\\\\"></circle>\\\",\\\"label\\\":\\\"V\\\"}},\\\"wire_types\\\":{\\\"R\\\":{\\\"weights\\\":[],\\\"src\\\":[\\\"AttachBox\\\",\\\"V\\\"],\\\"src_map\\\":\\\"rsrc\\\",\\\"tgt\\\":[\\\"AttachBox\\\",\\\"V\\\"],\\\"tgt_map\\\":\\\"rtgt\\\",\\\"style\\\":\\\"DefaultWire\\\"},\\\"I\\\":{\\\"weights\\\":[],\\\"src\\\":[\\\"AttachBox\\\",\\\"V\\\"],\\\"src_map\\\":\\\"isrc\\\",\\\"tgt\\\":[\\\"AttachBox\\\",\\\"V\\\"],\\\"tgt_map\\\":\\\"itgt\\\",\\\"style\\\":\\\"DefaultWire\\\"},\\\"S\\\":{\\\"weights\\\":[],\\\"src\\\":[\\\"AttachBox\\\",\\\"V\\\"],\\\"src_map\\\":\\\"ssrc\\\",\\\"tgt\\\":[\\\"AttachBox\\\",\\\"V\\\"],\\\"tgt_map\\\":\\\"stgt\\\",\\\"style\\\":\\\"DefaultWire\\\"}},\\\"port_types\\\":{}},\\\"c1f41dcc-e536-40c9-906d-9d23c7bc5e9a\\\",(function (x){return WebIO.setval({\\\"name\\\":\\\"wires\\\",\\\"scope\\\":\\\"944872247054335929\\\",\\\"id\\\":\\\"11145902464782915281\\\",\\\"type\\\":\\\"observable\\\"},x)}))}),20)})\")])"
      ]
     },
     "execution_count": 16,
     "metadata": {
      "@webio": {
       "kernelId": "b243ec78-57f8-46e9-ab69-54eff421af6f"
      }
     },
     "output_type": "execute_result"
    }
   ],
   "source": [
    "c = Semagrams.ControlSemagram{Circuit}(CircuitSema)\n",
    "c.scope"
   ]
  },
  {
   "cell_type": "code",
   "execution_count": 29,
   "id": "monetary-acrobat",
   "metadata": {},
   "outputs": [],
   "source": [
    "@present TheoryDirectedPortGraph(FreeSchema) begin\n",
    "    Box::Ob\n",
    "    IPort::Ob\n",
    "    OPort::Ob\n",
    "    Wire::Ob\n",
    "    ibox::Hom(IPort,Box)\n",
    "    obox::Hom(OPort,Box)\n",
    "    src::Hom(Wire,OPort)\n",
    "    tgt::Hom(Wire,IPort)\n",
    "end\n",
    "\n",
    "@semagramschema DirectedPortGraphSema(TheoryDirectedPortGraph) begin\n",
    "    @box Box Square\n",
    "    @port IPort(ibox) \"Input\"\n",
    "    @port OPort(obox) \"Output\"\n",
    "    @wire Wire(src,tgt)\n",
    "end\n",
    "\n",
    "DirectedPortGraph = CSetType(TheoryDirectedPortGraph);"
   ]
  },
  {
   "cell_type": "code",
   "execution_count": null,
   "id": "generic-nitrogen",
   "metadata": {},
   "outputs": [],
   "source": []
  },
  {
   "cell_type": "code",
   "execution_count": 30,
   "id": "trying-lightweight",
   "metadata": {
    "collapsed": true,
    "jupyter": {
     "outputs_hidden": true
    }
   },
   "outputs": [
    {
     "data": {
      "application/vnd.webio.node+json": {
       "children": [
        {
         "children": [],
         "instanceArgs": {
          "namespace": "html",
          "tag": "div"
         },
         "nodeType": "DOM",
         "props": {
          "id": "8d2120b4-0d3d-46ba-9517-2fac24bc49e6"
         },
         "type": "node"
        }
       ],
       "instanceArgs": {
        "handlers": {},
        "id": "6566218947083036960",
        "imports": {
         "data": [
          {
           "name": "wires",
           "type": "js",
           "url": "/assetserver/92c7e93b733dcc5d58449e6598ea465cd4dd1762-app.bundle.js"
          }
         ],
         "type": "async_block"
        },
        "mount_callbacks": [
         "(function (){var wires=System.registry.get(System.resolveSync(\"wires\")); return setTimeout((function (){return wires.main({\"box_types\":{\"Box\":{\"weights\":[],\"shape\":\"<polygon points=\\\"-40,-40 40,-40 40,40 -40,40\\\"></polygon>\",\"label\":\"Box\"}},\"wire_types\":{\"Wire\":{\"weights\":[],\"src\":[\"AttachPort\",\"OPort\"],\"src_map\":\"src\",\"tgt\":[\"AttachPort\",\"IPort\"],\"tgt_map\":\"tgt\",\"style\":\"DefaultWire\"}},\"port_types\":{\"OPort\":{\"weights\":[],\"box\":\"Box\",\"box_map\":\"obox\",\"style\":\"Output\"},\"IPort\":{\"weights\":[],\"box\":\"Box\",\"box_map\":\"ibox\",\"style\":\"Input\"}}},\"8d2120b4-0d3d-46ba-9517-2fac24bc49e6\",(function (x){return WebIO.setval({\"name\":\"wires\",\"scope\":\"6566218947083036960\",\"id\":\"13012821546100754008\",\"type\":\"observable\"},x)}))}),20)})"
        ],
        "observables": {
         "wires": {
          "id": "13012821546100754008",
          "sync": false,
          "value": {}
         }
        },
        "systemjs_options": null
       },
       "nodeType": "Scope",
       "props": {},
       "type": "node"
      },
      "text/html": [
       "<div\n",
       "    class=\"webio-mountpoint\"\n",
       "    data-webio-mountpoint=\"4689372804492720506\"\n",
       ">\n",
       "    <script>\n",
       "    if (window.require && require.defined && require.defined(\"nbextensions/webio-jupyter-notebook\")) {\n",
       "        console.log(\"Jupyter WebIO extension detected, not mounting.\");\n",
       "    } else if (window.WebIO) {\n",
       "        WebIO.mount(\n",
       "            document.querySelector('[data-webio-mountpoint=\"4689372804492720506\"]'),\n",
       "            {\"props\":{},\"nodeType\":\"Scope\",\"type\":\"node\",\"instanceArgs\":{\"imports\":{\"data\":[{\"name\":\"wires\",\"type\":\"js\",\"url\":\"\\/assetserver\\/92c7e93b733dcc5d58449e6598ea465cd4dd1762-app.bundle.js\"}],\"type\":\"async_block\"},\"id\":\"6566218947083036960\",\"handlers\":{},\"systemjs_options\":null,\"mount_callbacks\":[\"(function (){var wires=System.registry.get(System.resolveSync(\\\"wires\\\")); return setTimeout((function (){return wires.main({\\\"box_types\\\":{\\\"Box\\\":{\\\"weights\\\":[],\\\"shape\\\":\\\"<polygon points=\\\\\\\"-40,-40 40,-40 40,40 -40,40\\\\\\\"><\\/polygon>\\\",\\\"label\\\":\\\"Box\\\"}},\\\"wire_types\\\":{\\\"Wire\\\":{\\\"weights\\\":[],\\\"src\\\":[\\\"AttachPort\\\",\\\"OPort\\\"],\\\"src_map\\\":\\\"src\\\",\\\"tgt\\\":[\\\"AttachPort\\\",\\\"IPort\\\"],\\\"tgt_map\\\":\\\"tgt\\\",\\\"style\\\":\\\"DefaultWire\\\"}},\\\"port_types\\\":{\\\"OPort\\\":{\\\"weights\\\":[],\\\"box\\\":\\\"Box\\\",\\\"box_map\\\":\\\"obox\\\",\\\"style\\\":\\\"Output\\\"},\\\"IPort\\\":{\\\"weights\\\":[],\\\"box\\\":\\\"Box\\\",\\\"box_map\\\":\\\"ibox\\\",\\\"style\\\":\\\"Input\\\"}}},\\\"8d2120b4-0d3d-46ba-9517-2fac24bc49e6\\\",(function (x){return WebIO.setval({\\\"name\\\":\\\"wires\\\",\\\"scope\\\":\\\"6566218947083036960\\\",\\\"id\\\":\\\"13012821546100754008\\\",\\\"type\\\":\\\"observable\\\"},x)}))}),20)})\"],\"observables\":{\"wires\":{\"sync\":false,\"id\":\"13012821546100754008\",\"value\":{}}}},\"children\":[{\"props\":{\"id\":\"8d2120b4-0d3d-46ba-9517-2fac24bc49e6\"},\"nodeType\":\"DOM\",\"type\":\"node\",\"instanceArgs\":{\"namespace\":\"html\",\"tag\":\"div\"},\"children\":[]}]},\n",
       "            window,\n",
       "        );\n",
       "    } else {\n",
       "        document\n",
       "            .querySelector('[data-webio-mountpoint=\"4689372804492720506\"]')\n",
       "            .innerHTML = (\n",
       "                '<div style=\"padding: 1em; background-color: #f8d6da; border: 1px solid #f5c6cb\">' +\n",
       "                '<p><strong>WebIO not detected.</strong></p>' +\n",
       "                '<p>Please read ' +\n",
       "                '<a href=\"https://juliagizmos.github.io/WebIO.jl/latest/troubleshooting/not-detected/\" target=\"_blank\">the troubleshooting guide</a> ' +\n",
       "                'for more information on how to resolve this issue.</p>' +\n",
       "                '<p><a href=\"https://juliagizmos.github.io/WebIO.jl/latest/troubleshooting/not-detected/\" target=\"_blank\">https://juliagizmos.github.io/WebIO.jl/latest/troubleshooting/not-detected/</a></p>' +\n",
       "                '</div>'\n",
       "            );\n",
       "    }\n",
       "    </script>\n",
       "</div>\n"
      ],
      "text/plain": [
       "WebIO.Scope(WebIO.Node{WebIO.DOM}(WebIO.DOM(:html, :div), Any[], Dict{Symbol, Any}(:id => \"8d2120b4-0d3d-46ba-9517-2fac24bc49e6\")), Dict{String, Tuple{Observables.AbstractObservable, Union{Nothing, Bool}}}(\"wires\" => (Observable{Dict{String, Any}} with 0 listeners. Value:\n",
       "Dict{String, Any}(), nothing)), Set{String}(), nothing, WebIO.Asset[WebIO.Asset(\"js\", \"wires\", \"/home/o/g/Semagrams.jl/src/../javascript/dist/app.bundle.js\")], Dict{Any, Any}(), WebIO.ConnectionPool(Channel{Any}(32), Set{WebIO.AbstractConnection}(), Condition(Base.InvasiveLinkedList{Task}(Task (runnable) @0x00007fe922970160, Task (runnable) @0x00007fe922970160), Base.AlwaysLockedST(1))), WebIO.JSString[WebIO.JSString(\"(function (){var wires=System.registry.get(System.resolveSync(\\\"wires\\\")); return setTimeout((function (){return wires.main({\\\"box_types\\\":{\\\"Box\\\":{\\\"weights\\\":[],\\\"shape\\\":\\\"<polygon points=\\\\\\\"-40,-40 40,-40 40,40 -40,40\\\\\\\"></polygon>\\\",\\\"label\\\":\\\"Box\\\"}},\\\"wire_types\\\":{\\\"Wire\\\":{\\\"weights\\\":[],\\\"src\\\":[\\\"AttachPort\\\",\\\"OPort\\\"],\\\"src_map\\\":\\\"src\\\",\\\"tgt\\\":[\\\"AttachPort\\\",\\\"IPort\\\"],\\\"tgt_map\\\":\\\"tgt\\\",\\\"style\\\":\\\"DefaultWire\\\"}},\\\"port_types\\\":{\\\"OPort\\\":{\\\"weights\\\":[],\\\"box\\\":\\\"Box\\\",\\\"box_map\\\":\\\"obox\\\",\\\"style\\\":\\\"Output\\\"},\\\"IPort\\\":{\\\"weights\\\":[],\\\"box\\\":\\\"Box\\\",\\\"box_map\\\":\\\"ibox\\\",\\\"style\\\":\\\"Input\\\"}}},\\\"8d2120b4-0d3d-46ba-9517-2fac24bc49e6\\\",(function (x){return WebIO.setval({\\\"name\\\":\\\"wires\\\",\\\"scope\\\":\\\"6566218947083036960\\\",\\\"id\\\":\\\"13012821546100754008\\\",\\\"type\\\":\\\"observable\\\"},x)}))}),20)})\")])"
      ]
     },
     "execution_count": 30,
     "metadata": {
      "@webio": {
       "kernelId": "b243ec78-57f8-46e9-ab69-54eff421af6f"
      }
     },
     "output_type": "execute_result"
    }
   ],
   "source": [
    "dpg = Semagrams.ControlSemagram{DirectedPortGraph}(DirectedPortGraphSema)\n",
    "dpg.scope"
   ]
  },
  {
   "cell_type": "code",
   "execution_count": 34,
   "id": "optical-replica",
   "metadata": {},
   "outputs": [],
   "source": [
    "@present TheoryCircularPortGraph(FreeSchema) begin\n",
    "    Box::Ob\n",
    "    Port::Ob\n",
    "    Wire::Ob\n",
    "    box::Hom(Port,Box)\n",
    "    src::Hom(Wire,Port)\n",
    "    tgt::Hom(Wire,Port)\n",
    "end\n",
    "\n",
    "@semagramschema CPGSema(TheoryCircularPortGraph) begin\n",
    "    @box Box Circle\n",
    "    @port Port(box) \"Circular\"\n",
    "    @wire Wire(src,tgt)\n",
    "end\n",
    "\n",
    "CPG = CSetType(TheoryCircularPortGraph);"
   ]
  },
  {
   "cell_type": "code",
   "execution_count": 36,
   "id": "automated-venezuela",
   "metadata": {},
   "outputs": [
    {
     "data": {
      "application/vnd.webio.node+json": {
       "children": [
        {
         "children": [],
         "instanceArgs": {
          "namespace": "html",
          "tag": "div"
         },
         "nodeType": "DOM",
         "props": {
          "id": "940fac71-1fb0-4360-9522-024b26b891c6"
         },
         "type": "node"
        }
       ],
       "instanceArgs": {
        "handlers": {},
        "id": "9201969464126831507",
        "imports": {
         "data": [
          {
           "name": "wires",
           "type": "js",
           "url": "/assetserver/92c7e93b733dcc5d58449e6598ea465cd4dd1762-app.bundle.js"
          }
         ],
         "type": "async_block"
        },
        "mount_callbacks": [
         "(function (){var wires=System.registry.get(System.resolveSync(\"wires\")); return setTimeout((function (){return wires.main({\"box_types\":{\"Box\":{\"weights\":[],\"shape\":\"<circle r=\\\"40\\\"></circle>\",\"label\":\"Box\"}},\"wire_types\":{\"Wire\":{\"weights\":[],\"src\":[\"AttachPort\",\"Port\"],\"src_map\":\"src\",\"tgt\":[\"AttachPort\",\"Port\"],\"tgt_map\":\"tgt\",\"style\":\"DefaultWire\"}},\"port_types\":{\"Port\":{\"weights\":[],\"box\":\"Box\",\"box_map\":\"box\",\"style\":\"Circular\"}}},\"940fac71-1fb0-4360-9522-024b26b891c6\",(function (x){return WebIO.setval({\"name\":\"wires\",\"scope\":\"9201969464126831507\",\"id\":\"4326566255799838710\",\"type\":\"observable\"},x)}))}),20)})"
        ],
        "observables": {
         "wires": {
          "id": "4326566255799838710",
          "sync": false,
          "value": {}
         }
        },
        "systemjs_options": null
       },
       "nodeType": "Scope",
       "props": {},
       "type": "node"
      },
      "text/html": [
       "<div\n",
       "    class=\"webio-mountpoint\"\n",
       "    data-webio-mountpoint=\"603969192767662463\"\n",
       ">\n",
       "    <script>\n",
       "    if (window.require && require.defined && require.defined(\"nbextensions/webio-jupyter-notebook\")) {\n",
       "        console.log(\"Jupyter WebIO extension detected, not mounting.\");\n",
       "    } else if (window.WebIO) {\n",
       "        WebIO.mount(\n",
       "            document.querySelector('[data-webio-mountpoint=\"603969192767662463\"]'),\n",
       "            {\"props\":{},\"nodeType\":\"Scope\",\"type\":\"node\",\"instanceArgs\":{\"imports\":{\"data\":[{\"name\":\"wires\",\"type\":\"js\",\"url\":\"\\/assetserver\\/92c7e93b733dcc5d58449e6598ea465cd4dd1762-app.bundle.js\"}],\"type\":\"async_block\"},\"id\":\"9201969464126831507\",\"handlers\":{},\"systemjs_options\":null,\"mount_callbacks\":[\"(function (){var wires=System.registry.get(System.resolveSync(\\\"wires\\\")); return setTimeout((function (){return wires.main({\\\"box_types\\\":{\\\"Box\\\":{\\\"weights\\\":[],\\\"shape\\\":\\\"<circle r=\\\\\\\"40\\\\\\\"><\\/circle>\\\",\\\"label\\\":\\\"Box\\\"}},\\\"wire_types\\\":{\\\"Wire\\\":{\\\"weights\\\":[],\\\"src\\\":[\\\"AttachPort\\\",\\\"Port\\\"],\\\"src_map\\\":\\\"src\\\",\\\"tgt\\\":[\\\"AttachPort\\\",\\\"Port\\\"],\\\"tgt_map\\\":\\\"tgt\\\",\\\"style\\\":\\\"DefaultWire\\\"}},\\\"port_types\\\":{\\\"Port\\\":{\\\"weights\\\":[],\\\"box\\\":\\\"Box\\\",\\\"box_map\\\":\\\"box\\\",\\\"style\\\":\\\"Circular\\\"}}},\\\"940fac71-1fb0-4360-9522-024b26b891c6\\\",(function (x){return WebIO.setval({\\\"name\\\":\\\"wires\\\",\\\"scope\\\":\\\"9201969464126831507\\\",\\\"id\\\":\\\"4326566255799838710\\\",\\\"type\\\":\\\"observable\\\"},x)}))}),20)})\"],\"observables\":{\"wires\":{\"sync\":false,\"id\":\"4326566255799838710\",\"value\":{}}}},\"children\":[{\"props\":{\"id\":\"940fac71-1fb0-4360-9522-024b26b891c6\"},\"nodeType\":\"DOM\",\"type\":\"node\",\"instanceArgs\":{\"namespace\":\"html\",\"tag\":\"div\"},\"children\":[]}]},\n",
       "            window,\n",
       "        );\n",
       "    } else {\n",
       "        document\n",
       "            .querySelector('[data-webio-mountpoint=\"603969192767662463\"]')\n",
       "            .innerHTML = (\n",
       "                '<div style=\"padding: 1em; background-color: #f8d6da; border: 1px solid #f5c6cb\">' +\n",
       "                '<p><strong>WebIO not detected.</strong></p>' +\n",
       "                '<p>Please read ' +\n",
       "                '<a href=\"https://juliagizmos.github.io/WebIO.jl/latest/troubleshooting/not-detected/\" target=\"_blank\">the troubleshooting guide</a> ' +\n",
       "                'for more information on how to resolve this issue.</p>' +\n",
       "                '<p><a href=\"https://juliagizmos.github.io/WebIO.jl/latest/troubleshooting/not-detected/\" target=\"_blank\">https://juliagizmos.github.io/WebIO.jl/latest/troubleshooting/not-detected/</a></p>' +\n",
       "                '</div>'\n",
       "            );\n",
       "    }\n",
       "    </script>\n",
       "</div>\n"
      ],
      "text/plain": [
       "WebIO.Scope(WebIO.Node{WebIO.DOM}(WebIO.DOM(:html, :div), Any[], Dict{Symbol, Any}(:id => \"940fac71-1fb0-4360-9522-024b26b891c6\")), Dict{String, Tuple{Observables.AbstractObservable, Union{Nothing, Bool}}}(\"wires\" => (Observable{Dict{String, Any}} with 0 listeners. Value:\n",
       "Dict{String, Any}(), nothing)), Set{String}(), nothing, WebIO.Asset[WebIO.Asset(\"js\", \"wires\", \"/home/o/g/Semagrams.jl/src/../javascript/dist/app.bundle.js\")], Dict{Any, Any}(), WebIO.ConnectionPool(Channel{Any}(32), Set{WebIO.AbstractConnection}(), Condition(Base.InvasiveLinkedList{Task}(Task (runnable) @0x00007fe96f589cf0, Task (runnable) @0x00007fe96f589cf0), Base.AlwaysLockedST(1))), WebIO.JSString[WebIO.JSString(\"(function (){var wires=System.registry.get(System.resolveSync(\\\"wires\\\")); return setTimeout((function (){return wires.main({\\\"box_types\\\":{\\\"Box\\\":{\\\"weights\\\":[],\\\"shape\\\":\\\"<circle r=\\\\\\\"40\\\\\\\"></circle>\\\",\\\"label\\\":\\\"Box\\\"}},\\\"wire_types\\\":{\\\"Wire\\\":{\\\"weights\\\":[],\\\"src\\\":[\\\"AttachPort\\\",\\\"Port\\\"],\\\"src_map\\\":\\\"src\\\",\\\"tgt\\\":[\\\"AttachPort\\\",\\\"Port\\\"],\\\"tgt_map\\\":\\\"tgt\\\",\\\"style\\\":\\\"DefaultWire\\\"}},\\\"port_types\\\":{\\\"Port\\\":{\\\"weights\\\":[],\\\"box\\\":\\\"Box\\\",\\\"box_map\\\":\\\"box\\\",\\\"style\\\":\\\"Circular\\\"}}},\\\"940fac71-1fb0-4360-9522-024b26b891c6\\\",(function (x){return WebIO.setval({\\\"name\\\":\\\"wires\\\",\\\"scope\\\":\\\"9201969464126831507\\\",\\\"id\\\":\\\"4326566255799838710\\\",\\\"type\\\":\\\"observable\\\"},x)}))}),20)})\")])"
      ]
     },
     "execution_count": 36,
     "metadata": {
      "@webio": {
       "kernelId": "b243ec78-57f8-46e9-ab69-54eff421af6f"
      }
     },
     "output_type": "execute_result"
    }
   ],
   "source": [
    "cpg = Semagrams.ControlSemagram{CPG}(CPGSema)\n",
    "cpg.scope"
   ]
  },
  {
   "cell_type": "code",
   "execution_count": null,
   "id": "vietnamese-testimony",
   "metadata": {},
   "outputs": [],
   "source": [
    "enzyme_acset = Semagrams.get_acset(enzyme)"
   ]
  },
  {
   "cell_type": "code",
   "execution_count": 1,
   "id": "elementary-flooring",
   "metadata": {},
   "outputs": [
    {
     "ename": "LoadError",
     "evalue": "UndefVarError: vectorfield not defined",
     "output_type": "error",
     "traceback": [
      "UndefVarError: vectorfield not defined",
      "",
      "Stacktrace:",
      " [1] top-level scope",
      "   @ In[1]:3",
      " [2] eval",
      "   @ ./boot.jl:360 [inlined]",
      " [3] include_string(mapexpr::typeof(REPL.softscope), mod::Module, code::String, filename::String)",
      "   @ Base ./loading.jl:1094"
     ]
    }
   ],
   "source": [
    "u0 = [100.,0.,10.]\n",
    "p = [0.01]\n",
    "prob = ODEProblem(vectorfield(enzyme_acset),u0,(0.,100.),p)\n",
    "sol = solve(prob,Tsit5(),abstol=1e-8);\n",
    "plot(sol)"
   ]
  },
  {
   "cell_type": "code",
   "execution_count": null,
   "id": "asian-cement",
   "metadata": {},
   "outputs": [],
   "source": []
  }
 ],
 "metadata": {
  "@webio": {
   "lastCommId": "2024e689-e9e7-468b-8d25-d13df0480d82",
   "lastKernelId": "91ca0bd5-b00a-44c7-b0f2-b8e6a73b6a23"
  },
  "kernelspec": {
   "display_name": "Julia 1.6.1",
   "language": "julia",
   "name": "julia-1.6"
  },
  "language_info": {
   "file_extension": ".jl",
   "mimetype": "application/julia",
   "name": "julia",
   "version": "1.6.1"
  }
 },
 "nbformat": 4,
 "nbformat_minor": 5
}
