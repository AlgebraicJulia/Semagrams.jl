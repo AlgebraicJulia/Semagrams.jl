{
 "cells": [
  {
   "cell_type": "code",
   "execution_count": 1,
   "id": "competent-warrant",
   "metadata": {},
   "outputs": [],
   "source": [
    "using Revise"
   ]
  },
  {
   "cell_type": "code",
   "execution_count": 2,
   "id": "proof-execution",
   "metadata": {},
   "outputs": [
    {
     "name": "stdout",
     "output_type": "stream",
     "text": [
      "/home/o/g/WireViz\n"
     ]
    }
   ],
   "source": [
    ";cd .."
   ]
  },
  {
   "cell_type": "code",
   "execution_count": 3,
   "id": "cardiac-facing",
   "metadata": {},
   "outputs": [
    {
     "name": "stderr",
     "output_type": "stream",
     "text": [
      "\u001b[32m\u001b[1m  Activating\u001b[22m\u001b[39m environment at `~/g/WireViz/Project.toml`\n"
     ]
    }
   ],
   "source": [
    "]activate ."
   ]
  },
  {
   "cell_type": "code",
   "execution_count": 23,
   "id": "norwegian-communication",
   "metadata": {},
   "outputs": [
    {
     "name": "stderr",
     "output_type": "stream",
     "text": [
      "┌ Info: Precompiling WireViz [13530c0b-fe5b-42fd-9b7e-79367be16329]\n",
      "└ @ Base loading.jl:1317\n"
     ]
    },
    {
     "data": {
      "text/html": [
       "<script>\n",
       "// Immediately-invoked-function-expression to avoid global variables.\n",
       "(function() {\n",
       "    var warning_div = document.getElementById(\"webio-warning-4936545654667706388\");\n",
       "    var hide = function () {\n",
       "        var script = document.getElementById(\"webio-setup-2501835765225751528\");\n",
       "        var parent = script && script.parentElement;\n",
       "        var grandparent = parent && parent.parentElement;\n",
       "        if (grandparent) {\n",
       "            grandparent.style.display = \"none\";\n",
       "        }\n",
       "        warning_div.style.display = \"none\";\n",
       "    };\n",
       "    if (typeof Jupyter !== \"undefined\") {\n",
       "        console.log(\"WebIO detected Jupyter notebook environment.\");\n",
       "        // Jupyter notebook.\n",
       "        var extensions = (\n",
       "            Jupyter\n",
       "            && Jupyter.notebook.config.data\n",
       "            && Jupyter.notebook.config.data.load_extensions\n",
       "        );\n",
       "        if (extensions && extensions[\"webio-jupyter-notebook\"]) {\n",
       "            // Extension already loaded.\n",
       "            console.log(\"Jupyter WebIO nbextension detected; not loading ad-hoc.\");\n",
       "            hide();\n",
       "            return;\n",
       "        }\n",
       "    } else if (window.location.pathname.includes(\"/lab\")) {\n",
       "        // Guessing JupyterLa\n",
       "        console.log(\"Jupyter Lab detected; make sure the @webio/jupyter-lab-provider labextension is installed.\");\n",
       "        hide();\n",
       "        return;\n",
       "    }\n",
       "})();\n",
       "\n",
       "</script>\n",
       "<p\n",
       "    id=\"webio-warning-4936545654667706388\"\n",
       "    class=\"output_text output_stderr\"\n",
       "    style=\"padding: 1em; font-weight: bold;\"\n",
       ">\n",
       "    Unable to load WebIO. Please make sure WebIO works for your Jupyter client.\n",
       "    For troubleshooting, please see <a href=\"https://juliagizmos.github.io/WebIO.jl/latest/providers/ijulia/\">\n",
       "    the WebIO/IJulia documentation</a>.\n",
       "    <!-- TODO: link to installation docs. -->\n",
       "</p>\n"
      ],
      "text/plain": [
       "HTML{String}(\"<script>\\n// Immediately-invoked-function-expression to avoid global variables.\\n(function() {\\n    var warning_div = document.getElementById(\\\"webio-warning-4936545654667706388\\\");\\n    var hide = function () {\\n        var script = document.getElementById(\\\"webio-setup-2501835765225751528\\\");\\n        var parent = script && script.parentElement;\\n        var grandparent = parent && parent.parentElement;\\n        if (grandparent) {\\n            grandparent.style.display = \\\"none\\\";\\n        }\\n        warning_div.style.display = \\\"none\\\";\\n    };\\n    if (typeof Jupyter !== \\\"undefined\\\") {\\n        console.log(\\\"WebIO detected Jupyter notebook environment.\\\");\\n        // Jupyter notebook.\\n        var extensions = (\\n            Jupyter\\n            && Jupyter.notebook.config.data\\n            && Jupyter.notebook.config.data.load_extensions\\n        );\\n        if (extensions && extensions[\\\"webio-jupyter-notebook\\\"]) {\\n            // Extension already loaded.\\n            console.log(\\\"Jupyter WebIO nbextension detected; not loading ad-hoc.\\\");\\n            hide();\\n            return;\\n        }\\n    } else if (window.location.pathname.includes(\\\"/lab\\\")) {\\n        // Guessing JupyterLa\\n        console.log(\\\"Jupyter Lab detected; make sure the @webio/jupyter-lab-provider labextension is installed.\\\");\\n        hide();\\n        return;\\n    }\\n})();\\n\\n</script>\\n<p\\n    id=\\\"webio-warning-4936545654667706388\\\"\\n    class=\\\"output_text output_stderr\\\"\\n    style=\\\"padding: 1em; font-weight: bold;\\\"\\n>\\n    Unable to load WebIO. Please make sure WebIO works for your Jupyter client.\\n    For troubleshooting, please see <a href=\\\"https://juliagizmos.github.io/WebIO.jl/latest/providers/ijulia/\\\">\\n    the WebIO/IJulia documentation</a>.\\n    <!-- TODO: link to installation docs. -->\\n</p>\\n\")"
      ]
     },
     "metadata": {},
     "output_type": "display_data"
    }
   ],
   "source": [
    "using WireViz"
   ]
  },
  {
   "cell_type": "code",
   "execution_count": 24,
   "id": "blessed-cricket",
   "metadata": {},
   "outputs": [
    {
     "ename": "LoadError",
     "evalue": "MethodError: no method matching BoxProperties(::Vector{Any}, ::String)\n\u001b[0mClosest candidates are:\n\u001b[0m  BoxProperties(::Any, ::Any, \u001b[91m::Any\u001b[39m) at /home/o/g/WireViz/src/WireViz.jl:30\n\u001b[0m  BoxProperties(\u001b[91m::Vector{Symbol}\u001b[39m, ::String, \u001b[91m::String\u001b[39m) at /home/o/g/WireViz/src/WireViz.jl:30",
     "output_type": "error",
     "traceback": [
      "MethodError: no method matching BoxProperties(::Vector{Any}, ::String)\n\u001b[0mClosest candidates are:\n\u001b[0m  BoxProperties(::Any, ::Any, \u001b[91m::Any\u001b[39m) at /home/o/g/WireViz/src/WireViz.jl:30\n\u001b[0m  BoxProperties(\u001b[91m::Vector{Symbol}\u001b[39m, ::String, \u001b[91m::String\u001b[39m) at /home/o/g/WireViz/src/WireViz.jl:30",
      "",
      "Stacktrace:",
      " [1] top-level scope",
      "   @ In[24]:1",
      " [2] eval",
      "   @ ./boot.jl:360 [inlined]",
      " [3] include_string(mapexpr::typeof(REPL.softscope), mod::Module, code::String, filename::String)",
      "   @ Base ./loading.jl:1094"
     ]
    }
   ],
   "source": [
    "DirectedPortGraphSchema = WireVizSchema(\n",
    "    Dict(:box => BoxProperties([],\"Square\")),\n",
    "    Dict(\n",
    "        :input => PortProperties([],:box,:input_box,\"Input\"),\n",
    "        :output => PortProperties([],:box,:output_box,\"Output\")\n",
    "    ),\n",
    "    Dict(\n",
    "        :wire => WireProperties(\n",
    "            [], \n",
    "            (\"AttachPort\",:output), :src,\n",
    "            (\"AttachPort\",:input), :tgt,\n",
    "            \"DefaultWire\"\n",
    "        )\n",
    "    )\n",
    ");"
   ]
  },
  {
   "cell_type": "code",
   "execution_count": 6,
   "id": "dominican-tennessee",
   "metadata": {},
   "outputs": [],
   "source": [
    "using Catlab.Present, Catlab.Theories, Catlab.CSetDataStructures"
   ]
  },
  {
   "cell_type": "code",
   "execution_count": 7,
   "id": "included-sunday",
   "metadata": {},
   "outputs": [
    {
     "data": {
      "text/plain": [
       "CSet{Catlab.Theories.CatDesc{(:box, :input, :output, :wire), (:input_box, :output_box, :src, :tgt), (2, 3, 4, 4), (1, 1, 3, 2)}, (), (), Tables, Indices} where {Tables<:NamedTuple, Indices<:NamedTuple} (alias for Catlab.CSetDataStructures.AttributedCSet{Catlab.Theories.CatDesc{(:box, :input, :output, :wire), (:input_box, :output_box, :src, :tgt), (2, 3, 4, 4), (1, 1, 3, 2)}, Catlab.Theories.AttrDesc{Catlab.Theories.CatDesc{(:box, :input, :output, :wire), (:input_box, :output_box, :src, :tgt), (2, 3, 4, 4), (1, 1, 3, 2)}, (), (), (), ()}, Tuple{}, (), (), Tables, Indices} where {Tables<:NamedTuple, Indices<:NamedTuple})"
      ]
     },
     "execution_count": 7,
     "metadata": {},
     "output_type": "execute_result"
    }
   ],
   "source": [
    "@present TheoryDirectedPortGraph(FreeSchema) begin\n",
    "    box::Ob\n",
    "    input::Ob\n",
    "    output::Ob\n",
    "    wire::Ob\n",
    "    input_box::Hom(input,box)\n",
    "    output_box::Hom(output,box)\n",
    "    src::Hom(wire,output)\n",
    "    tgt::Hom(wire,input)\n",
    "end\n",
    "\n",
    "DirectedPortGraph = CSetType(TheoryDirectedPortGraph)"
   ]
  },
  {
   "cell_type": "code",
   "execution_count": 8,
   "id": "dramatic-cedar",
   "metadata": {},
   "outputs": [
    {
     "ename": "LoadError",
     "evalue": "UndefVarError: Wires not defined",
     "output_type": "error",
     "traceback": [
      "UndefVarError: Wires not defined",
      "",
      "Stacktrace:",
      " [1] top-level scope",
      "   @ In[8]:1",
      " [2] eval",
      "   @ ./boot.jl:360 [inlined]",
      " [3] include_string(mapexpr::typeof(REPL.softscope), mod::Module, code::String, filename::String)",
      "   @ Base ./loading.jl:1094"
     ]
    }
   ],
   "source": [
    "cw = Wires.ControlWires{DirectedPortGraph}(DirectedPortGraphSchema);"
   ]
  },
  {
   "cell_type": "code",
   "execution_count": 9,
   "id": "dominant-cycle",
   "metadata": {},
   "outputs": [
    {
     "ename": "LoadError",
     "evalue": "UndefVarError: cw not defined",
     "output_type": "error",
     "traceback": [
      "UndefVarError: cw not defined",
      "",
      "Stacktrace:",
      " [1] top-level scope",
      "   @ In[9]:1",
      " [2] eval",
      "   @ ./boot.jl:360 [inlined]",
      " [3] include_string(mapexpr::typeof(REPL.softscope), mod::Module, code::String, filename::String)",
      "   @ Base ./loading.jl:1094"
     ]
    }
   ],
   "source": [
    "cw.scope"
   ]
  },
  {
   "cell_type": "code",
   "execution_count": 10,
   "id": "worthy-german",
   "metadata": {},
   "outputs": [
    {
     "ename": "LoadError",
     "evalue": "UndefVarError: Wires not defined",
     "output_type": "error",
     "traceback": [
      "UndefVarError: Wires not defined",
      "",
      "Stacktrace:",
      " [1] top-level scope",
      "   @ In[10]:1",
      " [2] eval",
      "   @ ./boot.jl:360 [inlined]",
      " [3] include_string(mapexpr::typeof(REPL.softscope), mod::Module, code::String, filename::String)",
      "   @ Base ./loading.jl:1094"
     ]
    }
   ],
   "source": [
    "Wires.get_acset(cw)"
   ]
  },
  {
   "cell_type": "code",
   "execution_count": 11,
   "id": "round-albuquerque",
   "metadata": {},
   "outputs": [
    {
     "ename": "LoadError",
     "evalue": "UndefVarError: BoxProperties not defined",
     "output_type": "error",
     "traceback": [
      "UndefVarError: BoxProperties not defined",
      "",
      "Stacktrace:",
      " [1] top-level scope",
      "   @ In[11]:1",
      " [2] eval",
      "   @ ./boot.jl:360 [inlined]",
      " [3] include_string(mapexpr::typeof(REPL.softscope), mod::Module, code::String, filename::String)",
      "   @ Base ./loading.jl:1094"
     ]
    }
   ],
   "source": [
    "PetriNetSchema = WiresSchema(\n",
    "    Dict(\n",
    "        :species => BoxProperties([],\"Circle\"),\n",
    "        :transition => BoxProperties([], \"Square\")\n",
    "        ),\n",
    "    Dict(\n",
    "    ),\n",
    "    Dict(\n",
    "        :input => WireProperties(\n",
    "            [],\n",
    "            (\"AttachBox\",:species), :is,\n",
    "            (\"AttachBox\",:transition), :it,\n",
    "            \"DefaultWire\"\n",
    "        ),\n",
    "        :output => WireProperties(\n",
    "            [], \n",
    "            (\"AttachBox\",:transition), :ot,\n",
    "            (\"AttachBox\",:species), :os,\n",
    "            \"DefaultWire\"\n",
    "        )\n",
    "    )\n",
    ");"
   ]
  },
  {
   "cell_type": "code",
   "execution_count": 12,
   "id": "usual-suggestion",
   "metadata": {},
   "outputs": [
    {
     "data": {
      "text/plain": [
       "CSet{Catlab.Theories.CatDesc{(:species, :transition, :input, :output), (:is, :it, :ot, :os), (3, 3, 4, 4), (1, 2, 2, 1)}, (), (), Tables, Indices} where {Tables<:NamedTuple, Indices<:NamedTuple} (alias for Catlab.CSetDataStructures.AttributedCSet{Catlab.Theories.CatDesc{(:species, :transition, :input, :output), (:is, :it, :ot, :os), (3, 3, 4, 4), (1, 2, 2, 1)}, Catlab.Theories.AttrDesc{Catlab.Theories.CatDesc{(:species, :transition, :input, :output), (:is, :it, :ot, :os), (3, 3, 4, 4), (1, 2, 2, 1)}, (), (), (), ()}, Tuple{}, (), (), Tables, Indices} where {Tables<:NamedTuple, Indices<:NamedTuple})"
      ]
     },
     "execution_count": 12,
     "metadata": {},
     "output_type": "execute_result"
    }
   ],
   "source": [
    "@present TheoryPetriNet(FreeSchema) begin\n",
    "    species::Ob\n",
    "    transition::Ob\n",
    "    input::Ob\n",
    "    output::Ob\n",
    "    is::Hom(input,species)\n",
    "    it::Hom(input,transition)\n",
    "    ot::Hom(output,transition)\n",
    "    os::Hom(output,species)\n",
    "end\n",
    "\n",
    "PetriNet = CSetType(TheoryPetriNet)"
   ]
  },
  {
   "cell_type": "code",
   "execution_count": 13,
   "id": "plastic-messenger",
   "metadata": {},
   "outputs": [
    {
     "ename": "LoadError",
     "evalue": "UndefVarError: Wires not defined",
     "output_type": "error",
     "traceback": [
      "UndefVarError: Wires not defined",
      "",
      "Stacktrace:",
      " [1] top-level scope",
      "   @ In[13]:1",
      " [2] eval",
      "   @ ./boot.jl:360 [inlined]",
      " [3] include_string(mapexpr::typeof(REPL.softscope), mod::Module, code::String, filename::String)",
      "   @ Base ./loading.jl:1094"
     ]
    }
   ],
   "source": [
    "cw2 = Wires.ControlWires{PetriNet}(PetriNetSchema);"
   ]
  },
  {
   "cell_type": "code",
   "execution_count": 14,
   "id": "stuffed-snake",
   "metadata": {},
   "outputs": [
    {
     "ename": "LoadError",
     "evalue": "UndefVarError: cw2 not defined",
     "output_type": "error",
     "traceback": [
      "UndefVarError: cw2 not defined",
      "",
      "Stacktrace:",
      " [1] top-level scope",
      "   @ In[14]:1",
      " [2] eval",
      "   @ ./boot.jl:360 [inlined]",
      " [3] include_string(mapexpr::typeof(REPL.softscope), mod::Module, code::String, filename::String)",
      "   @ Base ./loading.jl:1094"
     ]
    }
   ],
   "source": [
    "cw2.scope"
   ]
  },
  {
   "cell_type": "code",
   "execution_count": 15,
   "id": "cubic-climate",
   "metadata": {},
   "outputs": [
    {
     "ename": "LoadError",
     "evalue": "UndefVarError: Wires not defined",
     "output_type": "error",
     "traceback": [
      "UndefVarError: Wires not defined",
      "",
      "Stacktrace:",
      " [1] top-level scope",
      "   @ In[15]:1",
      " [2] eval",
      "   @ ./boot.jl:360 [inlined]",
      " [3] include_string(mapexpr::typeof(REPL.softscope), mod::Module, code::String, filename::String)",
      "   @ Base ./loading.jl:1094"
     ]
    }
   ],
   "source": [
    "Wires.get_acset(cw2)"
   ]
  },
  {
   "cell_type": "code",
   "execution_count": 16,
   "id": "manual-arctic",
   "metadata": {},
   "outputs": [
    {
     "data": {
      "text/latex": [
       "$\\mathrm{input}$"
      ],
      "text/plain": [
       "input"
      ]
     },
     "execution_count": 16,
     "metadata": {},
     "output_type": "execute_result"
    }
   ],
   "source": [
    "dom(TheoryPetriNet[:is])"
   ]
  },
  {
   "cell_type": "code",
   "execution_count": 25,
   "id": "computational-warrant",
   "metadata": {},
   "outputs": [
    {
     "ename": "LoadError",
     "evalue": "MethodError: \u001b[0mCannot `convert` an object of type \u001b[92mString\u001b[39m\u001b[0m to an object of type \u001b[91mSVGNode\u001b[39m\n\u001b[0mClosest candidates are:\n\u001b[0m  convert(::Type{T}, \u001b[91m::T\u001b[39m) where T at essentials.jl:205",
     "output_type": "error",
     "traceback": [
      "MethodError: \u001b[0mCannot `convert` an object of type \u001b[92mString\u001b[39m\u001b[0m to an object of type \u001b[91mSVGNode\u001b[39m\n\u001b[0mClosest candidates are:\n\u001b[0m  convert(::Type{T}, \u001b[91m::T\u001b[39m) where T at essentials.jl:205",
      "",
      "Stacktrace:",
      " [1] WireViz.BoxDesc(name::Symbol, shape::String)",
      "   @ WireViz ~/g/WireViz/src/WireViz.jl:67",
      " [2] top-level scope",
      "   @ In[25]:1",
      " [3] eval",
      "   @ ./boot.jl:360 [inlined]",
      " [4] include_string(mapexpr::typeof(REPL.softscope), mod::Module, code::String, filename::String)",
      "   @ Base ./loading.jl:1094"
     ]
    }
   ],
   "source": [
    "@wirevizschema PetriWireViz(TheoryPetriNet) begin\n",
    "    @box species \"Circle\"\n",
    "    @box transition \"Square\"\n",
    "    @wire input(is,it) \"DefaultWire\"\n",
    "    @wire output(ot,os) \"DefaultWire\"\n",
    "end"
   ]
  },
  {
   "cell_type": "code",
   "execution_count": 18,
   "id": "chronic-affairs",
   "metadata": {},
   "outputs": [],
   "source": [
    "Revise.retry()"
   ]
  },
  {
   "cell_type": "code",
   "execution_count": 19,
   "id": "accepting-africa",
   "metadata": {},
   "outputs": [],
   "source": [
    "using MLStyle"
   ]
  },
  {
   "cell_type": "code",
   "execution_count": 20,
   "id": "broke-locator",
   "metadata": {},
   "outputs": [
    {
     "data": {
      "text/plain": [
       ":(#= In[20]:1 =# @box species \"Square\")"
      ]
     },
     "execution_count": 20,
     "metadata": {},
     "output_type": "execute_result"
    }
   ],
   "source": [
    "expr = :(@box species \"Square\")"
   ]
  },
  {
   "cell_type": "code",
   "execution_count": 21,
   "id": "nearby-chemical",
   "metadata": {},
   "outputs": [
    {
     "name": "stdout",
     "output_type": "stream",
     "text": [
      "Expr\n",
      "  head: Symbol macrocall\n",
      "  args: Array{Any}((4,))\n",
      "    1: Symbol @box\n",
      "    2: LineNumberNode\n",
      "      line: Int64 1\n",
      "      file: Symbol In[20]\n",
      "    3: Symbol species\n",
      "    4: String \"Square\"\n"
     ]
    }
   ],
   "source": [
    "dump(expr)"
   ]
  },
  {
   "cell_type": "code",
   "execution_count": 22,
   "id": "political-scout",
   "metadata": {},
   "outputs": [
    {
     "data": {
      "text/plain": [
       "(:species, \"Square\")"
      ]
     },
     "execution_count": 22,
     "metadata": {},
     "output_type": "execute_result"
    }
   ],
   "source": [
    "@match expr begin\n",
    "    Expr(:macrocall, mname,_,name,style) && if mname == Symbol(\"@box\") end =>(name,style)\n",
    "    _ => error(\"no match\")\n",
    "end"
   ]
  },
  {
   "cell_type": "code",
   "execution_count": null,
   "id": "seasonal-element",
   "metadata": {},
   "outputs": [],
   "source": []
  }
 ],
 "metadata": {
  "@webio": {
   "lastCommId": "2030cc3f-076b-4c2a-bcf6-9b0bf088aa44",
   "lastKernelId": "b848d12e-4986-4017-a8fa-f67060b2798a"
  },
  "kernelspec": {
   "display_name": "Julia 1.6.0",
   "language": "julia",
   "name": "julia-1.6"
  },
  "language_info": {
   "file_extension": ".jl",
   "mimetype": "application/julia",
   "name": "julia",
   "version": "1.6.0"
  }
 },
 "nbformat": 4,
 "nbformat_minor": 5
}
