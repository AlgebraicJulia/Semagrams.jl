{
 "cells": [
  {
   "cell_type": "code",
   "execution_count": 1,
   "id": "prepared-gather",
   "metadata": {},
   "outputs": [],
   "source": [
    "using Revise"
   ]
  },
  {
   "cell_type": "code",
   "execution_count": 2,
   "id": "whole-likelihood",
   "metadata": {},
   "outputs": [
    {
     "name": "stdout",
     "output_type": "stream",
     "text": [
      "/home/o/g/wires\n"
     ]
    }
   ],
   "source": [
    ";cd .."
   ]
  },
  {
   "cell_type": "code",
   "execution_count": 3,
   "id": "greek-proportion",
   "metadata": {},
   "outputs": [
    {
     "name": "stderr",
     "output_type": "stream",
     "text": [
      "\u001b[32m\u001b[1m  Activating\u001b[22m\u001b[39m environment at `~/g/wires/Project.toml`\n"
     ]
    }
   ],
   "source": [
    "]activate ."
   ]
  },
  {
   "cell_type": "code",
   "execution_count": 4,
   "id": "consecutive-sphere",
   "metadata": {},
   "outputs": [
    {
     "data": {
      "text/html": [
       "<script>\n",
       "// Immediately-invoked-function-expression to avoid global variables.\n",
       "(function() {\n",
       "    var warning_div = document.getElementById(\"webio-warning-13187260679924413729\");\n",
       "    var hide = function () {\n",
       "        var script = document.getElementById(\"webio-setup-16831281507574282306\");\n",
       "        var parent = script && script.parentElement;\n",
       "        var grandparent = parent && parent.parentElement;\n",
       "        if (grandparent) {\n",
       "            grandparent.style.display = \"none\";\n",
       "        }\n",
       "        warning_div.style.display = \"none\";\n",
       "    };\n",
       "    if (typeof Jupyter !== \"undefined\") {\n",
       "        console.log(\"WebIO detected Jupyter notebook environment.\");\n",
       "        // Jupyter notebook.\n",
       "        var extensions = (\n",
       "            Jupyter\n",
       "            && Jupyter.notebook.config.data\n",
       "            && Jupyter.notebook.config.data.load_extensions\n",
       "        );\n",
       "        if (extensions && extensions[\"webio-jupyter-notebook\"]) {\n",
       "            // Extension already loaded.\n",
       "            console.log(\"Jupyter WebIO nbextension detected; not loading ad-hoc.\");\n",
       "            hide();\n",
       "            return;\n",
       "        }\n",
       "    } else if (window.location.pathname.includes(\"/lab\")) {\n",
       "        // Guessing JupyterLa\n",
       "        console.log(\"Jupyter Lab detected; make sure the @webio/jupyter-lab-provider labextension is installed.\");\n",
       "        hide();\n",
       "        return;\n",
       "    }\n",
       "})();\n",
       "\n",
       "</script>\n",
       "<p\n",
       "    id=\"webio-warning-13187260679924413729\"\n",
       "    class=\"output_text output_stderr\"\n",
       "    style=\"padding: 1em; font-weight: bold;\"\n",
       ">\n",
       "    Unable to load WebIO. Please make sure WebIO works for your Jupyter client.\n",
       "    For troubleshooting, please see <a href=\"https://juliagizmos.github.io/WebIO.jl/latest/providers/ijulia/\">\n",
       "    the WebIO/IJulia documentation</a>.\n",
       "    <!-- TODO: link to installation docs. -->\n",
       "</p>\n"
      ],
      "text/plain": [
       "HTML{String}(\"<script>\\n// Immediately-invoked-function-expression to avoid global variables.\\n(function() {\\n    var warning_div = document.getElementById(\\\"webio-warning-13187260679924413729\\\");\\n    var hide = function () {\\n        var script = document.getElementById(\\\"webio-setup-16831281507574282306\\\");\\n        var parent = script && script.parentElement;\\n        var grandparent = parent && parent.parentElement;\\n        if (grandparent) {\\n            grandparent.style.display = \\\"none\\\";\\n        }\\n        warning_div.style.display = \\\"none\\\";\\n    };\\n    if (typeof Jupyter !== \\\"undefined\\\") {\\n        console.log(\\\"WebIO detected Jupyter notebook environment.\\\");\\n        // Jupyter notebook.\\n        var extensions = (\\n            Jupyter\\n            && Jupyter.notebook.config.data\\n            && Jupyter.notebook.config.data.load_extensions\\n        );\\n        if (extensions && extensions[\\\"webio-jupyter-notebook\\\"]) {\\n            // Extension already loaded.\\n            console.log(\\\"Jupyter WebIO nbextension detected; not loading ad-hoc.\\\");\\n            hide();\\n            return;\\n        }\\n    } else if (window.location.pathname.includes(\\\"/lab\\\")) {\\n        // Guessing JupyterLa\\n        console.log(\\\"Jupyter Lab detected; make sure the @webio/jupyter-lab-provider labextension is installed.\\\");\\n        hide();\\n        return;\\n    }\\n})();\\n\\n</script>\\n<p\\n    id=\\\"webio-warning-13187260679924413729\\\"\\n    class=\\\"output_text output_stderr\\\"\\n    style=\\\"padding: 1em; font-weight: bold;\\\"\\n>\\n    Unable to load WebIO. Please make sure WebIO works for your Jupyter client.\\n    For troubleshooting, please see <a href=\\\"https://juliagizmos.github.io/WebIO.jl/latest/providers/ijulia/\\\">\\n    the WebIO/IJulia documentation</a>.\\n    <!-- TODO: link to installation docs. -->\\n</p>\\n\")"
      ]
     },
     "metadata": {},
     "output_type": "display_data"
    }
   ],
   "source": [
    "using Wires"
   ]
  },
  {
   "cell_type": "code",
   "execution_count": 5,
   "id": "ambient-hotel",
   "metadata": {},
   "outputs": [],
   "source": [
    "DirectedPortGraphSchema = WiresSchema(\n",
    "    Dict(:box => BoxProperties([],\"Square\")),\n",
    "    Dict(\n",
    "        :input => PortProperties([],:box,:input_box,\"Input\"),\n",
    "        :output => PortProperties([],:box,:output_box,\"Output\")\n",
    "    ),\n",
    "    Dict(\n",
    "        :wire => WireProperties(\n",
    "            [], \n",
    "            (\"AttachPort\",:output), :src,\n",
    "            (\"AttachPort\",:input), :tgt,\n",
    "            \"DefaultWire\"\n",
    "        )\n",
    "    )\n",
    ");"
   ]
  },
  {
   "cell_type": "code",
   "execution_count": 6,
   "id": "qualified-auction",
   "metadata": {},
   "outputs": [],
   "source": [
    "using Catlab.Present, Catlab.Theories, Catlab.CSetDataStructures"
   ]
  },
  {
   "cell_type": "code",
   "execution_count": 7,
   "id": "middle-scott",
   "metadata": {},
   "outputs": [
    {
     "data": {
      "text/plain": [
       "CSet{Catlab.Theories.CatDesc{(:box, :input, :output, :wire), (:input_box, :output_box, :src, :tgt), (2, 3, 4, 4), (1, 1, 3, 2)}, (), (), Tables, Indices} where {Tables<:NamedTuple, Indices<:NamedTuple} (alias for Catlab.CSetDataStructures.AttributedCSet{Catlab.Theories.CatDesc{(:box, :input, :output, :wire), (:input_box, :output_box, :src, :tgt), (2, 3, 4, 4), (1, 1, 3, 2)}, Catlab.Theories.AttrDesc{Catlab.Theories.CatDesc{(:box, :input, :output, :wire), (:input_box, :output_box, :src, :tgt), (2, 3, 4, 4), (1, 1, 3, 2)}, (), (), (), ()}, Tuple{}, (), (), Tables, Indices} where {Tables<:NamedTuple, Indices<:NamedTuple})"
      ]
     },
     "execution_count": 7,
     "metadata": {},
     "output_type": "execute_result"
    }
   ],
   "source": [
    "@present TheoryDirectedPortGraph(FreeSchema) begin\n",
    "    box::Ob\n",
    "    input::Ob\n",
    "    output::Ob\n",
    "    wire::Ob\n",
    "    input_box::Hom(input,box)\n",
    "    output_box::Hom(output,box)\n",
    "    src::Hom(wire,output)\n",
    "    tgt::Hom(wire,input)\n",
    "end\n",
    "\n",
    "DirectedPortGraph = CSetType(TheoryDirectedPortGraph)"
   ]
  },
  {
   "cell_type": "code",
   "execution_count": 8,
   "id": "saved-italic",
   "metadata": {},
   "outputs": [],
   "source": [
    "cw = Wires.ControlWires{DirectedPortGraph}(DirectedPortGraphSchema);"
   ]
  },
  {
   "cell_type": "code",
   "execution_count": 9,
   "id": "heard-necklace",
   "metadata": {},
   "outputs": [
    {
     "data": {
      "application/vnd.webio.node+json": {
       "children": [
        {
         "children": [],
         "instanceArgs": {
          "namespace": "html",
          "tag": "div"
         },
         "nodeType": "DOM",
         "props": {
          "id": "f64ea26a-8326-463a-852e-4ff56573c9ee"
         },
         "type": "node"
        }
       ],
       "instanceArgs": {
        "handlers": {},
        "id": "17321549826009715680",
        "imports": {
         "data": [
          {
           "name": "wires",
           "type": "js",
           "url": "/assetserver/cf1d38a15b88f3cad4c224ba8444c2e596abfab7-app.bundle.js"
          }
         ],
         "type": "async_block"
        },
        "mount_callbacks": [
         "(function (){var wires=System.registry.get(System.resolveSync(\"wires\")); return setTimeout((function (){return wires.main({\"box_types\":{\"box\":{\"weights\":[],\"style\":\"Square\"}},\"wire_types\":{\"wire\":{\"weights\":[],\"src\":[\"AttachPort\",\"output\"],\"src_map\":\"src\",\"tgt\":[\"AttachPort\",\"input\"],\"tgt_map\":\"tgt\",\"style\":\"DefaultWire\"}},\"port_types\":{\"output\":{\"weights\":[],\"box\":\"box\",\"box_map\":\"output_box\",\"style\":\"Output\"},\"input\":{\"weights\":[],\"box\":\"box\",\"box_map\":\"input_box\",\"style\":\"Input\"}}},\"f64ea26a-8326-463a-852e-4ff56573c9ee\",(function (x){return WebIO.setval({\"name\":\"wires\",\"scope\":\"17321549826009715680\",\"id\":\"3416572129718202965\",\"type\":\"observable\"},x)}))}),5000)})"
        ],
        "observables": {
         "wires": {
          "id": "3416572129718202965",
          "sync": false,
          "value": {}
         }
        },
        "systemjs_options": null
       },
       "nodeType": "Scope",
       "props": {},
       "type": "node"
      },
      "text/html": [
       "<div\n",
       "    class=\"webio-mountpoint\"\n",
       "    data-webio-mountpoint=\"5892782939466588212\"\n",
       ">\n",
       "    <script>\n",
       "    if (window.require && require.defined && require.defined(\"nbextensions/webio-jupyter-notebook\")) {\n",
       "        console.log(\"Jupyter WebIO extension detected, not mounting.\");\n",
       "    } else if (window.WebIO) {\n",
       "        WebIO.mount(\n",
       "            document.querySelector('[data-webio-mountpoint=\"5892782939466588212\"]'),\n",
       "            {\"props\":{},\"nodeType\":\"Scope\",\"type\":\"node\",\"instanceArgs\":{\"imports\":{\"data\":[{\"name\":\"wires\",\"type\":\"js\",\"url\":\"\\/assetserver\\/cf1d38a15b88f3cad4c224ba8444c2e596abfab7-app.bundle.js\"}],\"type\":\"async_block\"},\"id\":\"17321549826009715680\",\"handlers\":{},\"systemjs_options\":null,\"mount_callbacks\":[\"(function (){var wires=System.registry.get(System.resolveSync(\\\"wires\\\")); return setTimeout((function (){return wires.main({\\\"box_types\\\":{\\\"box\\\":{\\\"weights\\\":[],\\\"style\\\":\\\"Square\\\"}},\\\"wire_types\\\":{\\\"wire\\\":{\\\"weights\\\":[],\\\"src\\\":[\\\"AttachPort\\\",\\\"output\\\"],\\\"src_map\\\":\\\"src\\\",\\\"tgt\\\":[\\\"AttachPort\\\",\\\"input\\\"],\\\"tgt_map\\\":\\\"tgt\\\",\\\"style\\\":\\\"DefaultWire\\\"}},\\\"port_types\\\":{\\\"output\\\":{\\\"weights\\\":[],\\\"box\\\":\\\"box\\\",\\\"box_map\\\":\\\"output_box\\\",\\\"style\\\":\\\"Output\\\"},\\\"input\\\":{\\\"weights\\\":[],\\\"box\\\":\\\"box\\\",\\\"box_map\\\":\\\"input_box\\\",\\\"style\\\":\\\"Input\\\"}}},\\\"f64ea26a-8326-463a-852e-4ff56573c9ee\\\",(function (x){return WebIO.setval({\\\"name\\\":\\\"wires\\\",\\\"scope\\\":\\\"17321549826009715680\\\",\\\"id\\\":\\\"3416572129718202965\\\",\\\"type\\\":\\\"observable\\\"},x)}))}),5000)})\"],\"observables\":{\"wires\":{\"sync\":false,\"id\":\"3416572129718202965\",\"value\":{}}}},\"children\":[{\"props\":{\"id\":\"f64ea26a-8326-463a-852e-4ff56573c9ee\"},\"nodeType\":\"DOM\",\"type\":\"node\",\"instanceArgs\":{\"namespace\":\"html\",\"tag\":\"div\"},\"children\":[]}]},\n",
       "            window,\n",
       "        );\n",
       "    } else {\n",
       "        document\n",
       "            .querySelector('[data-webio-mountpoint=\"5892782939466588212\"]')\n",
       "            .innerHTML = (\n",
       "                '<div style=\"padding: 1em; background-color: #f8d6da; border: 1px solid #f5c6cb\">' +\n",
       "                '<p><strong>WebIO not detected.</strong></p>' +\n",
       "                '<p>Please read ' +\n",
       "                '<a href=\"https://juliagizmos.github.io/WebIO.jl/latest/troubleshooting/not-detected/\" target=\"_blank\">the troubleshooting guide</a> ' +\n",
       "                'for more information on how to resolve this issue.</p>' +\n",
       "                '<p><a href=\"https://juliagizmos.github.io/WebIO.jl/latest/troubleshooting/not-detected/\" target=\"_blank\">https://juliagizmos.github.io/WebIO.jl/latest/troubleshooting/not-detected/</a></p>' +\n",
       "                '</div>'\n",
       "            );\n",
       "    }\n",
       "    </script>\n",
       "</div>\n"
      ],
      "text/plain": [
       "WebIO.Scope(WebIO.Node{WebIO.DOM}(WebIO.DOM(:html, :div), Any[], Dict{Symbol, Any}(:id => \"f64ea26a-8326-463a-852e-4ff56573c9ee\")), Dict{String, Tuple{Observables.AbstractObservable, Union{Nothing, Bool}}}(\"wires\" => (Observable{Dict{String, Any}} with 0 listeners. Value:\n",
       "Dict{String, Any}(), nothing)), Set{String}(), nothing, WebIO.Asset[WebIO.Asset(\"js\", \"wires\", \"/home/o/g/wires/src/../javascript/dist/app.bundle.js\")], Dict{Any, Any}(), WebIO.ConnectionPool(Channel{Any}(32), Set{WebIO.AbstractConnection}(), Condition(Base.InvasiveLinkedList{Task}(Task (runnable) @0x00007f83c702d270, Task (runnable) @0x00007f83c702d270), Base.AlwaysLockedST(1))), WebIO.JSString[WebIO.JSString(\"(function (){var wires=System.registry.get(System.resolveSync(\\\"wires\\\")); return setTimeout((function (){return wires.main({\\\"box_types\\\":{\\\"box\\\":{\\\"weights\\\":[],\\\"style\\\":\\\"Square\\\"}},\\\"wire_types\\\":{\\\"wire\\\":{\\\"weights\\\":[],\\\"src\\\":[\\\"AttachPort\\\",\\\"output\\\"],\\\"src_map\\\":\\\"src\\\",\\\"tgt\\\":[\\\"AttachPort\\\",\\\"input\\\"],\\\"tgt_map\\\":\\\"tgt\\\",\\\"style\\\":\\\"DefaultWire\\\"}},\\\"port_types\\\":{\\\"output\\\":{\\\"weights\\\":[],\\\"box\\\":\\\"box\\\",\\\"box_map\\\":\\\"output_box\\\",\\\"style\\\":\\\"Output\\\"},\\\"input\\\":{\\\"weights\\\":[],\\\"box\\\":\\\"box\\\",\\\"box_map\\\":\\\"input_box\\\",\\\"style\\\":\\\"Input\\\"}}},\\\"f64ea26a-8326-463a-852e-4ff56573c9ee\\\",(function (x){return WebIO.setval({\\\"name\\\":\\\"wires\\\",\\\"scope\\\":\\\"17321549826009715680\\\",\\\"id\\\":\\\"3416572129718202965\\\",\\\"type\\\":\\\"observable\\\"},x)}))}),5000)})\")])"
      ]
     },
     "execution_count": 9,
     "metadata": {
      "@webio": {
       "kernelId": "b848d12e-4986-4017-a8fa-f67060b2798a"
      }
     },
     "output_type": "execute_result"
    }
   ],
   "source": [
    "cw.scope"
   ]
  },
  {
   "cell_type": "code",
   "execution_count": 31,
   "id": "exciting-library",
   "metadata": {},
   "outputs": [
    {
     "data": {
      "text/html": [
       "<div class=\"c-set\">\n",
       "<span class=\"c-set-summary\">CSet with elements box = 1:4, input = 1:2, output = 1:2, wire = 1:3</span>\n",
       "<table>\n",
       "  <tr class = \"header headerLastRow\">\n",
       "    <th class = \"rowNumber\">input</th>\n",
       "    <th style = \"text-align: right;\">input_box</th>\n",
       "  </tr>\n",
       "  <tr>\n",
       "    <td class = \"rowNumber\">1</td>\n",
       "    <td style = \"text-align: right;\">2</td>\n",
       "  </tr>\n",
       "  <tr>\n",
       "    <td class = \"rowNumber\">2</td>\n",
       "    <td style = \"text-align: right;\">4</td>\n",
       "  </tr>\n",
       "</table>\n",
       "<table>\n",
       "  <tr class = \"header headerLastRow\">\n",
       "    <th class = \"rowNumber\">output</th>\n",
       "    <th style = \"text-align: right;\">output_box</th>\n",
       "  </tr>\n",
       "  <tr>\n",
       "    <td class = \"rowNumber\">1</td>\n",
       "    <td style = \"text-align: right;\">1</td>\n",
       "  </tr>\n",
       "  <tr>\n",
       "    <td class = \"rowNumber\">2</td>\n",
       "    <td style = \"text-align: right;\">3</td>\n",
       "  </tr>\n",
       "</table>\n",
       "<table>\n",
       "  <tr class = \"header headerLastRow\">\n",
       "    <th class = \"rowNumber\">wire</th>\n",
       "    <th style = \"text-align: right;\">src</th>\n",
       "    <th style = \"text-align: right;\">tgt</th>\n",
       "  </tr>\n",
       "  <tr>\n",
       "    <td class = \"rowNumber\">1</td>\n",
       "    <td style = \"text-align: right;\">1</td>\n",
       "    <td style = \"text-align: right;\">2</td>\n",
       "  </tr>\n",
       "  <tr>\n",
       "    <td class = \"rowNumber\">2</td>\n",
       "    <td style = \"text-align: right;\">1</td>\n",
       "    <td style = \"text-align: right;\">1</td>\n",
       "  </tr>\n",
       "  <tr>\n",
       "    <td class = \"rowNumber\">3</td>\n",
       "    <td style = \"text-align: right;\">2</td>\n",
       "    <td style = \"text-align: right;\">1</td>\n",
       "  </tr>\n",
       "</table>\n",
       "</div>\n"
      ],
      "text/plain": [
       "CSet with elements box = 1:4, input = 1:2, output = 1:2, wire = 1:3\n",
       "┌───────┬───────────┐\n",
       "│\u001b[1m input \u001b[0m│\u001b[1m input_box \u001b[0m│\n",
       "├───────┼───────────┤\n",
       "│     1 │         2 │\n",
       "│     2 │         4 │\n",
       "└───────┴───────────┘\n",
       "┌────────┬────────────┐\n",
       "│\u001b[1m output \u001b[0m│\u001b[1m output_box \u001b[0m│\n",
       "├────────┼────────────┤\n",
       "│      1 │          1 │\n",
       "│      2 │          3 │\n",
       "└────────┴────────────┘\n",
       "┌──────┬─────┬─────┐\n",
       "│\u001b[1m wire \u001b[0m│\u001b[1m src \u001b[0m│\u001b[1m tgt \u001b[0m│\n",
       "├──────┼─────┼─────┤\n",
       "│    1 │   1 │   2 │\n",
       "│    2 │   1 │   1 │\n",
       "│    3 │   2 │   1 │\n",
       "└──────┴─────┴─────┘\n"
      ]
     },
     "execution_count": 31,
     "metadata": {},
     "output_type": "execute_result"
    }
   ],
   "source": [
    "Wires.get_acset(cw)"
   ]
  },
  {
   "cell_type": "code",
   "execution_count": 23,
   "id": "cross-bowling",
   "metadata": {},
   "outputs": [],
   "source": [
    "PetriNetSchema = WiresSchema(\n",
    "    Dict(\n",
    "        :species => BoxProperties([],\"Circle\"),\n",
    "        :transition => BoxProperties([], \"Square\")\n",
    "        ),\n",
    "    Dict(\n",
    "    ),\n",
    "    Dict(\n",
    "        :input => WireProperties(\n",
    "            [],\n",
    "            (\"AttachBox\",:species), :is,\n",
    "            (\"AttachBox\",:transition), :it,\n",
    "            \"DefaultWire\"\n",
    "        ),\n",
    "        :output => WireProperties(\n",
    "            [], \n",
    "            (\"AttachBox\",:transition), :ot,\n",
    "            (\"AttachBox\",:species), :os,\n",
    "            \"DefaultWire\"\n",
    "        )\n",
    "    )\n",
    ");"
   ]
  },
  {
   "cell_type": "code",
   "execution_count": 12,
   "id": "material-honey",
   "metadata": {},
   "outputs": [
    {
     "data": {
      "text/plain": [
       "CSet{Catlab.Theories.CatDesc{(:species, :transition, :input, :output), (:is, :it, :ot, :os), (3, 3, 4, 4), (1, 2, 2, 1)}, (), (), Tables, Indices} where {Tables<:NamedTuple, Indices<:NamedTuple} (alias for Catlab.CSetDataStructures.AttributedCSet{Catlab.Theories.CatDesc{(:species, :transition, :input, :output), (:is, :it, :ot, :os), (3, 3, 4, 4), (1, 2, 2, 1)}, Catlab.Theories.AttrDesc{Catlab.Theories.CatDesc{(:species, :transition, :input, :output), (:is, :it, :ot, :os), (3, 3, 4, 4), (1, 2, 2, 1)}, (), (), (), ()}, Tuple{}, (), (), Tables, Indices} where {Tables<:NamedTuple, Indices<:NamedTuple})"
      ]
     },
     "execution_count": 12,
     "metadata": {},
     "output_type": "execute_result"
    }
   ],
   "source": [
    "@present TheoryPetriNet(FreeSchema) begin\n",
    "    species::Ob\n",
    "    transition::Ob\n",
    "    input::Ob\n",
    "    output::Ob\n",
    "    is::Hom(input,species)\n",
    "    it::Hom(input,transition)\n",
    "    ot::Hom(output,transition)\n",
    "    os::Hom(output,species)\n",
    "end\n",
    "\n",
    "PetriNet = CSetType(TheoryPetriNet)"
   ]
  },
  {
   "cell_type": "code",
   "execution_count": 24,
   "id": "occupied-surname",
   "metadata": {},
   "outputs": [],
   "source": [
    "cw2 = Wires.ControlWires{PetriNet}(PetriNetSchema);"
   ]
  },
  {
   "cell_type": "code",
   "execution_count": 25,
   "id": "cognitive-decision",
   "metadata": {},
   "outputs": [
    {
     "data": {
      "application/vnd.webio.node+json": {
       "children": [
        {
         "children": [],
         "instanceArgs": {
          "namespace": "html",
          "tag": "div"
         },
         "nodeType": "DOM",
         "props": {
          "id": "db4c8b81-e8d8-4ceb-8e1c-d13751a1922e"
         },
         "type": "node"
        }
       ],
       "instanceArgs": {
        "handlers": {},
        "id": "4779031721307514848",
        "imports": {
         "data": [
          {
           "name": "wires",
           "type": "js",
           "url": "/assetserver/cf1d38a15b88f3cad4c224ba8444c2e596abfab7-app.bundle.js"
          }
         ],
         "type": "async_block"
        },
        "mount_callbacks": [
         "(function (){var wires=System.registry.get(System.resolveSync(\"wires\")); return setTimeout((function (){return wires.main({\"box_types\":{\"species\":{\"weights\":[],\"style\":\"Circle\"},\"transition\":{\"weights\":[],\"style\":\"Square\"}},\"wire_types\":{\"output\":{\"weights\":[],\"src\":[\"AttachBox\",\"transition\"],\"src_map\":\"ot\",\"tgt\":[\"AttachBox\",\"species\"],\"tgt_map\":\"os\",\"style\":\"DefaultWire\"},\"input\":{\"weights\":[],\"src\":[\"AttachBox\",\"species\"],\"src_map\":\"is\",\"tgt\":[\"AttachBox\",\"transition\"],\"tgt_map\":\"it\",\"style\":\"DefaultWire\"}},\"port_types\":{}},\"db4c8b81-e8d8-4ceb-8e1c-d13751a1922e\",(function (x){return WebIO.setval({\"name\":\"wires\",\"scope\":\"4779031721307514848\",\"id\":\"8695985203499879980\",\"type\":\"observable\"},x)}))}),5000)})"
        ],
        "observables": {
         "wires": {
          "id": "8695985203499879980",
          "sync": false,
          "value": {}
         }
        },
        "systemjs_options": null
       },
       "nodeType": "Scope",
       "props": {},
       "type": "node"
      },
      "text/html": [
       "<div\n",
       "    class=\"webio-mountpoint\"\n",
       "    data-webio-mountpoint=\"104262151996597934\"\n",
       ">\n",
       "    <script>\n",
       "    if (window.require && require.defined && require.defined(\"nbextensions/webio-jupyter-notebook\")) {\n",
       "        console.log(\"Jupyter WebIO extension detected, not mounting.\");\n",
       "    } else if (window.WebIO) {\n",
       "        WebIO.mount(\n",
       "            document.querySelector('[data-webio-mountpoint=\"104262151996597934\"]'),\n",
       "            {\"props\":{},\"nodeType\":\"Scope\",\"type\":\"node\",\"instanceArgs\":{\"imports\":{\"data\":[{\"name\":\"wires\",\"type\":\"js\",\"url\":\"\\/assetserver\\/cf1d38a15b88f3cad4c224ba8444c2e596abfab7-app.bundle.js\"}],\"type\":\"async_block\"},\"id\":\"4779031721307514848\",\"handlers\":{},\"systemjs_options\":null,\"mount_callbacks\":[\"(function (){var wires=System.registry.get(System.resolveSync(\\\"wires\\\")); return setTimeout((function (){return wires.main({\\\"box_types\\\":{\\\"species\\\":{\\\"weights\\\":[],\\\"style\\\":\\\"Circle\\\"},\\\"transition\\\":{\\\"weights\\\":[],\\\"style\\\":\\\"Square\\\"}},\\\"wire_types\\\":{\\\"output\\\":{\\\"weights\\\":[],\\\"src\\\":[\\\"AttachBox\\\",\\\"transition\\\"],\\\"src_map\\\":\\\"ot\\\",\\\"tgt\\\":[\\\"AttachBox\\\",\\\"species\\\"],\\\"tgt_map\\\":\\\"os\\\",\\\"style\\\":\\\"DefaultWire\\\"},\\\"input\\\":{\\\"weights\\\":[],\\\"src\\\":[\\\"AttachBox\\\",\\\"species\\\"],\\\"src_map\\\":\\\"is\\\",\\\"tgt\\\":[\\\"AttachBox\\\",\\\"transition\\\"],\\\"tgt_map\\\":\\\"it\\\",\\\"style\\\":\\\"DefaultWire\\\"}},\\\"port_types\\\":{}},\\\"db4c8b81-e8d8-4ceb-8e1c-d13751a1922e\\\",(function (x){return WebIO.setval({\\\"name\\\":\\\"wires\\\",\\\"scope\\\":\\\"4779031721307514848\\\",\\\"id\\\":\\\"8695985203499879980\\\",\\\"type\\\":\\\"observable\\\"},x)}))}),5000)})\"],\"observables\":{\"wires\":{\"sync\":false,\"id\":\"8695985203499879980\",\"value\":{}}}},\"children\":[{\"props\":{\"id\":\"db4c8b81-e8d8-4ceb-8e1c-d13751a1922e\"},\"nodeType\":\"DOM\",\"type\":\"node\",\"instanceArgs\":{\"namespace\":\"html\",\"tag\":\"div\"},\"children\":[]}]},\n",
       "            window,\n",
       "        );\n",
       "    } else {\n",
       "        document\n",
       "            .querySelector('[data-webio-mountpoint=\"104262151996597934\"]')\n",
       "            .innerHTML = (\n",
       "                '<div style=\"padding: 1em; background-color: #f8d6da; border: 1px solid #f5c6cb\">' +\n",
       "                '<p><strong>WebIO not detected.</strong></p>' +\n",
       "                '<p>Please read ' +\n",
       "                '<a href=\"https://juliagizmos.github.io/WebIO.jl/latest/troubleshooting/not-detected/\" target=\"_blank\">the troubleshooting guide</a> ' +\n",
       "                'for more information on how to resolve this issue.</p>' +\n",
       "                '<p><a href=\"https://juliagizmos.github.io/WebIO.jl/latest/troubleshooting/not-detected/\" target=\"_blank\">https://juliagizmos.github.io/WebIO.jl/latest/troubleshooting/not-detected/</a></p>' +\n",
       "                '</div>'\n",
       "            );\n",
       "    }\n",
       "    </script>\n",
       "</div>\n"
      ],
      "text/plain": [
       "WebIO.Scope(WebIO.Node{WebIO.DOM}(WebIO.DOM(:html, :div), Any[], Dict{Symbol, Any}(:id => \"db4c8b81-e8d8-4ceb-8e1c-d13751a1922e\")), Dict{String, Tuple{Observables.AbstractObservable, Union{Nothing, Bool}}}(\"wires\" => (Observable{Dict{String, Any}} with 0 listeners. Value:\n",
       "Dict{String, Any}(), nothing)), Set{String}(), nothing, WebIO.Asset[WebIO.Asset(\"js\", \"wires\", \"/home/o/g/wires/src/../javascript/dist/app.bundle.js\")], Dict{Any, Any}(), WebIO.ConnectionPool(Channel{Any}(32), Set{WebIO.AbstractConnection}(), Condition(Base.InvasiveLinkedList{Task}(Task (runnable) @0x00007f83c73e8be0, Task (runnable) @0x00007f83c73e8be0), Base.AlwaysLockedST(1))), WebIO.JSString[WebIO.JSString(\"(function (){var wires=System.registry.get(System.resolveSync(\\\"wires\\\")); return setTimeout((function (){return wires.main({\\\"box_types\\\":{\\\"species\\\":{\\\"weights\\\":[],\\\"style\\\":\\\"Circle\\\"},\\\"transition\\\":{\\\"weights\\\":[],\\\"style\\\":\\\"Square\\\"}},\\\"wire_types\\\":{\\\"output\\\":{\\\"weights\\\":[],\\\"src\\\":[\\\"AttachBox\\\",\\\"transition\\\"],\\\"src_map\\\":\\\"ot\\\",\\\"tgt\\\":[\\\"AttachBox\\\",\\\"species\\\"],\\\"tgt_map\\\":\\\"os\\\",\\\"style\\\":\\\"DefaultWire\\\"},\\\"input\\\":{\\\"weights\\\":[],\\\"src\\\":[\\\"AttachBox\\\",\\\"species\\\"],\\\"src_map\\\":\\\"is\\\",\\\"tgt\\\":[\\\"AttachBox\\\",\\\"transition\\\"],\\\"tgt_map\\\":\\\"it\\\",\\\"style\\\":\\\"DefaultWire\\\"}},\\\"port_types\\\":{}},\\\"db4c8b81-e8d8-4ceb-8e1c-d13751a1922e\\\",(function (x){return WebIO.setval({\\\"name\\\":\\\"wires\\\",\\\"scope\\\":\\\"4779031721307514848\\\",\\\"id\\\":\\\"8695985203499879980\\\",\\\"type\\\":\\\"observable\\\"},x)}))}),5000)})\")])"
      ]
     },
     "execution_count": 25,
     "metadata": {
      "@webio": {
       "kernelId": "b848d12e-4986-4017-a8fa-f67060b2798a"
      }
     },
     "output_type": "execute_result"
    }
   ],
   "source": [
    "cw2.scope"
   ]
  },
  {
   "cell_type": "code",
   "execution_count": 27,
   "id": "experimental-degree",
   "metadata": {},
   "outputs": [
    {
     "data": {
      "text/html": [
       "<div class=\"c-set\">\n",
       "<span class=\"c-set-summary\">CSet with elements species = 1:3, transition = 1:1, input = 1:1, output = 1:2</span>\n",
       "<table>\n",
       "  <tr class = \"header headerLastRow\">\n",
       "    <th class = \"rowNumber\">input</th>\n",
       "    <th style = \"text-align: right;\">is</th>\n",
       "    <th style = \"text-align: right;\">it</th>\n",
       "  </tr>\n",
       "  <tr>\n",
       "    <td class = \"rowNumber\">1</td>\n",
       "    <td style = \"text-align: right;\">1</td>\n",
       "    <td style = \"text-align: right;\">1</td>\n",
       "  </tr>\n",
       "</table>\n",
       "<table>\n",
       "  <tr class = \"header headerLastRow\">\n",
       "    <th class = \"rowNumber\">output</th>\n",
       "    <th style = \"text-align: right;\">ot</th>\n",
       "    <th style = \"text-align: right;\">os</th>\n",
       "  </tr>\n",
       "  <tr>\n",
       "    <td class = \"rowNumber\">1</td>\n",
       "    <td style = \"text-align: right;\">1</td>\n",
       "    <td style = \"text-align: right;\">3</td>\n",
       "  </tr>\n",
       "  <tr>\n",
       "    <td class = \"rowNumber\">2</td>\n",
       "    <td style = \"text-align: right;\">1</td>\n",
       "    <td style = \"text-align: right;\">2</td>\n",
       "  </tr>\n",
       "</table>\n",
       "</div>\n"
      ],
      "text/plain": [
       "CSet with elements species = 1:3, transition = 1:1, input = 1:1, output = 1:2\n",
       "┌───────┬────┬────┐\n",
       "│\u001b[1m input \u001b[0m│\u001b[1m is \u001b[0m│\u001b[1m it \u001b[0m│\n",
       "├───────┼────┼────┤\n",
       "│     1 │  1 │  1 │\n",
       "└───────┴────┴────┘\n",
       "┌────────┬────┬────┐\n",
       "│\u001b[1m output \u001b[0m│\u001b[1m ot \u001b[0m│\u001b[1m os \u001b[0m│\n",
       "├────────┼────┼────┤\n",
       "│      1 │  1 │  3 │\n",
       "│      2 │  1 │  2 │\n",
       "└────────┴────┴────┘\n"
      ]
     },
     "execution_count": 27,
     "metadata": {},
     "output_type": "execute_result"
    }
   ],
   "source": [
    "Wires.get_acset(cw2)"
   ]
  },
  {
   "cell_type": "code",
   "execution_count": 41,
   "id": "motivated-literacy",
   "metadata": {},
   "outputs": [
    {
     "data": {
      "text/latex": [
       "$\\mathrm{input}$"
      ],
      "text/plain": [
       "input"
      ]
     },
     "execution_count": 41,
     "metadata": {},
     "output_type": "execute_result"
    }
   ],
   "source": [
    "dom(TheoryPetriNet[:is])"
   ]
  },
  {
   "cell_type": "code",
   "execution_count": 72,
   "id": "expensive-moisture",
   "metadata": {},
   "outputs": [
    {
     "data": {
      "text/plain": [
       "WiresSchema(Dict{Symbol, BoxProperties}(:species => BoxProperties(Symbol[], \"Circle\"), :transition => BoxProperties(Symbol[], \"Square\")), Dict{Symbol, PortProperties}(), Dict{Symbol, WireProperties}(:output => WireProperties(Symbol[], (\"BoxAttach\", :transition), :ot, (\"BoxAttach\", :species), :os, \"DefaultWire\"), :input => WireProperties(Symbol[], (\"BoxAttach\", :species), :is, (\"BoxAttach\", :transition), :it, \"DefaultWire\")))"
      ]
     },
     "execution_count": 72,
     "metadata": {},
     "output_type": "execute_result"
    }
   ],
   "source": [
    "@wirevizschema PetriWireViz(TheoryPetriNet) begin\n",
    "    @box species \"Circle\"\n",
    "    @box transition \"Square\"\n",
    "    @wire input(is,it) \"DefaultWire\"\n",
    "    @wire output(ot,os) \"DefaultWire\"\n",
    "end"
   ]
  },
  {
   "cell_type": "code",
   "execution_count": 63,
   "id": "sought-round",
   "metadata": {},
   "outputs": [],
   "source": [
    "Revise.retry()"
   ]
  },
  {
   "cell_type": "code",
   "execution_count": 51,
   "id": "brown-expression",
   "metadata": {},
   "outputs": [],
   "source": [
    "using MLStyle"
   ]
  },
  {
   "cell_type": "code",
   "execution_count": 52,
   "id": "brief-intellectual",
   "metadata": {},
   "outputs": [
    {
     "data": {
      "text/plain": [
       ":(#= In[52]:1 =# @box species \"Square\")"
      ]
     },
     "execution_count": 52,
     "metadata": {},
     "output_type": "execute_result"
    }
   ],
   "source": [
    "expr = :(@box species \"Square\")"
   ]
  },
  {
   "cell_type": "code",
   "execution_count": 53,
   "id": "expected-winter",
   "metadata": {},
   "outputs": [
    {
     "name": "stdout",
     "output_type": "stream",
     "text": [
      "Expr\n",
      "  head: Symbol macrocall\n",
      "  args: Array{Any}((4,))\n",
      "    1: Symbol @box\n",
      "    2: LineNumberNode\n",
      "      line: Int64 1\n",
      "      file: Symbol In[52]\n",
      "    3: Symbol species\n",
      "    4: String \"Square\"\n"
     ]
    }
   ],
   "source": [
    "dump(expr)"
   ]
  },
  {
   "cell_type": "code",
   "execution_count": 60,
   "id": "handed-employer",
   "metadata": {},
   "outputs": [
    {
     "data": {
      "text/plain": [
       "(:species, \"Square\")"
      ]
     },
     "execution_count": 60,
     "metadata": {},
     "output_type": "execute_result"
    }
   ],
   "source": [
    "@match expr begin\n",
    "    Expr(:macrocall, mname,_,name,style) && if mname == Symbol(\"@box\") end =>(name,style)\n",
    "    _ => error(\"no match\")\n",
    "end"
   ]
  },
  {
   "cell_type": "code",
   "execution_count": null,
   "id": "hired-record",
   "metadata": {},
   "outputs": [],
   "source": []
  }
 ],
 "metadata": {
  "@webio": {
   "lastCommId": "2030cc3f-076b-4c2a-bcf6-9b0bf088aa44",
   "lastKernelId": "b848d12e-4986-4017-a8fa-f67060b2798a"
  },
  "kernelspec": {
   "display_name": "Julia 1.6.0",
   "language": "julia",
   "name": "julia-1.6"
  },
  "language_info": {
   "file_extension": ".jl",
   "mimetype": "application/julia",
   "name": "julia",
   "version": "1.6.0"
  }
 },
 "nbformat": 4,
 "nbformat_minor": 5
}
