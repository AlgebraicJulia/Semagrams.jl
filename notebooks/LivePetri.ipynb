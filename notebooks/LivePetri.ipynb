{
 "cells": [
  {
   "cell_type": "code",
   "execution_count": 1,
   "id": "adverse-rebate",
   "metadata": {},
   "outputs": [],
   "source": [
    "]activate ."
   ]
  },
  {
   "cell_type": "code",
   "execution_count": 2,
   "id": "marked-insurance",
   "metadata": {},
   "outputs": [
    {
     "name": "stderr",
     "output_type": "stream",
     "text": [
      "┌ Info: Precompiling Semagrams [13530c0b-fe5b-42fd-9b7e-79367be16329]\n",
      "└ @ Base loading.jl:1317\n"
     ]
    },
    {
     "data": {
      "text/html": [
       "<script>\n",
       "// Immediately-invoked-function-expression to avoid global variables.\n",
       "(function() {\n",
       "    var warning_div = document.getElementById(\"webio-warning-4895585533524176965\");\n",
       "    var hide = function () {\n",
       "        var script = document.getElementById(\"webio-setup-13541138562015435335\");\n",
       "        var parent = script && script.parentElement;\n",
       "        var grandparent = parent && parent.parentElement;\n",
       "        if (grandparent) {\n",
       "            grandparent.style.display = \"none\";\n",
       "        }\n",
       "        warning_div.style.display = \"none\";\n",
       "    };\n",
       "    if (typeof Jupyter !== \"undefined\") {\n",
       "        console.log(\"WebIO detected Jupyter notebook environment.\");\n",
       "        // Jupyter notebook.\n",
       "        var extensions = (\n",
       "            Jupyter\n",
       "            && Jupyter.notebook.config.data\n",
       "            && Jupyter.notebook.config.data.load_extensions\n",
       "        );\n",
       "        if (extensions && extensions[\"webio-jupyter-notebook\"]) {\n",
       "            // Extension already loaded.\n",
       "            console.log(\"Jupyter WebIO nbextension detected; not loading ad-hoc.\");\n",
       "            hide();\n",
       "            return;\n",
       "        }\n",
       "    } else if (window.location.pathname.includes(\"/lab\")) {\n",
       "        // Guessing JupyterLa\n",
       "        console.log(\"Jupyter Lab detected; make sure the @webio/jupyter-lab-provider labextension is installed.\");\n",
       "        hide();\n",
       "        return;\n",
       "    }\n",
       "})();\n",
       "\n",
       "</script>\n",
       "<p\n",
       "    id=\"webio-warning-4895585533524176965\"\n",
       "    class=\"output_text output_stderr\"\n",
       "    style=\"padding: 1em; font-weight: bold;\"\n",
       ">\n",
       "    Unable to load WebIO. Please make sure WebIO works for your Jupyter client.\n",
       "    For troubleshooting, please see <a href=\"https://juliagizmos.github.io/WebIO.jl/latest/providers/ijulia/\">\n",
       "    the WebIO/IJulia documentation</a>.\n",
       "    <!-- TODO: link to installation docs. -->\n",
       "</p>\n"
      ],
      "text/plain": [
       "HTML{String}(\"<script>\\n// Immediately-invoked-function-expression to avoid global variables.\\n(function() {\\n    var warning_div = document.getElementById(\\\"webio-warning-4895585533524176965\\\");\\n    var hide = function () {\\n        var script = document.getElementById(\\\"webio-setup-13541138562015435335\\\");\\n        var parent = script && script.parentElement;\\n        var grandparent = parent && parent.parentElement;\\n        if (grandparent) {\\n            grandparent.style.display = \\\"none\\\";\\n        }\\n        warning_div.style.display = \\\"none\\\";\\n    };\\n    if (typeof Jupyter !== \\\"undefined\\\") {\\n        console.log(\\\"WebIO detected Jupyter notebook environment.\\\");\\n        // Jupyter notebook.\\n        var extensions = (\\n            Jupyter\\n            && Jupyter.notebook.config.data\\n            && Jupyter.notebook.config.data.load_extensions\\n        );\\n        if (extensions && extensions[\\\"webio-jupyter-notebook\\\"]) {\\n            // Extension already loaded.\\n            console.log(\\\"Jupyter WebIO nbextension detected; not loading ad-hoc.\\\");\\n            hide();\\n            return;\\n        }\\n    } else if (window.location.pathname.includes(\\\"/lab\\\")) {\\n        // Guessing JupyterLa\\n        console.log(\\\"Jupyter Lab detected; make sure the @webio/jupyter-lab-provider labextension is installed.\\\");\\n        hide();\\n        return;\\n    }\\n})();\\n\\n</script>\\n<p\\n    id=\\\"webio-warning-4895585533524176965\\\"\\n    class=\\\"output_text output_stderr\\\"\\n    style=\\\"padding: 1em; font-weight: bold;\\\"\\n>\\n    Unable to load WebIO. Please make sure WebIO works for your Jupyter client.\\n    For troubleshooting, please see <a href=\\\"https://juliagizmos.github.io/WebIO.jl/latest/providers/ijulia/\\\">\\n    the WebIO/IJulia documentation</a>.\\n    <!-- TODO: link to installation docs. -->\\n</p>\\n\")"
      ]
     },
     "metadata": {},
     "output_type": "display_data"
    }
   ],
   "source": [
    "using Semagrams, AlgebraicPetri"
   ]
  },
  {
   "cell_type": "code",
   "execution_count": 3,
   "id": "infrared-insulin",
   "metadata": {},
   "outputs": [],
   "source": [
    "using Plots, Interact, DifferentialEquations"
   ]
  },
  {
   "cell_type": "code",
   "execution_count": 4,
   "id": "respiratory-bleeding",
   "metadata": {},
   "outputs": [
    {
     "data": {
      "text/plain": [
       "SemagramSchema(Dict{Symbol, BoxProperties}(:T => BoxProperties(Tuple{AttributeType, Symbol}[(Numeric, :rate)], \"<polygon points=\\\"-40,-40 40,-40 40,40 -40,40\\\"></polygon>\", \"T\"), :S => BoxProperties(Tuple{AttributeType, Symbol}[(Numeric, :concentration)], \"<circle r=\\\"40\\\"></circle>\", \"S\")), Dict{Symbol, PortProperties}(), Dict{Symbol, WireProperties}(:I => WireProperties(Tuple{AttributeType, Symbol}[], (\"Box\", :S), :is, (\"Box\", :T), :it, \"DefaultWire\"), :O => WireProperties(Tuple{AttributeType, Symbol}[], (\"Box\", :T), :ot, (\"Box\", :S), :os, \"DefaultWire\")))"
      ]
     },
     "execution_count": 4,
     "metadata": {},
     "output_type": "execute_result"
    }
   ],
   "source": [
    "@semagramschema ReactionSema(AlgebraicPetri.TheoryReactionNet) begin\n",
    "    @data Rate Numeric\n",
    "    @data Concentration Numeric\n",
    "    @box S Circle\n",
    "    @box T Square\n",
    "    @wire I(is, it)\n",
    "    @wire O(ot, os)\n",
    "end"
   ]
  },
  {
   "cell_type": "code",
   "execution_count": 30,
   "id": "central-finger",
   "metadata": {},
   "outputs": [
    {
     "data": {
      "application/vnd.webio.node+json": {
       "children": [
        {
         "children": [],
         "instanceArgs": {
          "namespace": "html",
          "tag": "div"
         },
         "nodeType": "DOM",
         "props": {
          "id": "4f6a35ba-bc5f-4b86-bf6e-521624ba8385"
         },
         "type": "node"
        }
       ],
       "instanceArgs": {
        "handlers": {},
        "id": "14777070773365263665",
        "imports": {
         "data": [
          {
           "name": "wires",
           "type": "js",
           "url": "/assetserver/92c7e93b733dcc5d58449e6598ea465cd4dd1762-app.bundle.js"
          }
         ],
         "type": "async_block"
        },
        "mount_callbacks": [
         "(function (){var wires=System.registry.get(System.resolveSync(\"wires\")); return setTimeout((function (){return wires.main({\"box_types\":{\"T\":{\"weights\":[[\"Numeric\",\"rate\"]],\"shape\":\"<polygon points=\\\"-40,-40 40,-40 40,40 -40,40\\\"></polygon>\",\"label\":\"T\"},\"S\":{\"weights\":[[\"Numeric\",\"concentration\"]],\"shape\":\"<circle r=\\\"40\\\"></circle>\",\"label\":\"S\"}},\"wire_types\":{\"I\":{\"weights\":[],\"src\":[\"Box\",\"S\"],\"src_map\":\"is\",\"tgt\":[\"Box\",\"T\"],\"tgt_map\":\"it\",\"style\":\"DefaultWire\"},\"O\":{\"weights\":[],\"src\":[\"Box\",\"T\"],\"src_map\":\"ot\",\"tgt\":[\"Box\",\"S\"],\"tgt_map\":\"os\",\"style\":\"DefaultWire\"}},\"port_types\":{}},\"4f6a35ba-bc5f-4b86-bf6e-521624ba8385\",(function (x){return WebIO.setval({\"name\":\"wires\",\"scope\":\"14777070773365263665\",\"id\":\"15402708289490537136\",\"type\":\"observable\"},x)}))}),20)})"
        ],
        "observables": {
         "wires": {
          "id": "15402708289490537136",
          "sync": false,
          "value": {}
         }
        },
        "systemjs_options": null
       },
       "nodeType": "Scope",
       "props": {},
       "type": "node"
      },
      "text/html": [
       "<div\n",
       "    class=\"webio-mountpoint\"\n",
       "    data-webio-mountpoint=\"11476183390709400055\"\n",
       ">\n",
       "    <script>\n",
       "    if (window.require && require.defined && require.defined(\"nbextensions/webio-jupyter-notebook\")) {\n",
       "        console.log(\"Jupyter WebIO extension detected, not mounting.\");\n",
       "    } else if (window.WebIO) {\n",
       "        WebIO.mount(\n",
       "            document.querySelector('[data-webio-mountpoint=\"11476183390709400055\"]'),\n",
       "            {\"props\":{},\"nodeType\":\"Scope\",\"type\":\"node\",\"instanceArgs\":{\"imports\":{\"data\":[{\"name\":\"wires\",\"type\":\"js\",\"url\":\"\\/assetserver\\/92c7e93b733dcc5d58449e6598ea465cd4dd1762-app.bundle.js\"}],\"type\":\"async_block\"},\"id\":\"14777070773365263665\",\"handlers\":{},\"systemjs_options\":null,\"mount_callbacks\":[\"(function (){var wires=System.registry.get(System.resolveSync(\\\"wires\\\")); return setTimeout((function (){return wires.main({\\\"box_types\\\":{\\\"T\\\":{\\\"weights\\\":[[\\\"Numeric\\\",\\\"rate\\\"]],\\\"shape\\\":\\\"<polygon points=\\\\\\\"-40,-40 40,-40 40,40 -40,40\\\\\\\"><\\/polygon>\\\",\\\"label\\\":\\\"T\\\"},\\\"S\\\":{\\\"weights\\\":[[\\\"Numeric\\\",\\\"concentration\\\"]],\\\"shape\\\":\\\"<circle r=\\\\\\\"40\\\\\\\"><\\/circle>\\\",\\\"label\\\":\\\"S\\\"}},\\\"wire_types\\\":{\\\"I\\\":{\\\"weights\\\":[],\\\"src\\\":[\\\"Box\\\",\\\"S\\\"],\\\"src_map\\\":\\\"is\\\",\\\"tgt\\\":[\\\"Box\\\",\\\"T\\\"],\\\"tgt_map\\\":\\\"it\\\",\\\"style\\\":\\\"DefaultWire\\\"},\\\"O\\\":{\\\"weights\\\":[],\\\"src\\\":[\\\"Box\\\",\\\"T\\\"],\\\"src_map\\\":\\\"ot\\\",\\\"tgt\\\":[\\\"Box\\\",\\\"S\\\"],\\\"tgt_map\\\":\\\"os\\\",\\\"style\\\":\\\"DefaultWire\\\"}},\\\"port_types\\\":{}},\\\"4f6a35ba-bc5f-4b86-bf6e-521624ba8385\\\",(function (x){return WebIO.setval({\\\"name\\\":\\\"wires\\\",\\\"scope\\\":\\\"14777070773365263665\\\",\\\"id\\\":\\\"15402708289490537136\\\",\\\"type\\\":\\\"observable\\\"},x)}))}),20)})\"],\"observables\":{\"wires\":{\"sync\":false,\"id\":\"15402708289490537136\",\"value\":{}}}},\"children\":[{\"props\":{\"id\":\"4f6a35ba-bc5f-4b86-bf6e-521624ba8385\"},\"nodeType\":\"DOM\",\"type\":\"node\",\"instanceArgs\":{\"namespace\":\"html\",\"tag\":\"div\"},\"children\":[]}]},\n",
       "            window,\n",
       "        );\n",
       "    } else {\n",
       "        document\n",
       "            .querySelector('[data-webio-mountpoint=\"11476183390709400055\"]')\n",
       "            .innerHTML = (\n",
       "                '<div style=\"padding: 1em; background-color: #f8d6da; border: 1px solid #f5c6cb\">' +\n",
       "                '<p><strong>WebIO not detected.</strong></p>' +\n",
       "                '<p>Please read ' +\n",
       "                '<a href=\"https://juliagizmos.github.io/WebIO.jl/latest/troubleshooting/not-detected/\" target=\"_blank\">the troubleshooting guide</a> ' +\n",
       "                'for more information on how to resolve this issue.</p>' +\n",
       "                '<p><a href=\"https://juliagizmos.github.io/WebIO.jl/latest/troubleshooting/not-detected/\" target=\"_blank\">https://juliagizmos.github.io/WebIO.jl/latest/troubleshooting/not-detected/</a></p>' +\n",
       "                '</div>'\n",
       "            );\n",
       "    }\n",
       "    </script>\n",
       "</div>\n"
      ],
      "text/plain": [
       "Semagram{Catlab.CSetDataStructures.AttributedCSet{Catlab.Theories.CatDesc{(:T, :S, :I, :O), (:it, :is, :ot, :os), (3, 3, 4, 4), (1, 2, 1, 2)}, Catlab.Theories.AttrDesc{Catlab.Theories.CatDesc{(:T, :S, :I, :O), (:it, :is, :ot, :os), (3, 3, 4, 4), (1, 2, 1, 2)}, (:Rate, :Concentration), (:rate, :concentration), (1, 2), (1, 2)}, Tuple{Float64, Float64}, (:is, :it, :os, :ot), (), Tables, Indices} where {Tables<:NamedTuple, Indices<:NamedTuple}}(UUID(\"4f6a35ba-bc5f-4b86-bf6e-521624ba8385\"), Scope(Node{WebIO.DOM}(WebIO.DOM(:html, :div), Any[], Dict{Symbol, Any}(:id => \"4f6a35ba-bc5f-4b86-bf6e-521624ba8385\")), Dict{String, Tuple{Observables.AbstractObservable, Union{Nothing, Bool}}}(\"wires\" => (Observable{Dict{String, Any}} with 0 listeners. Value:\n",
       "Dict{String, Any}(), nothing)), Set{String}(), nothing, Asset[Asset(\"js\", \"wires\", \"/home/o/g/Semagrams.jl/src/../javascript/dist/app.bundle.js\")], Dict{Any, Any}(), WebIO.ConnectionPool(Channel{Any}(32), Set{AbstractConnection}(), Condition(Base.InvasiveLinkedList{Task}(Task (runnable) @0x00007ffa921aab60, Task (runnable) @0x00007ffa921aab60), Base.AlwaysLockedST(1))), WebIO.JSString[WebIO.JSString(\"(function (){var wires=System.registry.get(System.resolveSync(\\\"wires\\\")); return setTimeout((function (){return wires.main({\\\"box_types\\\":{\\\"T\\\":{\\\"weights\\\":[[\\\"Numeric\\\",\\\"rate\\\"]],\\\"shape\\\":\\\"<polygon points=\\\\\\\"-40,-40 40,-40 40,40 -40,40\\\\\\\"></polygon>\\\",\\\"label\\\":\\\"T\\\"},\\\"S\\\":{\\\"weights\\\":[[\\\"Numeric\\\",\\\"concentration\\\"]],\\\"shape\\\":\\\"<circle r=\\\\\\\"40\\\\\\\"></circle>\\\",\\\"label\\\":\\\"S\\\"}},\\\"wire_types\\\":{\\\"I\\\":{\\\"weights\\\":[],\\\"src\\\":[\\\"Box\\\",\\\"S\\\"],\\\"src_map\\\":\\\"is\\\",\\\"tgt\\\":[\\\"Box\\\",\\\"T\\\"],\\\"tgt_map\\\":\\\"it\\\",\\\"style\\\":\\\"DefaultWire\\\"},\\\"O\\\":{\\\"weights\\\":[],\\\"src\\\":[\\\"Box\\\",\\\"T\\\"],\\\"src_map\\\":\\\"ot\\\",\\\"tgt\\\":[\\\"Box\\\",\\\"S\\\"],\\\"tgt_map\\\":\\\"os\\\",\\\"style\\\":\\\"DefaultWire\\\"}},\\\"port_types\\\":{}},\\\"4f6a35ba-bc5f-4b86-bf6e-521624ba8385\\\",(function (x){return WebIO.setval({\\\"name\\\":\\\"wires\\\",\\\"scope\\\":\\\"14777070773365263665\\\",\\\"id\\\":\\\"15402708289490537136\\\",\\\"type\\\":\\\"observable\\\"},x)}))}),20)})\")]), Observable{Dict{String, Any}} with 0 listeners. Value:\n",
       "Dict{String, Any}(), SemagramSchema(Dict{Symbol, BoxProperties}(:T => BoxProperties(Tuple{AttributeType, Symbol}[(Numeric, :rate)], \"<polygon points=\\\"-40,-40 40,-40 40,40 -40,40\\\"></polygon>\", \"T\"), :S => BoxProperties(Tuple{AttributeType, Symbol}[(Numeric, :concentration)], \"<circle r=\\\"40\\\"></circle>\", \"S\")), Dict{Symbol, PortProperties}(), Dict{Symbol, WireProperties}(:I => WireProperties(Tuple{AttributeType, Symbol}[], (\"Box\", :S), :is, (\"Box\", :T), :it, \"DefaultWire\"), :O => WireProperties(Tuple{AttributeType, Symbol}[], (\"Box\", :T), :ot, (\"Box\", :S), :os, \"DefaultWire\"))))"
      ]
     },
     "execution_count": 30,
     "metadata": {
      "@webio": {
       "kernelId": "936b50da-2b92-46bb-99f2-5b08316f5e31"
      }
     },
     "output_type": "execute_result"
    }
   ],
   "source": [
    "p = Semagram{ReactionNet{Float64, Float64}}(ReactionSema)"
   ]
  },
  {
   "cell_type": "code",
   "execution_count": 32,
   "id": "sonic-grave",
   "metadata": {
    "collapsed": true,
    "jupyter": {
     "outputs_hidden": true
    }
   },
   "outputs": [
    {
     "ename": "LoadError",
     "evalue": "InterruptException:",
     "output_type": "error",
     "traceback": [
      "InterruptException:",
      "",
      "Stacktrace:",
      "  [1] sname(p::Catlab.CSetDataStructures.AttributedCSet{Catlab.Theories.CatDesc{(:T, :S, :I, :O), (:it, :is, :ot, :os), (3, 3, 4, 4), (1, 2, 1, 2)}, Catlab.Theories.AttrDesc{Catlab.Theories.CatDesc{(:T, :S, :I, :O), (:it, :is, :ot, :os), (3, 3, 4, 4), (1, 2, 1, 2)}, (:Rate, :Concentration), (:rate, :concentration), (1, 2), (1, 2)}, Tuple{Float64, Float64}, (:is, :it, :os, :ot), (), NamedTuple{(:T, :S, :I, :O), Tuple{TypedTables.Table{NamedTuple{(:rate,), Tuple{Float64}}, 1, NamedTuple{(:rate,), Tuple{Vector{Float64}}}}, TypedTables.Table{NamedTuple{(:concentration,), Tuple{Float64}}, 1, NamedTuple{(:concentration,), Tuple{Vector{Float64}}}}, TypedTables.Table{NamedTuple{(:it, :is), Tuple{Int64, Int64}}, 1, NamedTuple{(:it, :is), Tuple{Vector{Int64}, Vector{Int64}}}}, TypedTables.Table{NamedTuple{(:ot, :os), Tuple{Int64, Int64}}, 1, NamedTuple{(:ot, :os), Tuple{Vector{Int64}, Vector{Int64}}}}}}, NamedTuple{(:is, :it, :os, :ot), NTuple{4, Vector{Vector{Int64}}}}}, s::Int64)",
      "    @ AlgebraicPetri ~/.julia/packages/AlgebraicPetri/45NE4/src/AlgebraicPetri.jl:84",
      "  [2] (::AlgebraicPetri.var\"#19#24\"{Vector{Float64}, Catlab.CSetDataStructures.AttributedCSet{Catlab.Theories.CatDesc{(:T, :S, :I, :O), (:it, :is, :ot, :os), (3, 3, 4, 4), (1, 2, 1, 2)}, Catlab.Theories.AttrDesc{Catlab.Theories.CatDesc{(:T, :S, :I, :O), (:it, :is, :ot, :os), (3, 3, 4, 4), (1, 2, 1, 2)}, (:Rate, :Concentration), (:rate, :concentration), (1, 2), (1, 2)}, Tuple{Float64, Float64}, (:is, :it, :os, :ot), (), NamedTuple{(:T, :S, :I, :O), Tuple{TypedTables.Table{NamedTuple{(:rate,), Tuple{Float64}}, 1, NamedTuple{(:rate,), Tuple{Vector{Float64}}}}, TypedTables.Table{NamedTuple{(:concentration,), Tuple{Float64}}, 1, NamedTuple{(:concentration,), Tuple{Vector{Float64}}}}, TypedTables.Table{NamedTuple{(:it, :is), Tuple{Int64, Int64}}, 1, NamedTuple{(:it, :is), Tuple{Vector{Int64}, Vector{Int64}}}}, TypedTables.Table{NamedTuple{(:ot, :os), Tuple{Int64, Int64}}, 1, NamedTuple{(:ot, :os), Tuple{Vector{Int64}, Vector{Int64}}}}}}, NamedTuple{(:is, :it, :os, :ot), NTuple{4, Vector{Vector{Int64}}}}}})(i::Int64)",
      "    @ AlgebraicPetri ./none:0",
      "  [3] iterate",
      "    @ ./generator.jl:47 [inlined]",
      "  [4] collect(itr::Base.Generator{UnitRange{Int64}, AlgebraicPetri.var\"#19#24\"{Vector{Float64}, Catlab.CSetDataStructures.AttributedCSet{Catlab.Theories.CatDesc{(:T, :S, :I, :O), (:it, :is, :ot, :os), (3, 3, 4, 4), (1, 2, 1, 2)}, Catlab.Theories.AttrDesc{Catlab.Theories.CatDesc{(:T, :S, :I, :O), (:it, :is, :ot, :os), (3, 3, 4, 4), (1, 2, 1, 2)}, (:Rate, :Concentration), (:rate, :concentration), (1, 2), (1, 2)}, Tuple{Float64, Float64}, (:is, :it, :os, :ot), (), NamedTuple{(:T, :S, :I, :O), Tuple{TypedTables.Table{NamedTuple{(:rate,), Tuple{Float64}}, 1, NamedTuple{(:rate,), Tuple{Vector{Float64}}}}, TypedTables.Table{NamedTuple{(:concentration,), Tuple{Float64}}, 1, NamedTuple{(:concentration,), Tuple{Vector{Float64}}}}, TypedTables.Table{NamedTuple{(:it, :is), Tuple{Int64, Int64}}, 1, NamedTuple{(:it, :is), Tuple{Vector{Int64}, Vector{Int64}}}}, TypedTables.Table{NamedTuple{(:ot, :os), Tuple{Int64, Int64}}, 1, NamedTuple{(:ot, :os), Tuple{Vector{Int64}, Vector{Int64}}}}}}, NamedTuple{(:is, :it, :os, :ot), NTuple{4, Vector{Vector{Int64}}}}}}})",
      "    @ Base ./array.jl:678",
      "  [5] (::AlgebraicPetri.var\"#f#23\"{Catlab.CSetDataStructures.AttributedCSet{Catlab.Theories.CatDesc{(:T, :S, :I, :O), (:it, :is, :ot, :os), (3, 3, 4, 4), (1, 2, 1, 2)}, Catlab.Theories.AttrDesc{Catlab.Theories.CatDesc{(:T, :S, :I, :O), (:it, :is, :ot, :os), (3, 3, 4, 4), (1, 2, 1, 2)}, (:Rate, :Concentration), (:rate, :concentration), (1, 2), (1, 2)}, Tuple{Float64, Float64}, (:is, :it, :os, :ot), (), NamedTuple{(:T, :S, :I, :O), Tuple{TypedTables.Table{NamedTuple{(:rate,), Tuple{Float64}}, 1, NamedTuple{(:rate,), Tuple{Vector{Float64}}}}, TypedTables.Table{NamedTuple{(:concentration,), Tuple{Float64}}, 1, NamedTuple{(:concentration,), Tuple{Vector{Float64}}}}, TypedTables.Table{NamedTuple{(:it, :is), Tuple{Int64, Int64}}, 1, NamedTuple{(:it, :is), Tuple{Vector{Int64}, Vector{Int64}}}}, TypedTables.Table{NamedTuple{(:ot, :os), Tuple{Int64, Int64}}, 1, NamedTuple{(:ot, :os), Tuple{Vector{Int64}, Vector{Int64}}}}}}, NamedTuple{(:is, :it, :os, :ot), NTuple{4, Vector{Vector{Int64}}}}}, Matrix{Int64}, TransitionMatrices})(du::Vector{Float64}, u::Vector{Float64}, p::Vector{Float64}, t::Float64)",
      "    @ AlgebraicPetri ~/.julia/packages/AlgebraicPetri/45NE4/src/AlgebraicPetri.jl:132",
      "  [6] ODEFunction",
      "    @ ~/.julia/packages/SciMLBase/DKeLA/src/scimlfunctions.jl:334 [inlined]",
      "  [7] perform_step!(integrator::OrdinaryDiffEq.ODEIntegrator{Tsit5, true, Vector{Float64}, Nothing, Float64, Vector{Float64}, Float64, Float64, Float64, Float64, Vector{Vector{Float64}}, ODESolution{Float64, 2, Vector{Vector{Float64}}, Nothing, Nothing, Vector{Float64}, Vector{Vector{Vector{Float64}}}, ODEProblem{Vector{Float64}, Tuple{Float64, Float64}, true, Vector{Float64}, ODEFunction{true, AlgebraicPetri.var\"#f#23\"{Catlab.CSetDataStructures.AttributedCSet{Catlab.Theories.CatDesc{(:T, :S, :I, :O), (:it, :is, :ot, :os), (3, 3, 4, 4), (1, 2, 1, 2)}, Catlab.Theories.AttrDesc{Catlab.Theories.CatDesc{(:T, :S, :I, :O), (:it, :is, :ot, :os), (3, 3, 4, 4), (1, 2, 1, 2)}, (:Rate, :Concentration), (:rate, :concentration), (1, 2), (1, 2)}, Tuple{Float64, Float64}, (:is, :it, :os, :ot), (), NamedTuple{(:T, :S, :I, :O), Tuple{TypedTables.Table{NamedTuple{(:rate,), Tuple{Float64}}, 1, NamedTuple{(:rate,), Tuple{Vector{Float64}}}}, TypedTables.Table{NamedTuple{(:concentration,), Tuple{Float64}}, 1, NamedTuple{(:concentration,), Tuple{Vector{Float64}}}}, TypedTables.Table{NamedTuple{(:it, :is), Tuple{Int64, Int64}}, 1, NamedTuple{(:it, :is), Tuple{Vector{Int64}, Vector{Int64}}}}, TypedTables.Table{NamedTuple{(:ot, :os), Tuple{Int64, Int64}}, 1, NamedTuple{(:ot, :os), Tuple{Vector{Int64}, Vector{Int64}}}}}}, NamedTuple{(:is, :it, :os, :ot), NTuple{4, Vector{Vector{Int64}}}}}, Matrix{Int64}, TransitionMatrices}, LinearAlgebra.UniformScaling{Bool}, Nothing, Nothing, Nothing, Nothing, Nothing, Nothing, Nothing, Nothing, Nothing, Nothing, Nothing, Nothing, typeof(SciMLBase.DEFAULT_OBSERVED), Nothing}, Base.Iterators.Pairs{Union{}, Union{}, Tuple{}, NamedTuple{(), Tuple{}}}, SciMLBase.StandardODEProblem}, Tsit5, OrdinaryDiffEq.InterpolationData{ODEFunction{true, AlgebraicPetri.var\"#f#23\"{Catlab.CSetDataStructures.AttributedCSet{Catlab.Theories.CatDesc{(:T, :S, :I, :O), (:it, :is, :ot, :os), (3, 3, 4, 4), (1, 2, 1, 2)}, Catlab.Theories.AttrDesc{Catlab.Theories.CatDesc{(:T, :S, :I, :O), (:it, :is, :ot, :os), (3, 3, 4, 4), (1, 2, 1, 2)}, (:Rate, :Concentration), (:rate, :concentration), (1, 2), (1, 2)}, Tuple{Float64, Float64}, (:is, :it, :os, :ot), (), NamedTuple{(:T, :S, :I, :O), Tuple{TypedTables.Table{NamedTuple{(:rate,), Tuple{Float64}}, 1, NamedTuple{(:rate,), Tuple{Vector{Float64}}}}, TypedTables.Table{NamedTuple{(:concentration,), Tuple{Float64}}, 1, NamedTuple{(:concentration,), Tuple{Vector{Float64}}}}, TypedTables.Table{NamedTuple{(:it, :is), Tuple{Int64, Int64}}, 1, NamedTuple{(:it, :is), Tuple{Vector{Int64}, Vector{Int64}}}}, TypedTables.Table{NamedTuple{(:ot, :os), Tuple{Int64, Int64}}, 1, NamedTuple{(:ot, :os), Tuple{Vector{Int64}, Vector{Int64}}}}}}, NamedTuple{(:is, :it, :os, :ot), NTuple{4, Vector{Vector{Int64}}}}}, Matrix{Int64}, TransitionMatrices}, LinearAlgebra.UniformScaling{Bool}, Nothing, Nothing, Nothing, Nothing, Nothing, Nothing, Nothing, Nothing, Nothing, Nothing, Nothing, Nothing, typeof(SciMLBase.DEFAULT_OBSERVED), Nothing}, Vector{Vector{Float64}}, Vector{Float64}, Vector{Vector{Vector{Float64}}}, OrdinaryDiffEq.Tsit5Cache{Vector{Float64}, Vector{Float64}, Vector{Float64}, OrdinaryDiffEq.Tsit5ConstantCache{Float64, Float64}}}, DiffEqBase.DEStats}, ODEFunction{true, AlgebraicPetri.var\"#f#23\"{Catlab.CSetDataStructures.AttributedCSet{Catlab.Theories.CatDesc{(:T, :S, :I, :O), (:it, :is, :ot, :os), (3, 3, 4, 4), (1, 2, 1, 2)}, Catlab.Theories.AttrDesc{Catlab.Theories.CatDesc{(:T, :S, :I, :O), (:it, :is, :ot, :os), (3, 3, 4, 4), (1, 2, 1, 2)}, (:Rate, :Concentration), (:rate, :concentration), (1, 2), (1, 2)}, Tuple{Float64, Float64}, (:is, :it, :os, :ot), (), NamedTuple{(:T, :S, :I, :O), Tuple{TypedTables.Table{NamedTuple{(:rate,), Tuple{Float64}}, 1, NamedTuple{(:rate,), Tuple{Vector{Float64}}}}, TypedTables.Table{NamedTuple{(:concentration,), Tuple{Float64}}, 1, NamedTuple{(:concentration,), Tuple{Vector{Float64}}}}, TypedTables.Table{NamedTuple{(:it, :is), Tuple{Int64, Int64}}, 1, NamedTuple{(:it, :is), Tuple{Vector{Int64}, Vector{Int64}}}}, TypedTables.Table{NamedTuple{(:ot, :os), Tuple{Int64, Int64}}, 1, NamedTuple{(:ot, :os), Tuple{Vector{Int64}, Vector{Int64}}}}}}, NamedTuple{(:is, :it, :os, :ot), NTuple{4, Vector{Vector{Int64}}}}}, Matrix{Int64}, TransitionMatrices}, LinearAlgebra.UniformScaling{Bool}, Nothing, Nothing, Nothing, Nothing, Nothing, Nothing, Nothing, Nothing, Nothing, Nothing, Nothing, Nothing, typeof(SciMLBase.DEFAULT_OBSERVED), Nothing}, OrdinaryDiffEq.Tsit5Cache{Vector{Float64}, Vector{Float64}, Vector{Float64}, OrdinaryDiffEq.Tsit5ConstantCache{Float64, Float64}}, OrdinaryDiffEq.DEOptions{Float64, Float64, Float64, Float64, PIController{Rational{Int64}}, typeof(DiffEqBase.ODE_DEFAULT_NORM), typeof(LinearAlgebra.opnorm), Nothing, CallbackSet{Tuple{}, Tuple{}}, typeof(DiffEqBase.ODE_DEFAULT_ISOUTOFDOMAIN), typeof(DiffEqBase.ODE_DEFAULT_PROG_MESSAGE), typeof(DiffEqBase.ODE_DEFAULT_UNSTABLE_CHECK), DataStructures.BinaryMinHeap{Float64}, DataStructures.BinaryMinHeap{Float64}, Nothing, Nothing, Int64, Tuple{}, Tuple{}, Tuple{}}, Vector{Float64}, Float64, Nothing, OrdinaryDiffEq.DefaultInit}, cache::OrdinaryDiffEq.Tsit5Cache{Vector{Float64}, Vector{Float64}, Vector{Float64}, OrdinaryDiffEq.Tsit5ConstantCache{Float64, Float64}}, repeat_step::Bool)",
      "    @ OrdinaryDiffEq ~/.julia/packages/OrdinaryDiffEq/T2rXL/src/perform_step/low_order_rk_perform_step.jl:641",
      "  [8] perform_step!",
      "    @ ~/.julia/packages/OrdinaryDiffEq/T2rXL/src/perform_step/low_order_rk_perform_step.jl:628 [inlined]",
      "  [9] solve!(integrator::OrdinaryDiffEq.ODEIntegrator{Tsit5, true, Vector{Float64}, Nothing, Float64, Vector{Float64}, Float64, Float64, Float64, Float64, Vector{Vector{Float64}}, ODESolution{Float64, 2, Vector{Vector{Float64}}, Nothing, Nothing, Vector{Float64}, Vector{Vector{Vector{Float64}}}, ODEProblem{Vector{Float64}, Tuple{Float64, Float64}, true, Vector{Float64}, ODEFunction{true, AlgebraicPetri.var\"#f#23\"{Catlab.CSetDataStructures.AttributedCSet{Catlab.Theories.CatDesc{(:T, :S, :I, :O), (:it, :is, :ot, :os), (3, 3, 4, 4), (1, 2, 1, 2)}, Catlab.Theories.AttrDesc{Catlab.Theories.CatDesc{(:T, :S, :I, :O), (:it, :is, :ot, :os), (3, 3, 4, 4), (1, 2, 1, 2)}, (:Rate, :Concentration), (:rate, :concentration), (1, 2), (1, 2)}, Tuple{Float64, Float64}, (:is, :it, :os, :ot), (), NamedTuple{(:T, :S, :I, :O), Tuple{TypedTables.Table{NamedTuple{(:rate,), Tuple{Float64}}, 1, NamedTuple{(:rate,), Tuple{Vector{Float64}}}}, TypedTables.Table{NamedTuple{(:concentration,), Tuple{Float64}}, 1, NamedTuple{(:concentration,), Tuple{Vector{Float64}}}}, TypedTables.Table{NamedTuple{(:it, :is), Tuple{Int64, Int64}}, 1, NamedTuple{(:it, :is), Tuple{Vector{Int64}, Vector{Int64}}}}, TypedTables.Table{NamedTuple{(:ot, :os), Tuple{Int64, Int64}}, 1, NamedTuple{(:ot, :os), Tuple{Vector{Int64}, Vector{Int64}}}}}}, NamedTuple{(:is, :it, :os, :ot), NTuple{4, Vector{Vector{Int64}}}}}, Matrix{Int64}, TransitionMatrices}, LinearAlgebra.UniformScaling{Bool}, Nothing, Nothing, Nothing, Nothing, Nothing, Nothing, Nothing, Nothing, Nothing, Nothing, Nothing, Nothing, typeof(SciMLBase.DEFAULT_OBSERVED), Nothing}, Base.Iterators.Pairs{Union{}, Union{}, Tuple{}, NamedTuple{(), Tuple{}}}, SciMLBase.StandardODEProblem}, Tsit5, OrdinaryDiffEq.InterpolationData{ODEFunction{true, AlgebraicPetri.var\"#f#23\"{Catlab.CSetDataStructures.AttributedCSet{Catlab.Theories.CatDesc{(:T, :S, :I, :O), (:it, :is, :ot, :os), (3, 3, 4, 4), (1, 2, 1, 2)}, Catlab.Theories.AttrDesc{Catlab.Theories.CatDesc{(:T, :S, :I, :O), (:it, :is, :ot, :os), (3, 3, 4, 4), (1, 2, 1, 2)}, (:Rate, :Concentration), (:rate, :concentration), (1, 2), (1, 2)}, Tuple{Float64, Float64}, (:is, :it, :os, :ot), (), NamedTuple{(:T, :S, :I, :O), Tuple{TypedTables.Table{NamedTuple{(:rate,), Tuple{Float64}}, 1, NamedTuple{(:rate,), Tuple{Vector{Float64}}}}, TypedTables.Table{NamedTuple{(:concentration,), Tuple{Float64}}, 1, NamedTuple{(:concentration,), Tuple{Vector{Float64}}}}, TypedTables.Table{NamedTuple{(:it, :is), Tuple{Int64, Int64}}, 1, NamedTuple{(:it, :is), Tuple{Vector{Int64}, Vector{Int64}}}}, TypedTables.Table{NamedTuple{(:ot, :os), Tuple{Int64, Int64}}, 1, NamedTuple{(:ot, :os), Tuple{Vector{Int64}, Vector{Int64}}}}}}, NamedTuple{(:is, :it, :os, :ot), NTuple{4, Vector{Vector{Int64}}}}}, Matrix{Int64}, TransitionMatrices}, LinearAlgebra.UniformScaling{Bool}, Nothing, Nothing, Nothing, Nothing, Nothing, Nothing, Nothing, Nothing, Nothing, Nothing, Nothing, Nothing, typeof(SciMLBase.DEFAULT_OBSERVED), Nothing}, Vector{Vector{Float64}}, Vector{Float64}, Vector{Vector{Vector{Float64}}}, OrdinaryDiffEq.Tsit5Cache{Vector{Float64}, Vector{Float64}, Vector{Float64}, OrdinaryDiffEq.Tsit5ConstantCache{Float64, Float64}}}, DiffEqBase.DEStats}, ODEFunction{true, AlgebraicPetri.var\"#f#23\"{Catlab.CSetDataStructures.AttributedCSet{Catlab.Theories.CatDesc{(:T, :S, :I, :O), (:it, :is, :ot, :os), (3, 3, 4, 4), (1, 2, 1, 2)}, Catlab.Theories.AttrDesc{Catlab.Theories.CatDesc{(:T, :S, :I, :O), (:it, :is, :ot, :os), (3, 3, 4, 4), (1, 2, 1, 2)}, (:Rate, :Concentration), (:rate, :concentration), (1, 2), (1, 2)}, Tuple{Float64, Float64}, (:is, :it, :os, :ot), (), NamedTuple{(:T, :S, :I, :O), Tuple{TypedTables.Table{NamedTuple{(:rate,), Tuple{Float64}}, 1, NamedTuple{(:rate,), Tuple{Vector{Float64}}}}, TypedTables.Table{NamedTuple{(:concentration,), Tuple{Float64}}, 1, NamedTuple{(:concentration,), Tuple{Vector{Float64}}}}, TypedTables.Table{NamedTuple{(:it, :is), Tuple{Int64, Int64}}, 1, NamedTuple{(:it, :is), Tuple{Vector{Int64}, Vector{Int64}}}}, TypedTables.Table{NamedTuple{(:ot, :os), Tuple{Int64, Int64}}, 1, NamedTuple{(:ot, :os), Tuple{Vector{Int64}, Vector{Int64}}}}}}, NamedTuple{(:is, :it, :os, :ot), NTuple{4, Vector{Vector{Int64}}}}}, Matrix{Int64}, TransitionMatrices}, LinearAlgebra.UniformScaling{Bool}, Nothing, Nothing, Nothing, Nothing, Nothing, Nothing, Nothing, Nothing, Nothing, Nothing, Nothing, Nothing, typeof(SciMLBase.DEFAULT_OBSERVED), Nothing}, OrdinaryDiffEq.Tsit5Cache{Vector{Float64}, Vector{Float64}, Vector{Float64}, OrdinaryDiffEq.Tsit5ConstantCache{Float64, Float64}}, OrdinaryDiffEq.DEOptions{Float64, Float64, Float64, Float64, PIController{Rational{Int64}}, typeof(DiffEqBase.ODE_DEFAULT_NORM), typeof(LinearAlgebra.opnorm), Nothing, CallbackSet{Tuple{}, Tuple{}}, typeof(DiffEqBase.ODE_DEFAULT_ISOUTOFDOMAIN), typeof(DiffEqBase.ODE_DEFAULT_PROG_MESSAGE), typeof(DiffEqBase.ODE_DEFAULT_UNSTABLE_CHECK), DataStructures.BinaryMinHeap{Float64}, DataStructures.BinaryMinHeap{Float64}, Nothing, Nothing, Int64, Tuple{}, Tuple{}, Tuple{}}, Vector{Float64}, Float64, Nothing, OrdinaryDiffEq.DefaultInit})",
      "    @ OrdinaryDiffEq ~/.julia/packages/OrdinaryDiffEq/T2rXL/src/solve.jl:478",
      " [10] #__solve#464",
      "    @ ~/.julia/packages/OrdinaryDiffEq/T2rXL/src/solve.jl:5 [inlined]",
      " [11] #solve_call#56",
      "    @ ~/.julia/packages/DiffEqBase/lULzQ/src/solve.jl:61 [inlined]",
      " [12] #solve_up#58",
      "    @ ~/.julia/packages/DiffEqBase/lULzQ/src/solve.jl:82 [inlined]",
      " [13] #solve#57",
      "    @ ~/.julia/packages/DiffEqBase/lULzQ/src/solve.jl:70 [inlined]",
      " [14] plot_rxnet(data::Dict{String, Any})",
      "    @ Main ./In[11]:5",
      " [15] map(::Function, ::Observable{Dict{String, Any}})",
      "    @ Observables ~/.julia/packages/Observables/Yf3xU/src/Observables.jl:365",
      " [16] top-level scope",
      "    @ In[32]:1",
      " [17] eval",
      "    @ ./boot.jl:360 [inlined]",
      " [18] include_string(mapexpr::typeof(REPL.softscope), mod::Module, code::String, filename::String)",
      "    @ Base ./loading.jl:1094"
     ]
    }
   ],
   "source": [
    "map(plot_rxnet, throttle(0.5, p.handle))"
   ]
  },
  {
   "cell_type": "code",
   "execution_count": 11,
   "id": "elegant-psychiatry",
   "metadata": {},
   "outputs": [
    {
     "data": {
      "text/plain": [
       "plot_rxnet (generic function with 1 method)"
      ]
     },
     "execution_count": 11,
     "metadata": {},
     "output_type": "execute_result"
    }
   ],
   "source": [
    "function plot_rxnet(data)\n",
    "    T = ReactionNet{Float64,Float64};\n",
    "    rxnet = to_acset(from_json(data, SemagramData), p.ws, T);\n",
    "    prob = ODEProblem(vectorfield(rxnet),concentrations(rxnet),(0.0,10.0),rates(rxnet));\n",
    "    sol = solve(prob, Tsit5(), abstol=1e-6);\n",
    "    plot(sol)\n",
    "end"
   ]
  },
  {
   "cell_type": "code",
   "execution_count": null,
   "id": "promising-anniversary",
   "metadata": {},
   "outputs": [],
   "source": [
    "plot_rxnet(p.handle[])"
   ]
  },
  {
   "cell_type": "code",
   "execution_count": null,
   "id": "honey-chest",
   "metadata": {},
   "outputs": [],
   "source": []
  }
 ],
 "metadata": {
  "@webio": {
   "lastCommId": "7edc540f-0c2b-49b5-8d68-d948d62e9822",
   "lastKernelId": "936b50da-2b92-46bb-99f2-5b08316f5e31"
  },
  "kernelspec": {
   "display_name": "Julia 1.6.1",
   "language": "julia",
   "name": "julia-1.6"
  },
  "language_info": {
   "file_extension": ".jl",
   "mimetype": "application/julia",
   "name": "julia",
   "version": "1.6.1"
  }
 },
 "nbformat": 4,
 "nbformat_minor": 5
}
